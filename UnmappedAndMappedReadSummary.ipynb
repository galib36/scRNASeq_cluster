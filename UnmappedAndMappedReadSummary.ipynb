{
 "cells": [
  {
   "cell_type": "code",
   "execution_count": 62,
   "metadata": {
    "collapsed": true
   },
   "outputs": [],
   "source": [
    "import subprocess, os, sys, signal, pip\n",
    "import rpy2\n",
    "from joblib import Parallel, delayed\n",
    "import multiprocessing\n",
    "import threading\n",
    "import time\n",
    "import numpy as np\n",
    "import csv"
   ]
  },
  {
   "cell_type": "code",
   "execution_count": 63,
   "metadata": {
    "collapsed": true
   },
   "outputs": [],
   "source": [
    "# inputFolder : Folder name with all the fastq files\n",
    "intputFolder = '/mnt/fls01-bcf01/ngsdata/Analysis/2016/nextseq/161025_NB500968_0056_AHGCMVAFXX_analysis/Raphael_Thuret/fastqs'\n",
    "\n",
    "# Setting the output folder where all the results would be stored\n",
    "outputFolder = '/mnt/mr01-home01/mqbsxsm2/scratch/Shane_Herbert/output/'"
   ]
  },
  {
   "cell_type": "code",
   "execution_count": 67,
   "metadata": {
    "collapsed": false
   },
   "outputs": [],
   "source": [
    "LogFilePath = outputFolder + 'STAR_output'\n",
    "CellMapSummary = ' Number_of_input_reads Uniquely_mapped_reads_number Percent_Uniquely_Mapped Percent_of_unmapped\\n'\n",
    "for root, folder, files in os.walk(LogFilePath):\n",
    "    files = [os.path.join(root, f) for f in files if (f.endswith('Log.final.out'))]\n",
    "    for f in files:\n",
    "        with open(f,'rt') as LogFile:\n",
    "            for line in LogFile:\n",
    "                if 'Number of input reads' in line:\n",
    "                    CellMapSummary = CellMapSummary + f.split('/')[-1].split('_')[0]+line.split('|')[1].split('%')[0].strip('\\n')                \n",
    "                if 'Uniquely mapped reads number' in line:\n",
    "                    CellMapSummary = CellMapSummary + line.split('|')[1].strip('\\n')\n",
    "                if 'Uniquely mapped reads %' in line:\n",
    "                    CellMapSummary = CellMapSummary + line.split('|')[1].split('%')[0].strip('\\n')\n",
    "                if '% of reads unmapped: too short' in line:\n",
    "                    CellMapSummary = CellMapSummary + line.split('|')[1].split('%')[0] + '\\n'\n",
    "\n",
    "target = open(\"MappingSummary.csv\", 'w')                    \n",
    "target.write(CellMapSummary)\n",
    "target.close()"
   ]
  },
  {
   "cell_type": "code",
   "execution_count": null,
   "metadata": {
    "collapsed": true
   },
   "outputs": [],
   "source": []
  }
 ],
 "metadata": {
  "kernelspec": {
   "display_name": "Python 3",
   "language": "python",
   "name": "python3"
  },
  "language_info": {
   "codemirror_mode": {
    "name": "ipython",
    "version": 3
   },
   "file_extension": ".py",
   "mimetype": "text/x-python",
   "name": "python",
   "nbconvert_exporter": "python",
   "pygments_lexer": "ipython3",
   "version": "3.5.2"
  }
 },
 "nbformat": 4,
 "nbformat_minor": 0
}
