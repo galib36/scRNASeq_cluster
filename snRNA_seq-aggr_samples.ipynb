{
 "cells": [
  {
   "cell_type": "markdown",
   "metadata": {},
   "source": [
    "# Analysis of snRNA-Seq (10x Genomics Platform)\n",
    "\n",
    "## Bioinformatics Core Facility, University of Manchester\n",
    "\n",
    "1. <a href=#section1>Preliminaries</a>\n",
    "2. <a href=#section2>QC analysis of cells and genes</a>\n",
    "3. <a href=#section3>Quality filtering of cells</a>\n",
    "4. <a href=#section4>Classification of cell cycle phase</a>\n",
    "5. <a href=#section5>Marking low-abundance genes</a>\n",
    "6. <a href=#section6>Normalisation of read counts</a>\n",
    "7. <a href=#section7>Identifying genes for feature selection (HVG)</a>\n",
    "8. <a href=#section8>Data integration (donor effect correction)</a>\n",
    "9. <a href=#section9>Dimensionality reduction using HVG</a>\n",
    "10. <a href=#section10>Clustering of cells</a>\n",
    "11. <a href=#section11>Marker gene detection</a>\n",
    "12. <a href=#section12>Cell type annotation</a>"
   ]
  },
  {
   "cell_type": "markdown",
   "metadata": {},
   "source": [
    "# Project summary\n",
    "\n",
    "<div class=\"alert alert-info\">\n",
    "  <strong>About this dataset: </strong> (edits required) <br /><br />\n",
    "  This notebook documents the analysis steps for single nuclei RNA sequencing dataset.\n",
    "  <ul>\n",
    "    <li><strong>Run:</strong> \n",
    "        <ul>\n",
    "            <li>add Run Name 1 (Run ID 1)</li>\n",
    "            <li>add Run Name 2 (Run ID 2)</li>\n",
    "            <li>add Run Name 3 (Run ID 3)</li>\n",
    "            <li>add Run Name 4 (Run ID 4)</li>\n",
    "        </ul>\n",
    "      <li><strong>Cell ranger binary/options:</strong> add Cell Ranger info</li>\n",
    "    <li><strong>Researcher:</strong> add name</li>\n",
    "    <li><strong>PI:</strong> add name</li>\n",
    "    <li><strong>Analyst:</strong> add name</li>\n",
    "    <li><strong>Sample name:</strong> add name</li>\n",
    "  </ul>\n",
    "</div>\n",
    "\n",
    "# Project description\n",
    "\n",
    "<div class=\"alert alert-info\">\n",
    "  edits required.\n",
    "</div>"
   ]
  },
  {
   "cell_type": "markdown",
   "metadata": {},
   "source": [
    "# 1. Preliminaries<a name='section1' />\n",
    "\n",
    "- Set sample name and Cell Ranger HDF5 file path\n",
    "- Load R libraries\n",
    "- Set up colour palettes\n",
    "- Load Cell Ranger outputs to create `SingleCellExperiment` (`sce`) objects\n",
    "- Add log2 counts per million to `sce` object\n",
    "- Estimate ambient contamination\n",
    "\n",
    "## Define sample name and HDF5 path"
   ]
  },
  {
   "cell_type": "code",
   "execution_count": null,
   "metadata": {},
   "outputs": [],
   "source": [
    "# Set sample name\n",
    "sample_name <- c(\"W13\",\"W08_1\",\"W15\",\"W08_2\")\n",
    "\n",
    "# Path to the cellranger aggr filtered HDF5\n",
    "# Can be relative or full path\n",
    "filtered_h5 = \"filtered_feature_bc_matrix.h5\"\n",
    "\n",
    "# Path to the cellranger raw HDF5 for individual sample\n",
    "# Can be relative or full path\n",
    "raw_h5 <- c(\"W13/raw_feature_bc_matrix.h5\", \n",
    "            \"W08_1/raw_feature_bc_matrix.h5\", \n",
    "            \"W15/raw_feature_bc_matrix.h5\", \n",
    "            \"W08_2/raw_feature_bc_matrix.h5\")\n",
    "\n",
    "# Show info\n",
    "data.frame(ID = c(\"aggr\", sample_name), Type = c(\"filtered\", rep(\"raw\", length(sample_name))), \n",
    "           HDF5 = c(filtered_h5, raw_h5))"
   ]
  },
  {
   "cell_type": "markdown",
   "metadata": {},
   "source": [
    "## Load libraries\n",
    "\n",
    "The required R packages are listed below. The packages listed under R-4.0.2 are that available through the `singularity/R4.0.2` image. Additional packaged required but not available through the image are listed separately. \n",
    "\n",
    "The packages `bluster` and `celldex` are only available for R-4.0.3. Therefore you can choose to install them from source packages. \n",
    "\n",
    "- The `plotSilhouette` function used in this workflow will detect if `bluster` is installed and return a warning message if it is not, and will not generate the silhouette plot. \n",
    "- The `celldex` package offers cell type reference datasets that is previously included in `SingleR`. Under R-4.0.2, the `SingleR` will offer these datasets, whereas in R-4.0.3, one must use `celldex` instead. \n",
    "\n",
    "<div class=\"alert alert-warning\">\n",
    "    <strong>Warning!</strong> The <code>batchelor</code> package is required here so that we can use mutual nearest neighbors (MNN) method (<code>fastMNN</code> function) to perform batch correction for multi-sample dataset.\n",
    "</div>"
   ]
  },
  {
   "cell_type": "code",
   "execution_count": null,
   "metadata": {},
   "outputs": [],
   "source": [
    "# R-4.0.2\n",
    "library(cluster)         # silhouette\n",
    "library(ComplexHeatmap)\n",
    "library(cowplot)         # plotColData, plotRowData, plot_grid\n",
    "library(DropletUtils)    # read10xCounts\n",
    "library(dplyr)\n",
    "library(dynamicTreeCut)  # cutreeDynamic\n",
    "library(enrichR)\n",
    "library(ensembldb)\n",
    "library(factoextra)      # fviz_silhouette\n",
    "library(GGally)          # ggpairs\n",
    "library(ggbeeswarm)      # geom_quasirandom\n",
    "library(ggforce)         # gather_set_data\n",
    "library(ggplot2)\n",
    "library(ggrepel)         # geom_text_repel\n",
    "library(HDF5Array)       # saveHDF5SummarizedExperiment\n",
    "library(igraph)          # cluster_walktrap\n",
    "library(KernSmooth)      # smoothScatter\n",
    "library(Rtsne)           # runTSNE\n",
    "library(scales)\n",
    "library(scater)\n",
    "library(scran)\n",
    "library(uwot)            # runUMAP\n",
    "library(viridis)         # scale_color_viridis\n",
    "\n",
    "# Additional required packages but not on CSF3, available for R-4.0.2\n",
    "library(AnnotationHub)      # also installs and load ExperimentHub, interactiveDisplayBase\n",
    "library(batchelor)          # fastMNN, also installs ResidualMatrix\n",
    "library(DelayedMatrixStats) # rowMeans2 and rowVars\n",
    "library(PCAtools)           # findElbowPoint\n",
    "library(pheatmap)\n",
    "library(SingleR)\n",
    "\n",
    "# Additional required packages but not on CSF3, available for R-4.0.3\n",
    "# Need to install from source: install.packages(\"package.tar.gz\", repos = NULL, type=\"source\")\n",
    "# Not loading them now, will call them when using the required functions later\n",
    "#library(bluster)         # approxSilhouette\n",
    "#library(celldex)         # Pokédex for Cell Types (datasets were part of SingleR in old version)\n",
    "\n",
    "# Load tidyverse last to generate tidyverse conflicts report\n",
    "library(tidyverse)"
   ]
  },
  {
   "cell_type": "markdown",
   "metadata": {},
   "source": [
    "### Set default options"
   ]
  },
  {
   "cell_type": "code",
   "execution_count": null,
   "metadata": {},
   "outputs": [],
   "source": [
    "# Set output window width\n",
    "default.ww <- 80 # getOption(\"width\")\n",
    "options(width = 110)\n",
    "\n",
    "# Set output image size\n",
    "default.w <- 10   # repr.plot.width\n",
    "default.h <- 7    # repr.plot.height\n",
    "default.r <- 120  # repr.plot.res\n",
    "\n",
    "# Function to reset figure size with default settings\n",
    "reset.fig <- function() { \n",
    "    options(repr.plot.width = default.w, \n",
    "            repr.plot.height = default.h, \n",
    "            repr.plot.res = default.r) \n",
    "}\n",
    "\n",
    "reset.fig()\n",
    "\n",
    "# Function to set figure size\n",
    "fig <- function(width = default.w, height = default.h, res = default.r){\n",
    "     options(repr.plot.width = width, \n",
    "             repr.plot.height = height, \n",
    "             repr.plot.res = res)\n",
    "}"
   ]
  },
  {
   "cell_type": "code",
   "execution_count": null,
   "metadata": {},
   "outputs": [],
   "source": [
    "# Perform the calculation across multiple cores\n",
    "bpp <- BiocParallel::MulticoreParam(workers = nthreads)"
   ]
  },
  {
   "cell_type": "markdown",
   "metadata": {},
   "source": [
    "## Set up colour palette\n",
    "\n",
    "[This](https://mokole.com/palette.html) palette generator was used to create a 30-colour palette."
   ]
  },
  {
   "cell_type": "code",
   "execution_count": null,
   "metadata": {},
   "outputs": [],
   "source": [
    "#cbPalette <- paletteer_d(package = \"ggthemes\", palette=\"calc\", n=12)\n",
    "c30 <- c(\n",
    "        \"#7f0000\", # maroon2\n",
    "        \"#006400\", # darkgreen\n",
    "        \"#808000\", # olive\n",
    "        \"#483d8b\", # darkslateblue\n",
    "        \"#008b8b\", # darkcyan\n",
    "        \"#cd853f\", # peru\n",
    "        \"#4682b4\", # steelblue\n",
    "        \"#00008b\", # darkblue\n",
    "        \"#8fbc8f\", # darkseagreen\n",
    "        \"#800080\", # purple\n",
    "        \"#b03060\", # maroon3\n",
    "        \"#ff0000\", # red\n",
    "        \"#ff8c00\", # darkorange\n",
    "        \"#cdcd00\", # yellow3\n",
    "        \"#00ff00\", # lime\n",
    "        \"#8a2be2\", # blueviolet\n",
    "        \"#00ff7f\", # springgreen\n",
    "        \"#dc143c\", # crimson\n",
    "        \"#00ffff\", # aqua\n",
    "        \"#0000ff\", # blue\n",
    "        \"#f08080\", # lightcoral\n",
    "        \"#adff2f\", # greenyellow\n",
    "        \"#da70d6\", # orchid\n",
    "        \"#ff00ff\", # fuchsia\n",
    "        \"#1e90ff\", # dodgerblue\n",
    "        \"#f0e68c\", # khaki\n",
    "        \"#90ee90\", # lightgreen\n",
    "        \"#ff1493\", # deeppink\n",
    "        \"#696969\", # dimgray\n",
    "        \"#dcdcdc\"  # gainsboro\n",
    ")\n",
    " \n",
    "pie(rep(1,30), col = c30, radius = 1)"
   ]
  },
  {
   "cell_type": "code",
   "execution_count": null,
   "metadata": {},
   "outputs": [],
   "source": [
    "# Choosing colours for samples\n",
    "c_sample_col <- c30[c(1,4,5,6)]\n",
    "c_sample_col <- setNames(c_sample_col, sample_name)\n",
    "c_sample_col\n",
    "\n",
    "# Choosing colour for clusters\n",
    "c_clust_col <- c30\n",
    "c_clust_col <- setNames(c_clust_col, as.character(1:30))\n",
    "c_clust_col\n",
    "\n",
    "# Choosing colour for cell cycle phases\n",
    "c_phase_col <- setNames(c30[c(18,15,20)], c(\"G1\", \"S\", \"G2M\"))\n",
    "c_phase_col"
   ]
  },
  {
   "cell_type": "markdown",
   "metadata": {},
   "source": [
    "## Importing Cell Ranger data\n",
    "\n",
    "We will use `read10xCounts` from `DropletUtils` package to read the UMI counts produced by Cell Ranger and automatically generate a `sce` object. The **HDF5** format enables out-of-core computation.\n",
    "\n",
    "<div class=\"alert alert-info\">\n",
    "  <strong>Info!</strong> Requires filtered HDF5 file (filtered_feature_bc_matrix.h5).\n",
    "</div>"
   ]
  },
  {
   "cell_type": "code",
   "execution_count": null,
   "metadata": {},
   "outputs": [],
   "source": [
    "if(packageVersion(\"DropletUtils\") == \"1.8.0\") {\n",
    "    cdSc <- read10xCounts(filtered_h5, col.names = TRUE) # column named with the cell barcodes\n",
    "} else {\n",
    "    cdSc <- read10xCounts(filtered_h5, col.names = TRUE, # column named with the cell barcodes\n",
    "                          BPPARAM = bpp) # parallelized for multiple samples\n",
    "}\n",
    "cdSc"
   ]
  },
  {
   "cell_type": "code",
   "execution_count": null,
   "metadata": {},
   "outputs": [],
   "source": [
    "# Use the Barcode suffix to determine Sample ID\n",
    "cdSc$Sample <- gsub(\"^[A-Z]*-\", \"\", cdSc$Barcode)\n",
    "\n",
    "# Change sample from character to factor type\n",
    "cdSc$Sample <- factor(cdSc$Sample)\n",
    "levels(cdSc$Sample) <- sample_name\n",
    "\n",
    "# Use uniquifyFeatureNames to make feature names unique\n",
    "rownames(cdSc) <- uniquifyFeatureNames(rowData(cdSc)$ID, rowData(cdSc)$Symbol)"
   ]
  },
  {
   "cell_type": "markdown",
   "metadata": {},
   "source": [
    "Print number of cells in each sample."
   ]
  },
  {
   "cell_type": "code",
   "execution_count": null,
   "metadata": {},
   "outputs": [],
   "source": [
    "print(\"Number of cells in each sample:\")\n",
    "table(cdSc$Sample)"
   ]
  },
  {
   "cell_type": "markdown",
   "metadata": {},
   "source": [
    "## Add SEQNAME to gene information\n",
    "\n",
    "Here, we make use of `AnnotationHub` to add SEQNAME (chromosome) annotation from Ensembl DB."
   ]
  },
  {
   "cell_type": "code",
   "execution_count": null,
   "metadata": {},
   "outputs": [],
   "source": [
    "# Create an AnnotationHub object\n",
    "ah = AnnotationHub()\n",
    "\n",
    "# To display Human EnsDb if required\n",
    "#hs <- query(ah, c(\"EnsDb\", \"Ensembl\", \"Homo sapiens\"))\n",
    "#hs\n",
    "\n",
    "# To display Mouse EnsDb if required\n",
    "#mm <- query(ah, c(\"EnsDb\", \"Ensembl\", \"Mus musculus\"))\n",
    "#mm"
   ]
  },
  {
   "cell_type": "code",
   "execution_count": null,
   "metadata": {},
   "outputs": [],
   "source": [
    "# Select the EnsDb corresponds to the correct Reference Package used by Cell Ranger \n",
    "#  3.0.0: AH64446 | Ensembl 93 EnsDb for Homo Sapiens\n",
    "#  3.0.0: AH64461 | Ensembl 93 EnsDb for Mus musculus\n",
    "# 2020-A: AH75011 | Ensembl 98 EnsDb for Homo sapiens\n",
    "# 2020-A: AH75036 | Ensembl 98 EnsDb for Mus musculus\n",
    "\n",
    "ens <- AnnotationHub()[[\"AH64446\"]]"
   ]
  },
  {
   "cell_type": "code",
   "execution_count": null,
   "metadata": {},
   "outputs": [],
   "source": [
    "# Add SEQNAME\n",
    "rowData(cdSc)$SEQNAME <- mapIds(ens, keys = rowData(cdSc)$ID, keytype = \"GENEID\", column = \"SEQNAME\")\n",
    "\n",
    "# Number of genes in each chromosome\n",
    "table(rowData(cdSc)$SEQNAME)"
   ]
  },
  {
   "cell_type": "markdown",
   "metadata": {},
   "source": [
    "Access the count matrix, which is a `DelayedMatrix` class for HDF5 dataset."
   ]
  },
  {
   "cell_type": "code",
   "execution_count": null,
   "metadata": {},
   "outputs": [],
   "source": [
    "# The rows are genes and columns are cells.\n",
    "counts(cdSc)[1:5,1:5] # same as assay(cdSc, \"counts\")"
   ]
  },
  {
   "cell_type": "markdown",
   "metadata": {},
   "source": [
    "## Add log2 counts per million\n",
    "\n",
    "This normalises based on all cells in the `sce` object prior to any QC filtering. Normalisation will be performed again on the filtered `sce` object later."
   ]
  },
  {
   "cell_type": "code",
   "execution_count": null,
   "metadata": {},
   "outputs": [],
   "source": [
    "# This normalises prior to any QC filtering. So gets redone, but sometimes requested.\n",
    "logcounts(cdSc) <- log2(calculateCPM(cdSc) + 1)\n",
    "\n",
    "# A new \"logcounts\" assay is added\n",
    "cdSc"
   ]
  },
  {
   "cell_type": "markdown",
   "metadata": {},
   "source": [
    "__Normalisation notes__ Syed note about an older version of scater which automatically normalised the counts in its \"log10counts\". Not doing that at the moment.\n",
    "Here we use log2-counts-per-million with an offset of 1 as the expression values. We have to note that the CPM for scater is different than the regular CPM calculation as we are considering the step-size here. \n",
    "\n",
    "The value of the log-CPMs is explained by adding a prior count to avoid undefined values after the log-transformation, multiplying by a million, and dividing by the mean library size. This size factors are used to define the effective library sizes. This is done by scaling all size factors such that the mean scaled size factor is equal to the mean sum of counts across all features. The effective library sizes are then used to in the denominator of the CPM calculation. The way that `scater` calculates the log-normalized counts are\n",
    "\n",
    "```\n",
    "lib.sizes <- colSums(counts(example_sceset))\n",
    "lib.sizes <- lib.sizes/mean(lib.sizes)\n",
    "log2(counts(example_sceset)[1,]/lib.sizes+1)\n",
    "```"
   ]
  },
  {
   "cell_type": "markdown",
   "metadata": {},
   "source": [
    "## Estimate ambient contamination\n",
    "\n",
    "Ambient contamination is a phenomenon that is generally most pronounced in massively multiplexed scRNA-seq protocols. Briefly, extracellular RNA (most commonly released upon cell lysis) is captured along with each cell in its reaction chamber, contributing counts to genes that are not otherwise expressed in that cell.\n",
    "\n",
    "If our snRNA-seq libraries are of high quality, we can assume that any mitochondrial “expression” is due to contamination from the ambient solution. Below we use the `controlAmbience` function from `DropletUtils` package to estimate the proportion of ambient contamination for each gene.\n",
    "\n",
    "<div class=\"alert alert-warning\">\n",
    "    <strong>Warning!</strong> The <code>DropletUtils</code> used here is v1.10.1. From v1.11.7 onwards, the <code>emptyDrops</code> and <code>estimateAmbience</code> functions  is updated/changed which will improve the speed a lot. The <code>estimateAmbience</code> function will be soft-deprecated, and replaced by <code>ambientProfileEmpty</code>. <strong>This section of the code will need to be changed in the future.</strong>\n",
    "</div>\n",
    "\n",
    "### Create pseudo-bulk expression profiles\n",
    "\n",
    "We create the pseudo-bulk expression profiles by summing counts together for all cells from the same sample.\n",
    "\n",
    "<div class=\"alert alert-info\">\n",
    "  <strong>Info!</strong> The pseudo-bulk expression calculation uses the filtered sce object (<code>cdSc</code>).\n",
    "</div>"
   ]
  },
  {
   "cell_type": "code",
   "execution_count": null,
   "metadata": {},
   "outputs": [],
   "source": [
    "summed.cdSc <- aggregateAcrossCells(cdSc, ids = cdSc$Sample, BPPARAM = bpp)\n",
    "summed.cdSc"
   ]
  },
  {
   "cell_type": "markdown",
   "metadata": {},
   "source": [
    "### Load HDF5 and estimate the ambient profile\n",
    "\n",
    "<div class=\"alert alert-warning\">\n",
    "    <strong>Warning!</strong> Using <code>DelayedMatrix</code> object as input is extremely slow when running <code>estimateAmbience</code>. Here we convert count matrix from <code>DelayedMatrix</code> to <code>dgCMatrix</code> class first before analysis.\n",
    "</div>"
   ]
  },
  {
   "cell_type": "code",
   "execution_count": null,
   "metadata": {},
   "outputs": [],
   "source": [
    "ambient <- vector(\"list\", ncol(summed.cdSc))\n",
    "\n",
    "for (s in seq_along(ambient)) {\n",
    "    print(paste(\"Sample:\", sample_name[s]))\n",
    "    \n",
    "    # Load HDF5\n",
    "    # Adding colnames to sce (col.names = TRUE) is very important in speeding up the as() operation below\n",
    "    sce <- read10xCounts(raw_h5[s], sample.names = sample_name[s], col.names = TRUE)\n",
    "    print(sce)\n",
    "    \n",
    "    sce$Sample <- factor(sce$Sample)\n",
    "    rownames(sce) <- uniquifyFeatureNames(rowData(sce)$ID, rowData(sce)$Symbol)\n",
    "    \n",
    "    # Convert DelayedMatrix to dgCMatrix for massive speed gain\n",
    "    mat <- as(counts(sce, withDimnames = FALSE), \"dgCMatrix\")\n",
    "    rownames(mat) <- rownames(sce)\n",
    "\n",
    "    # Estimate the transcript proportions in the ambient solution\n",
    "    ambient[[s]] <- estimateAmbience(mat, round = FALSE, good.turing = FALSE)\n",
    "    print(summary(ambient[[s]]))\n",
    "    flush.console() # Ensures display of output is current\n",
    "}\n",
    "\n",
    "# Cleaning up the output for pretty printing\n",
    "ambient <- do.call(cbind, ambient)\n",
    "colnames(ambient) <- seq_len(ncol(ambient))\n",
    "head(ambient)"
   ]
  },
  {
   "cell_type": "markdown",
   "metadata": {},
   "source": [
    "### Estimate the ambient contribution from controls\n",
    "\n",
    "Control features should be those that cannot be expressed and thus fully attributable to ambient contamination. For single-nuclei sequencing, mitochondrial transcripts are used as control features under the assumption that all high-quality libraries are stripped nuclei."
   ]
  },
  {
   "cell_type": "code",
   "execution_count": null,
   "metadata": {},
   "outputs": [],
   "source": [
    "# Add missing functions if DropletUtils is too old\n",
    "if(packageVersion(\"DropletUtils\") == \"1.8.0\") {\n",
    "    controlAmbience <- function(y, ambient, features, mode=c(\"scale\", \"profile\", \"proportion\")) {\n",
    "        if (is.null(dim(y))) {\n",
    "            y <- cbind(y)\n",
    "        }\n",
    "        if (is.null(dim(ambient))) {\n",
    "            ambient <- matrix(ambient, nrow(y), ncol(y), dimnames = list(names(ambient), NULL))\n",
    "        }\n",
    "        if (!identical(rownames(y), rownames(ambient))) {\n",
    "            warning(\"'y' and 'ambient' do not have the same row names\")\n",
    "        }\n",
    "\n",
    "        if (!is.list(features)) {\n",
    "            features <- list(features)\n",
    "        } \n",
    "        sum.y <- sumCountsAcrossFeatures(y, features)\n",
    "        sum.a <- sumCountsAcrossFeatures(ambient, features)\n",
    "        props <- sum.y/sum.a\n",
    "        scaling <- apply(props, 2, min)\n",
    "\n",
    "        mode <- match.arg(mode)\n",
    "        if (mode == \"scale\") {\n",
    "            scaling\n",
    "        } else {\n",
    "            scaled.ambient <- t(t(ambient) * scaling)\n",
    "            if (mode == \"profile\") {\n",
    "                scaled.ambient\n",
    "            } else {\n",
    "                .clean_amb_props(scaled.ambient, y)\n",
    "            }\n",
    "        }\n",
    "    }\n",
    "    \n",
    "    .clean_amb_props <- function(s, y) {\n",
    "        p <- s/y\n",
    "        p[p > 1] <- 1\n",
    "        p[y == 0] <- NaN # for fairness's sake.\n",
    "        p\n",
    "    }\n",
    "}"
   ]
  },
  {
   "cell_type": "code",
   "execution_count": null,
   "metadata": {},
   "outputs": [],
   "source": [
    "nuclei <- counts(summed.cdSc) # pseudo-bulk expression\n",
    "is.mito <- rowData(cdSc)$SEQNAME == \"MT\"\n",
    "\n",
    "# Estimate the proportion of ambient contamination for each gene\n",
    "contam <- controlAmbience(nuclei, ambient, features = is.mito,  mode = \"proportion\")\n",
    "head(contam)\n",
    "\n",
    "summary(rowMeans(as.matrix(contam), na.rm = TRUE))"
   ]
  },
  {
   "cell_type": "markdown",
   "metadata": {},
   "source": [
    "We create a plot to show the percentage of counts in the nuclei that are attributed to contamination from the ambient solution. Each point represents a gene and mitochondrial genes are highlighted in red."
   ]
  },
  {
   "cell_type": "code",
   "execution_count": null,
   "metadata": {},
   "outputs": [],
   "source": [
    "# Percentage of counts in the nuclei of the dataset that are attributed to contamination from the ambient solution.\n",
    "# Each point represents a gene and mitochondrial genes are highlighted in red.\n",
    "plot(log10(nuclei+1), contam*100, col = ifelse(is.mito, \"red\", \"grey\"), pch = 16, \n",
    "     xlab = \"Log-nuclei expression\", ylab = \"Contamination (%)\")"
   ]
  },
  {
   "cell_type": "code",
   "execution_count": null,
   "metadata": {},
   "outputs": [],
   "source": [
    "# Show mito gene estimates\n",
    "as.data.frame(contam[is.mito,]) %>% \n",
    "    add_column(rowMeans = rowMeans(as.data.frame(contam[is.mito,]), na.rm = TRUE)) %>%\n",
    "    arrange(rowMeans)\n",
    "\n",
    "# Set lowest mean mito gene estimate as cutoff\n",
    "contam.cutoff <- as.data.frame(contam[is.mito,]) %>% \n",
    "    add_column(rowMeans = rowMeans(as.data.frame(contam[is.mito,]), na.rm = TRUE)) %>%\n",
    "    arrange(rowMeans) %>% pull(rowMeans) %>% head(1)\n",
    "print(paste(\"Ambient contamination cutoff:\", round(contam.cutoff, 4)))\n",
    "\n",
    "# Keep genes in which less than N% of the counts are ambient-derived\n",
    "non.ambient <- rowMeans(as.data.frame(contam), na.rm = TRUE) < contam.cutoff\n",
    "summary(non.ambient)\n",
    "\n",
    "okay.genes <- names(non.ambient)[which(non.ambient)]\n",
    "print(paste(\"Number of genes passed the ambient contamination cutoff:\", length(okay.genes)))"
   ]
  },
  {
   "cell_type": "markdown",
   "metadata": {},
   "source": [
    "\n",
    "# 2. QC analysis of cells and genes<a name='section2' />\n",
    "\n",
    "__View information related with cells using:__ `colData(cdSc)`\n",
    "\n",
    "__View information related with genes using:__ `rowData(cdSc)`"
   ]
  },
  {
   "cell_type": "markdown",
   "metadata": {},
   "source": [
    "### Define mitochondrial genes "
   ]
  },
  {
   "cell_type": "code",
   "execution_count": null,
   "metadata": {},
   "outputs": [],
   "source": [
    "## Works on both Mouse & Human\n",
    "#is.mito <- grepl(\"^MT-|^mt-\", rowData(cdSc)$Symbol)\n",
    "\n",
    "is.mito <- rowData(cdSc)$SEQNAME == \"MT\"\n",
    "rowData(cdSc)$is_mito <- is.mito\n",
    "\n",
    "print(paste(\"Number of annotated mitochondrial genes =\", sum(is.mito)))"
   ]
  },
  {
   "cell_type": "code",
   "execution_count": null,
   "metadata": {},
   "outputs": [],
   "source": [
    "rowData(cdSc)$Symbol[is.mito]"
   ]
  },
  {
   "cell_type": "markdown",
   "metadata": {},
   "source": [
    "### Add QC metrics"
   ]
  },
  {
   "cell_type": "code",
   "execution_count": null,
   "metadata": {},
   "outputs": [],
   "source": [
    "# Add Cell QC\n",
    "if(packageVersion(\"scater\") == \"1.16.2\") {\n",
    "    cdSc <- addPerCellQC(cdSc, subsets = list(Mt = is.mito), BPPARAM = bpp)\n",
    "} else {\n",
    "    cdSc <- addPerCellQC(cdSc, percent.top = c(50, 100, 200, 500), subsets = list(Mt = is.mito), BPPARAM = bpp)\n",
    "}\n",
    "colData(cdSc)$log10GenesPerUMI <- log10(colData(cdSc)$detected+1) / log10(colData(cdSc)$sum+1)\n",
    "\n",
    "# Mark potentially problematic genes due to ambient contamination\n",
    "rowData(cdSc)$is_ambient <- !rownames(cdSc) %in% okay.genes\n",
    "\n",
    "# Add feature QC\n",
    "cdSc <- addPerFeatureQC(cdSc, detection_limit = 0, BPPARAM = bpp)\n",
    "rowData(cdSc)$n_cells_by_counts <- rowData(cdSc)$detected/100 * ncol(cdSc)\n",
    "rowData(cdSc)$pct_dropout <- 100 - rowData(cdSc)$detected"
   ]
  },
  {
   "cell_type": "markdown",
   "metadata": {},
   "source": [
    "#### View information related with cells\n",
    "\n",
    "We will use `colData()` function to access the metadata related with cells.\n",
    "\n",
    "**Notes on `colData()` elements**\n",
    "\n",
    "- sum - total number of UMIs\n",
    "- detected - number of genes detected above detection limit (default 0)\n",
    "- percent.top_XX - percentage of each cell's count sum assigned to each subset\n",
    "- subsets_Mt_sum - number of UMIs mapped to mitochondrial genes\n",
    "- subsets_Mt_detected - number of mitochondrial genes detected (for human: range from 0 ~ 13 genes)\n",
    "- subsets_Mt_percent - percentage of each cell's count sum assigned to mitochondrial genes\n",
    "- log10GenesPerUMI - genes detected per UMI"
   ]
  },
  {
   "cell_type": "code",
   "execution_count": null,
   "metadata": {},
   "outputs": [],
   "source": [
    "#Checks: should  13 columns (used to be 12, added log10GenesPerUMI)\n",
    "print(paste(\"Number of columns in colData =\", length(names(colData(cdSc)))))\n",
    "\n",
    "head(colData(cdSc), 5)"
   ]
  },
  {
   "cell_type": "markdown",
   "metadata": {},
   "source": [
    "#### View information related with genes\n",
    "\n",
    "We use `rowData()` function to access the metadata related with genes.\n",
    "\n",
    "**Notes on `rowData()` elements**\n",
    "\n",
    "- is_mito - mitochondrial genes\n",
    "- is_ambient - genes affected by ambient contamination\n",
    "- mean - mean counts for each genes across all cells\n",
    "- detected - percentage of cells a gene is detected above detection limit (default 0)\n",
    "- n_cells_by_counts - number of cells a gene detected\n",
    "- pct_dropout - percentage of dropouts, i.e. `1 - detected` \n",
    "\n",
    "*Dropouts are statistical negatives, could be true negatives or false negatives (not detected properly)*"
   ]
  },
  {
   "cell_type": "code",
   "execution_count": null,
   "metadata": {},
   "outputs": [],
   "source": [
    "#Checks: should 10 (used to be 7, nowadded SEQNAME, is_mito and is_ambient)\n",
    "print(paste(\"Number of columns in rowData =\", length(names(rowData(cdSc)))))\n",
    "\n",
    "head(rowData(cdSc), 5)"
   ]
  },
  {
   "cell_type": "markdown",
   "metadata": {},
   "source": [
    "## Plots on cell QC metrics\n",
    "\n",
    "Low-quality cells need to be identified and removed to ensure that the technical effects do not distort downstream analysis results. Three common measures of cell quality are:\n",
    "\n",
    "- the total number of UMIs or __library size__ per cell\n",
    "- the __number of detectable features (i.e. genes)__ in each cell library\n",
    "- proportion of __mitochondrial genes__ in each cell library\n",
    "\n",
    "The __library size__ is defined as the total sum of UMIs across all genes. Cells with relatively small library sizes are considered to be of low quality as the RNA has not been efficiently captured (i.e., converted into cDNA and amplified) during library preparation. \n",
    "\n",
    "The __number of detectable genes__ in each cell is defined as the number of genes above detection limit (default is with non-zero counts) for that cell. Any cell with very few expressed genes is likely to be of poor quality as the diverse transcript population has not been successfully captured. \n",
    "\n",
    "High proportions of reads mapping to __mitochondrial genes__ are indicative of poor-quality cells ([Ilicic et al., 2016](https://f1000research.com/articles/5-2122/v2#ref-14); [Islam et al., 2014](https://f1000research.com/articles/5-2122/v2#ref-16)), possibly because of increased apoptosis and/or loss of cytoplasmic RNA from lysed cells. "
   ]
  },
  {
   "cell_type": "markdown",
   "metadata": {},
   "source": [
    "Below are different plots to visualise the summary statistics."
   ]
  },
  {
   "cell_type": "code",
   "execution_count": null,
   "metadata": {},
   "outputs": [],
   "source": [
    "# Print library size summary\n",
    "summary(colData(cdSc)$sum)\n",
    "\n",
    "# Plot histogram\n",
    "ggplot(as.data.frame(colData(cdSc)), aes(x = sum, fill = Sample)) + \n",
    "    geom_histogram(color = \"white\", alpha = 0.6, size = 0.3, bins = 50) +\n",
    "    scale_x_continuous(labels = unit_format(unit = \"K\", scale = 1e-3)) +\n",
    "    scale_fill_manual(values = c_sample_col) + \n",
    "    guides(fill = guide_legend(override.aes = list(alpha = 1))) +\n",
    "    theme_classic(base_size = 20) +\n",
    "    labs(x = \"Library size\", y = \"Number of cells\", title = \"Histogram of library size\")"
   ]
  },
  {
   "cell_type": "code",
   "execution_count": null,
   "metadata": {},
   "outputs": [],
   "source": [
    "# Print detected genes summary\n",
    "summary(colData(cdSc)$detected)\n",
    "\n",
    "# Plot histogram\n",
    "ggplot(as.data.frame(colData(cdSc)), aes(x = detected, fill = Sample)) +\n",
    "    geom_histogram(color = \"white\", alpha = 0.6, size = 0.3, bins = 50) +\n",
    "    scale_x_continuous(labels = unit_format(unit = \"K\", scale = 1e-3)) +\n",
    "    scale_fill_manual(values = c_sample_col) + \n",
    "    guides(fill = guide_legend(override.aes = list(alpha = 1))) +\n",
    "    theme_classic(base_size = 20) +\n",
    "    labs(x = \"Number of detected genes\", y = \"Number of cells\", title = \"Histogram of detected genes\")"
   ]
  },
  {
   "cell_type": "code",
   "execution_count": null,
   "metadata": {},
   "outputs": [],
   "source": [
    "# Print mitochondrial proportion summary\n",
    "summary(colData(cdSc)$subsets_Mt_percent)\n",
    "\n",
    "print(\"Number of cells with 0% mitochondrial content:\")\n",
    "data.frame(Sample = colData(cdSc)$Sample, ZeroMito = colData(cdSc)$subsets_Mt_percent == 0) %>%\n",
    "    count(Sample, ZeroMito, name = \"Count\") %>% group_by(Sample) %>% \n",
    "    mutate(Percentage = round(prop.table(Count)*100, 2))\n",
    "\n",
    "# Plot histogram\n",
    "ggplot(as.data.frame(colData(cdSc)), aes(x = subsets_Mt_percent, fill = Sample)) +\n",
    "    geom_histogram(color = \"white\", alpha = 0.6, size = 0.3, bins = 50) +\n",
    "    scale_fill_manual(values = c_sample_col) + \n",
    "    guides(fill = guide_legend(override.aes = list(alpha = 1))) +\n",
    "    theme_classic(base_size = 20) +\n",
    "    labs(x = \"Mitochondrial proportion (%)\", y = \"Number of cells\", \n",
    "         title = \"Histogram of Mitochondrial proportion\")"
   ]
  },
  {
   "cell_type": "markdown",
   "metadata": {},
   "source": [
    "In snRNA-seq data, the loss of the cytoplasm means that the stripped nuclei should not contain any mitochondrial transcripts. High-quality nuclei __should not contain any mitochondrial transcripts__; the presence of any mitochondrial counts in a library indicates that the removal of the cytoplasm was not complete, possibly introducing irrelevant heterogeneity in downstream analyses.\n",
    "\n",
    "__For scRNA-seq:__\n",
    "\n",
    "- A mean below 10% is very good.\n",
    "- A mean above 25% is no good."
   ]
  },
  {
   "cell_type": "markdown",
   "metadata": {},
   "source": [
    "<div class=\"alert alert-info\">\n",
    "  <strong>About this dataset: </strong> (edits required)\n",
    "  <ul>\n",
    "    <li>Most of the cells in this dataset have incompletely stripped nuclei.</li>\n",
    "    <li>We will perform filtering to remove cells with high mitochondrial proportion.</li>\n",
    "  </ul>\n",
    "</div>"
   ]
  },
  {
   "cell_type": "markdown",
   "metadata": {},
   "source": [
    "### Novelty\n",
    "\n",
    "Visualise the overall novelty of the gene expression by showing log10 genes detected per UMI against number of cells. Generally, we expect the novelty score to be above 0.80."
   ]
  },
  {
   "cell_type": "code",
   "execution_count": null,
   "metadata": {},
   "outputs": [],
   "source": [
    "# Print Novelty summary\n",
    "summary(colData(cdSc)$log10GenesPerUMI)\n",
    "\n",
    "# Plot histogram\n",
    "ggplot(as.data.frame(colData(cdSc)), aes(x = log10GenesPerUMI, fill = Sample)) +\n",
    "    geom_histogram(color = \"white\", alpha = 0.6, size = 0.3, bins = 50) +\n",
    "    scale_fill_manual(values = c_sample_col) + \n",
    "    guides(fill = guide_legend(override.aes = list(alpha = 1))) +\n",
    "    theme_classic(base_size = 20) +\n",
    "    labs(x = \"log10 nGene per log10 nUMI\", y = \"Number of cells\", \n",
    "         title = \"Histogram of complexity of RNA species\")"
   ]
  },
  {
   "cell_type": "markdown",
   "metadata": {},
   "source": [
    "<div class=\"alert alert-warning\">\n",
    "    <strong>Warning!</strong> There were issues with the colour mapping args with the old <code>scater</code> installed on CSF3, a function <code>oldScaterPlotFix</code> was created to fix plots created with <code>plotColData</code>, <code>plotRowData</code> and <code>plotReducedDim</code>.\n",
    "</div>"
   ]
  },
  {
   "cell_type": "code",
   "execution_count": null,
   "metadata": {},
   "outputs": [],
   "source": [
    "# Fix old scater's plot_central() issues with the colour mapping arg\n",
    "oldScaterPlotFix <- function(p) {\n",
    "    if(packageVersion(\"scater\") == \"1.16.2\") {\n",
    "        # edit layer\n",
    "        d <- data.frame(i = integer(), j = integer(), aesthetics = character())\n",
    "        for(i in seq_len(length(p$layers))) {\n",
    "            for(j in seq_len(length(names(p$layers[[i]]$mapping)))) {\n",
    "                d <- rbind(d, data.frame(i = i, j = j, aes = names(p$layers[[i]]$mapping[j])))\n",
    "            }\n",
    "        }\n",
    "        # If colour is not present, change fill to colour\n",
    "        if(nrow(d[grep(\"colour\", d$aes),]) == 0) {\n",
    "            i <- d[grep(\"fill\", d$aes),]$i\n",
    "            j <- d[grep(\"fill\", d$aes),]$j\n",
    "            names(p$layers[[i]]$mapping)[j] <- \"colour\"\n",
    "            p$layers[[i]]$aes_params[['colour']] <- NULL\n",
    "            p$layers[[i]]$aes_params[['fill']] <- \"grey20\"\n",
    "            p$layers[[i]]$aes_params[['shape']] <- p$layers[[i]]$geom$default_aes[['shape']]\n",
    "        }\n",
    "    \n",
    "        # edit scales\n",
    "        d <- data.frame(i = integer(), j = integer(), aesthetics = character())\n",
    "        for(i in seq_len(length(p$scales$scales))) {\n",
    "            for(j in seq_len(length(p$scales$scales[[i]]$aesthetics))) {\n",
    "                d <- rbind(d, data.frame(i = i, j = j, aes = p$scales$scales[[i]]$aesthetics[j]))\n",
    "            }\n",
    "        }\n",
    "        # If colour is not present, change fill to colour\n",
    "        if(nrow(d[grep(\"colour\", d$aes),]) == 0) {\n",
    "            i <- d[grep(\"fill\", d$aes),]$i\n",
    "            j <- d[grep(\"fill\", d$aes),]$j\n",
    "            p$scales$scales[[i]]$aesthetics[j] <- \"colour\"\n",
    "        }\n",
    "    }\n",
    "    p\n",
    "}"
   ]
  },
  {
   "cell_type": "code",
   "execution_count": null,
   "metadata": {},
   "outputs": [],
   "source": [
    "p <- plotColData(cdSc, x = \"sum\", y = \"detected\", colour_by = \"Sample\", other_fields = \"Sample\", \n",
    "                 point_alpha = 0.3, theme_size = 20) +\n",
    "    facet_wrap(~ Sample) +\n",
    "    scale_x_continuous(labels = unit_format(unit = \"K\", scale = 1e-3)) +\n",
    "    scale_color_manual(values = c_sample_col) + theme(legend.position = \"none\") +\n",
    "    labs(x = \"Library size\", y = \"Number of detected genes\")\n",
    "\n",
    "fig(width = 16, height = 8)\n",
    "oldScaterPlotFix(p)\n",
    "reset.fig()"
   ]
  },
  {
   "cell_type": "code",
   "execution_count": null,
   "metadata": {},
   "outputs": [],
   "source": [
    "p <- plotColData(cdSc, x = \"sum\", y = \"subsets_Mt_percent\", colour_by = \"Sample\", other_fields = \"Sample\", \n",
    "                 point_alpha = 0.3, theme_size = 20) +\n",
    "    facet_wrap(~ Sample) +\n",
    "    scale_x_continuous(labels = unit_format(unit = \"K\", scale = 1e-3)) +\n",
    "    scale_color_manual(values = c_sample_col) + theme(legend.position = \"none\") +\n",
    "    labs(x = \"Library size\", y = \"Mitochondrial proportion (%)\")\n",
    "\n",
    "fig(width = 16, height = 8)\n",
    "oldScaterPlotFix(p)\n",
    "reset.fig()"
   ]
  },
  {
   "cell_type": "code",
   "execution_count": null,
   "metadata": {},
   "outputs": [],
   "source": [
    "p <- plotColData(cdSc, x = \"detected\", y = \"subsets_Mt_percent\", colour_by = \"Sample\", other_fields = \"Sample\", \n",
    "                 point_alpha = 0.3, theme_size = 20) +\n",
    "    facet_wrap(~ Sample) +\n",
    "    scale_x_continuous(labels = unit_format(unit = \"K\", scale = 1e-3)) +\n",
    "    scale_color_manual(values = c_sample_col) + theme(legend.position = \"none\") +\n",
    "    labs(x = \"Number of detected genes\", y = \"Mitochondrial proportion (%)\")\n",
    "\n",
    "fig(width = 16, height = 8)\n",
    "oldScaterPlotFix(p)\n",
    "reset.fig()"
   ]
  },
  {
   "cell_type": "markdown",
   "metadata": {},
   "source": [
    "Show in log10 scale."
   ]
  },
  {
   "cell_type": "code",
   "execution_count": null,
   "metadata": {},
   "outputs": [],
   "source": [
    "log10_breaks <- trans_breaks(\"log10\", function(x) 10^x)\n",
    "log10_labels <- trans_format(\"log10\", math_format(10^.x))\n",
    "\n",
    "p <- plotColData(cdSc, x = \"sum\", y = \"detected\", colour_by = \"subsets_Mt_percent\", \n",
    "                 other_fields = \"Sample\", point_alpha = 0.3, theme_size = 20) +\n",
    "    facet_wrap(~ Sample) +\n",
    "    scale_x_log10(breaks = log10_breaks, labels = log10_labels) +\n",
    "    scale_y_log10(breaks = log10_breaks, labels = log10_labels) +\n",
    "    guides(color = guide_colourbar(title = \"Mitochondrial\\nproportion (%)\")) +\n",
    "    labs(x = \"Library size\", y = \"Number of detected genes\")\n",
    "\n",
    "fig(width = 16, height = 8)\n",
    "oldScaterPlotFix(p)\n",
    "reset.fig()"
   ]
  },
  {
   "cell_type": "code",
   "execution_count": null,
   "metadata": {},
   "outputs": [],
   "source": [
    "p <- plotColData(cdSc, x = \"sum\", y = \"detected\", colour_by = \"subsets_Mt_percent\", size_by = \"subsets_Mt_sum\", \n",
    "                 other_fields = \"Sample\", point_alpha = 0.3, theme_size = 20) +\n",
    "    facet_wrap(~ Sample) +\n",
    "    scale_x_log10(breaks = log10_breaks, labels = log10_labels) +\n",
    "    scale_y_log10(breaks = log10_breaks, labels = log10_labels) +\n",
    "    guides(color = guide_colourbar(title = \"Mitochondrial\\nproportion (%)\"), \n",
    "           size = guide_legend(title = \"Mitochondrial\\ncounts\", \n",
    "                               override.aes = list(fill = \"black\", alpha = 1))) +\n",
    "    labs(x = \"Library size\", y = \"Number of detected genes\")\n",
    "\n",
    "fig(width = 16, height = 8)\n",
    "oldScaterPlotFix(p)\n",
    "reset.fig()"
   ]
  },
  {
   "cell_type": "markdown",
   "metadata": {},
   "source": [
    "Cells on the linear pattern show a good correlation between total counts and the number of gene features with counts. Problematic cells deviate from the linear trend.\n",
    "\n",
    "Cells with a very high proportion of mitchondrial reads are problematic (e.g. in apoptosis) ([Ilicic et al., 2016](https://f1000research.com/articles/5-2122/v2#ref-14); [Islam et al., 2014](https://f1000research.com/articles/5-2122/v2#ref-16)). They will be removed by the QC filtering."
   ]
  },
  {
   "cell_type": "code",
   "execution_count": null,
   "metadata": {},
   "outputs": [],
   "source": [
    "p <- plotColData(cdSc, x = \"sum\", y = \"detected\", colour_by = \"Sample\", other_fields = \"Sample\", \n",
    "                 point_alpha = 0.3, theme_size = 20) +\n",
    "    facet_wrap(~ Sample) +\n",
    "    scale_x_log10(breaks = log10_breaks, labels = log10_labels) +\n",
    "    scale_y_log10(breaks = log10_breaks, labels = log10_labels) +\n",
    "    scale_color_manual(values = c_sample_col) + theme(legend.position = \"none\") +\n",
    "    labs(x = \"Library size\", y = \"Number of detected genes\")\n",
    "\n",
    "fig(width = 16, height = 8)\n",
    "oldScaterPlotFix(p)\n",
    "reset.fig()"
   ]
  },
  {
   "cell_type": "markdown",
   "metadata": {},
   "source": [
    "## Plots on gene QC metrics"
   ]
  },
  {
   "cell_type": "code",
   "execution_count": null,
   "metadata": {},
   "outputs": [],
   "source": [
    "p <- plotRowData(cdSc, x = \"mean\", y = \"detected\", colour_by = \"is_mito\", size_by = \"is_mito\", theme_size = 20) + \n",
    "    scale_x_log10(breaks = log10_breaks, labels = log10_labels) +\n",
    "    scale_color_manual(values = c(\"cyan\",\"red\")) +\n",
    "    guides(color = guide_legend(title = \"Mito Gene\", override.aes = list(size = 4, alpha = 1)), \n",
    "           size = guide_legend(title = \"Mito Gene\")) +\n",
    "    labs(x = \"Mean counts across all cells\", y = \"Proportion of expressing cell (%)\")\n",
    "\n",
    "oldScaterPlotFix(p)"
   ]
  },
  {
   "cell_type": "markdown",
   "metadata": {},
   "source": [
    "Mitochondrial genes (marked in red) often appear at the top right corner of the figure since they are highly expressed in most cells. It is only a problem if these genes make up the majority of a cell's reads (more than 80%). These problematic cells are removed further down this workflow."
   ]
  },
  {
   "cell_type": "code",
   "execution_count": null,
   "metadata": {},
   "outputs": [],
   "source": [
    "p <- plotRowData(cdSc, x = \"mean\", y = \"detected\", colour_by = \"is_ambient\", theme_size = 20) +\n",
    "    scale_x_log10(breaks = log10_breaks, labels = log10_labels) +\n",
    "    scale_color_manual(values = c(\"cyan\",\"red\")) +\n",
    "    guides(color = guide_legend(title = \"Ambient\\ncontamination\", override.aes = list(size = 4, alpha = 1)), \n",
    "           size = guide_legend(title = \"Ambient\\ncontamination\")) +\n",
    "    labs(x = \"Mean counts across all cells\", y = \"Proportion of expressing cell (%)\")\n",
    "\n",
    "oldScaterPlotFix(p)"
   ]
  },
  {
   "cell_type": "markdown",
   "metadata": {},
   "source": [
    "Genes affected by ambient contamination are marked in red."
   ]
  },
  {
   "cell_type": "code",
   "execution_count": null,
   "metadata": {},
   "outputs": [],
   "source": [
    "p <- plotRowData(cdSc, x = \"mean\", y = \"n_cells_by_counts\", colour_by = \"pct_dropout\", \n",
    "                 point_alpha = 0.3, theme_size = 20) +\n",
    "    scale_x_log10(breaks = log10_breaks, labels = log10_labels) +\n",
    "    guides(color = guide_colourbar(title = \"Dropouts (%)\")) +\n",
    "    labs(x = \"Mean counts across all cells\", y = \"Number of expressing cells\")\n",
    "\n",
    "oldScaterPlotFix(p)"
   ]
  },
  {
   "cell_type": "markdown",
   "metadata": {},
   "source": [
    "__This plot__ shows log10 mean counts of genes (x-axis) versus number of cells expressing that gene (y-axis). Generally, in single cell datasets there are some genes with very low, or very high, total counts, which accounts for the S shape of the plot.\n",
    "\n",
    "__Dropouts__ is the proportion of cells a gene is **not** detected. As expected, genes with low mean count have higher percentage of dropouts."
   ]
  },
  {
   "cell_type": "markdown",
   "metadata": {},
   "source": [
    "# 3. Quality filtering of cells<a name='section3' />\n",
    "__Picking thresholds for filtering out poor cells__ is not straightforward for different metrics as their absolute values depend on the protocol and biological system. For example, sequencing to greater depth will lead to more reads, regardless of the quality of the cells. To obtain an adaptive threshold, the assumption made here is that most of the dataset consists of high-quality cells. Plots to facilitate picking thresholds for cell cutoffs are below.\n",
    "\n",
    "### The distribution of the UMIs, number of detectable genes,  mitochondrial proportion and novelty.\n",
    "\n",
    "The dotted line represents the threshold which is the **N** Median Absolute Deviation (MAD). Outlier cells are defined as those that are **N** MADs away (can be *lower*, *higher* or *both*) from the median.\n",
    "\n",
    "For the library size, detectable genes and novelty, cells on the left of the thresholds (i.e. lower) would be filtered out. For mitochondrial proportion, cells on the right of the thresholds (i.e. higher) would be filtered out.\n",
    "\n",
    "Finally, cells are generally removed for having mitochondrial proportion above 5 MAD. Sometime when an experiment has very low percentage of mitochondrial reads, no removal is necessary.\n",
    "\n",
    "### Considering experimental factors\n",
    "\n",
    "More complex studies will involve batches of cells generated with different experimental parameters (e.g., sequencing depth, different donors, etc). It makes little sense to compute medians and MADs from a mixture distribution containing samples from multiple batches. In such cases, the adaptive strategy should be applied to each batch separately. If cells from all batches have been merged into a single `SingleCellExperiment`, the `batch=` argument should be used to ensure that outliers are identified within each batch. This allows `isOutlier()` to accommodate systematic differences in the QC metrics across batches."
   ]
  },
  {
   "cell_type": "markdown",
   "metadata": {},
   "source": [
    "## Library Size"
   ]
  },
  {
   "cell_type": "code",
   "execution_count": null,
   "metadata": {},
   "outputs": [],
   "source": [
    "# Change this setting to adjust and show different threshold\n",
    "mad1 <- 2.5\n",
    "libsize.drop <- isOutlier(cdSc$sum, nmads = mad1, batch = cdSc$Sample, type = \"lower\", log = TRUE)\n",
    "cut_off_reads <- attr(libsize.drop, \"thresholds\")[\"lower\",]\n",
    "cut_off_reads <- cut_off_reads[levels(cdSc$Sample)] # reorder to levels\n",
    "round(cut_off_reads,2)\n",
    "\n",
    "# Set minimum library size cutoff at 500 if the MAD cutoff is lower than 500\n",
    "cut_off_reads <- ifelse(cut_off_reads < 500, 500, cut_off_reads)\n",
    "round(cut_off_reads,2)\n",
    "\n",
    "libsize.drop <- c()\n",
    "for(i in 1:length(cut_off_reads)) {\n",
    "    libsize.drop <- c(libsize.drop, cdSc$sum[cdSc$Sample == names(cut_off_reads[i])] < cut_off_reads[i])\n",
    "}\n",
    "\n",
    "as.data.frame(colData(cdSc)) %>% \n",
    "    left_join(data.frame(thresholds = cut_off_reads, Sample = names(cut_off_reads))) %>%\n",
    "    ggplot(aes(x = sum, fill = factor(Sample))) +\n",
    "    geom_density(color = NA, alpha = 0.5) + facet_wrap(~ Sample) +\n",
    "    geom_vline(aes(xintercept = thresholds), colour = \"red\", linetype = \"longdash\") +\n",
    "    geom_text(aes(x = thresholds, label = round(thresholds, 2)), y = Inf, vjust = 2, hjust = -0.2, size = 5) +\n",
    "    theme_classic(base_size = 20, base_family = \"mono\") + scale_fill_manual(values = c_sample_col) +\n",
    "    scale_x_log10(breaks = log10_breaks, labels = log10_labels) +\n",
    "    theme(legend.position = \"none\") +\n",
    "    labs(x = \"Library size\", title = \"Total count\", fill = \"Sample\", \n",
    "         subtitle = paste(sum(libsize.drop), \"cell(s) to the left of cutoff have too low UMI count\"))\n",
    "\n",
    "as.data.frame(colData(cdSc)) %>% cbind(., libsize.drop) %>%\n",
    "    rename(LowCount = libsize.drop) %>%\n",
    "    ggplot(aes(x = factor(Sample), y = sum)) + geom_violin(size = 1) +\n",
    "    geom_jitter(aes(color = LowCount), alpha = 0.3, size = 0.1, \n",
    "                position = position_jitter(height = 0, width = 0.15, seed = 123)) +\n",
    "    theme_classic(base_size = 20) + scale_color_manual(values = c(\"black\", \"red\")) +\n",
    "    scale_y_log10(breaks = log10_breaks, labels = log10_labels) +\n",
    "    guides(color = guide_legend(override.aes = list(size = 4, alpha = 1))) +\n",
    "    labs(x = \"Sample\", y = \"Library size\", title = \"Total count\", fill = \"Sample\",\n",
    "         subtitle = paste(sum(libsize.drop), \"cell(s) coloured in red have too low UMI count\"))"
   ]
  },
  {
   "cell_type": "markdown",
   "metadata": {},
   "source": [
    "## Number of detected genes"
   ]
  },
  {
   "cell_type": "code",
   "execution_count": null,
   "metadata": {},
   "outputs": [],
   "source": [
    "# Change this setting to adjust and show different threshold\n",
    "mad2 <- 3\n",
    "feature.drop <- isOutlier(cdSc$detected, nmads = mad2, batch = cdSc$Sample, type = \"lower\", log = TRUE)\n",
    "cut_off_genes <- attr(feature.drop, \"thresholds\")[\"lower\",]\n",
    "cut_off_genes <- cut_off_genes[levels(cdSc$Sample)] # reorder to levels\n",
    "round(cut_off_genes,2)\n",
    "\n",
    "# Set minimum detected genes cutoff at 250 if the MAD cutoff is lower than 250\n",
    "cut_off_genes <- ifelse(cut_off_genes < 250, 250, cut_off_genes)\n",
    "round(cut_off_genes,2)\n",
    "\n",
    "feature.drop <- c()\n",
    "for(i in 1:length(cut_off_genes)) {\n",
    "    feature.drop <- c(feature.drop, cdSc$detected[cdSc$Sample == names(cut_off_genes[i])] < cut_off_genes[i])\n",
    "}\n",
    "\n",
    "as.data.frame(colData(cdSc)) %>% \n",
    "    left_join(data.frame(thresholds = cut_off_genes, Sample = names(cut_off_genes))) %>%\n",
    "    ggplot(aes(x = detected, fill = factor(Sample))) + \n",
    "    geom_density(color = NA, alpha = 0.5) + facet_wrap(~ Sample) +\n",
    "    geom_vline(aes(xintercept = thresholds), colour = \"red\", linetype = \"longdash\") +\n",
    "    geom_text(aes(x = thresholds, label = round(thresholds, 2)), y = Inf, vjust = 2, hjust = -0.2, size = 5) +\n",
    "    theme_classic(base_size = 20) + scale_fill_manual(values = c_sample_col) +\n",
    "    scale_x_log10(breaks = log10_breaks, labels = log10_labels) +\n",
    "    theme(legend.position = \"none\") +\n",
    "    labs(x = \"Number of detected genes\", title = \"Total detected genes\", fill = \"Sample\", \n",
    "         subtitle = paste(sum(feature.drop), \"cell(s) to the left of cutoff have too few detected genes\"))\n",
    "\n",
    "as.data.frame(colData(cdSc)) %>% cbind(., feature.drop) %>%\n",
    "    rename(LowDetected = feature.drop) %>%\n",
    "    ggplot(aes(x = factor(Sample), y = detected)) + geom_violin(size = 1) +\n",
    "    geom_jitter(aes(color = LowDetected), alpha = 0.3, size = 0.1, \n",
    "                position = position_jitter(height = 0, width = 0.15, seed = 123)) +\n",
    "    theme_classic(base_size = 20) + scale_color_manual(values = c(\"black\", \"red\")) + \n",
    "    guides(color = guide_legend(override.aes = list(size = 4, alpha = 1))) +\n",
    "    labs(x = \"Sample\", y = \"Number of detected genes\", title = \"Total detected genes\", fill = \"Sample\",\n",
    "         subtitle = paste(sum(feature.drop), \"cell(s) coloured in red have too few detected genes\"))"
   ]
  },
  {
   "cell_type": "markdown",
   "metadata": {},
   "source": [
    "## Mitochondrial proportion"
   ]
  },
  {
   "cell_type": "code",
   "execution_count": null,
   "metadata": {},
   "outputs": [],
   "source": [
    "# Change this setting to adjust and show different threshold\n",
    "mad3 <- 3\n",
    "mito.drop <- isOutlier(cdSc$subsets_Mt_percent, batch = cdSc$Sample, nmads = mad3, type = \"higher\")\n",
    "cut_off_MT <- attr(mito.drop, \"thresholds\")[\"higher\",]\n",
    "cut_off_MT <- cut_off_MT[levels(cdSc$Sample)] # reorder to levels\n",
    "round(cut_off_MT,2)\n",
    "\n",
    "# Set minimum cutoff at 10% if the MAD cutoff is lower than 10%\n",
    "cut_off_MT <- ifelse(cut_off_MT < 10, 10, cut_off_MT)\n",
    "# Set maximum cutoff at 15% if the MAD cutoff is higher than 15%\n",
    "cut_off_MT <- ifelse(cut_off_MT > 15, 15, cut_off_MT)\n",
    "round(cut_off_MT,2)\n",
    "\n",
    "mito.drop <- c()\n",
    "for(i in 1:length(cut_off_MT)) {\n",
    "    mito.drop <- c(mito.drop, cdSc$subsets_Mt_percent[cdSc$Sample == names(cut_off_MT[i])] > cut_off_MT[i])\n",
    "}\n",
    "\n",
    "p <- as.data.frame(colData(cdSc)) %>% \n",
    "    left_join(data.frame(thresholds = cut_off_MT, Sample = names(cut_off_MT))) %>% \n",
    "    ggplot(aes(x = subsets_Mt_percent, fill = factor(Sample))) + \n",
    "    geom_density(color = NA, alpha = 0.5) + facet_wrap(~ Sample) +\n",
    "    geom_vline(aes(xintercept = thresholds), colour = \"red\", linetype = \"longdash\") +\n",
    "    geom_text(aes(x = thresholds, label = round(thresholds, 2)), y = Inf, vjust = 2, hjust = -0.2, size = 5) +\n",
    "    theme_classic(base_size = 20) + scale_fill_manual(values = c_sample_col) +\n",
    "    theme(legend.position = \"none\") +\n",
    "    labs(x = \"Mitochondrial proportion\", title = \"Mitochondrial proportion\", fill = \"Sample\", \n",
    "         subtitle = paste(sum(mito.drop), \"cell(s) to the right of cutoff have too high mitochondrial proportion\"))\n",
    "\n",
    "# Visual zoom to between 0 - 50%\n",
    "if(max(cdSc$subsets_Mt_percent) > 50) {\n",
    "    p <- p + coord_cartesian(xlim = c(0, 50))\n",
    "}\n",
    "\n",
    "p"
   ]
  },
  {
   "cell_type": "markdown",
   "metadata": {},
   "source": [
    "## Novelty (complexity of RNA species)\n",
    "\n",
    "The expected novelty is about 0.8."
   ]
  },
  {
   "cell_type": "code",
   "execution_count": null,
   "metadata": {},
   "outputs": [],
   "source": [
    "# Change this setting to adjust and show different threshold\n",
    "cut_off_novelty = 0.8\n",
    "novelty.drop <- cdSc$log10GenesPerUMI < cut_off_novelty\n",
    "\n",
    "as.data.frame(colData(cdSc)) %>%\n",
    "    ggplot(aes(x = log10GenesPerUMI, fill = factor(Sample))) + \n",
    "    geom_density(color = NA, alpha = 0.5) + facet_wrap(~ Sample) +\n",
    "    geom_vline(xintercept = cut_off_novelty, colour = \"red\", linetype = \"longdash\") +\n",
    "    annotate(\"text\", x = cut_off_novelty, y = Inf, label = cut_off_novelty, \n",
    "             vjust = 2, hjust = -0.2, size = 5) +\n",
    "    theme_classic(base_size = 20) + scale_fill_manual(values = c_sample_col) +\n",
    "    theme(legend.position = \"none\") +\n",
    "    labs(x = \"log10 nGene per log10 nUMI\", title = \"Complexity of RNA species\", fill = \"Sample\", \n",
    "         subtitle = paste(sum(novelty.drop), \"cells to the left of cutoff have too low complexity\"))"
   ]
  },
  {
   "cell_type": "markdown",
   "metadata": {},
   "source": [
    "## Show summary"
   ]
  },
  {
   "cell_type": "code",
   "execution_count": null,
   "metadata": {},
   "outputs": [],
   "source": [
    "print(paste0(\"Cells removed if: [\",\n",
    "           paste(names(cut_off_reads), collapse = \" / \"), \"]\"))\n",
    "print(paste(\"Read count below library size cutoff:\", \n",
    "            paste(round(cut_off_reads, 2), collapse = \" / \")))\n",
    "print(paste(\"Number of genes expressed below feature cutoff:\", \n",
    "            paste(round(cut_off_genes, 2), collapse = \" / \")))\n",
    "print(paste(\"MT percent above mito cutoff:\", \n",
    "            paste(round(cut_off_MT, 2), collapse = \" / \")))\n",
    "print(paste(\"Novelty cutoff:\", round(cut_off_novelty, 4)))"
   ]
  },
  {
   "cell_type": "code",
   "execution_count": null,
   "metadata": {},
   "outputs": [],
   "source": [
    "# Discard summary\n",
    "discard <- libsize.drop | feature.drop | mito.drop | novelty.drop\n",
    "cdSc$discard = discard\n",
    "\n",
    "venn.df <- data.frame(Sample = cdSc$Sample, LibSize = libsize.drop, FeaturesExp = feature.drop, \n",
    "                      MitoProp = mito.drop, Novelty = novelty.drop, Total = discard)\n",
    "\n",
    "print(paste(\"Total number of cells removed:\"))\n",
    "DataFrame(Cells = colSums(venn.df[,2:6]))\n",
    "\n",
    "print(paste(\"Per-sample breakdown:\"))\n",
    "venn.df %>% group_by(Sample) %>% summarise_all(sum) %>% DataFrame"
   ]
  },
  {
   "cell_type": "code",
   "execution_count": null,
   "metadata": {},
   "outputs": [],
   "source": [
    "limma::vennDiagram(venn.df[,2:5], cex = c(1.5,1.2,1.0))"
   ]
  },
  {
   "cell_type": "markdown",
   "metadata": {},
   "source": [
    "Use __QC plot(s) below__ to check result and decide whether further filtering is required."
   ]
  },
  {
   "cell_type": "code",
   "execution_count": null,
   "metadata": {},
   "outputs": [],
   "source": [
    "p <- plotColData(cdSc, x = \"sum\", y = \"detected\", colour_by = \"subsets_Mt_percent\", \n",
    "                 other_fields = c(\"Sample\",\"discard\"), point_size = 1, point_alpha = 0.3, theme_size = 20) +\n",
    "    facet_grid(discard ~ Sample) +\n",
    "    scale_x_log10(breaks = log10_breaks, labels = log10_labels) +\n",
    "    scale_y_log10(breaks = log10_breaks, labels = log10_labels) +\n",
    "    guides(color = guide_colourbar(title = \"Mitochondrial\\nproportion (%)\")) +\n",
    "    labs(x = \"Library size\", y = \"Number of detected genes\")\n",
    "\n",
    "fig(width = 16, height = 8, res = 120)\n",
    "oldScaterPlotFix(p)\n",
    "reset.fig()"
   ]
  },
  {
   "cell_type": "markdown",
   "metadata": {},
   "source": [
    "## Filter poor-quality cells\n",
    "\n",
    "A new object is created with the filtered dataset."
   ]
  },
  {
   "cell_type": "code",
   "execution_count": null,
   "metadata": {},
   "outputs": [],
   "source": [
    "cdScFilt <- cdSc[, !discard]\n",
    "cdScFilt"
   ]
  },
  {
   "cell_type": "code",
   "execution_count": null,
   "metadata": {},
   "outputs": [],
   "source": [
    "print(paste(\"Total cells before quality filtering =\", ncol(cdSc)))\n",
    "print(paste(\"Total cells before quality filtering, per sample:\"))\n",
    "table(colData(cdSc)$Sample)\n",
    "\n",
    "print(paste(\"Total cells remaining after quality filtering =\",ncol(cdScFilt)))\n",
    "print(paste(\"Total cells after quality filtering, per sample:\"))\n",
    "table(colData(cdScFilt)$Sample)"
   ]
  },
  {
   "cell_type": "markdown",
   "metadata": {},
   "source": [
    "## Show cells with extremely high counts\n",
    "\n",
    "Use `isOutlier` and MAD cutoff to investigate possible outlier cells with high read-depth (could be doublets)."
   ]
  },
  {
   "cell_type": "code",
   "execution_count": null,
   "metadata": {},
   "outputs": [],
   "source": [
    "# Change this setting to adjust and show different threshold\n",
    "mad4 <- 5\n",
    "highcount.drop <- isOutlier(cdScFilt$sum, nmads = mad4, batch = cdScFilt$Sample, type = \"higher\", log = TRUE)\n",
    "cut_off_highcount <- attr(highcount.drop, \"thresholds\")[\"higher\",]\n",
    "cut_off_highcount <- cut_off_highcount[levels(cdSc$Sample)] # reorder to levels\n",
    "round(cut_off_highcount,2)\n",
    "\n",
    "# Apply same cutoff to all samples\n",
    "cut_off_highcount <- 75000\n",
    "highcount.drop <- cdScFilt$sum > cut_off_highcount\n",
    "cut_off_highcount <- setNames(rep(cut_off_highcount, length(levels(cdScFilt$Sample))), levels(cdScFilt$Sample))\n",
    "round(cut_off_highcount,2)\n",
    "\n",
    "as.data.frame(colData(cdScFilt)) %>% \n",
    "    left_join(data.frame(thresholds = cut_off_highcount, Sample = names(cut_off_highcount))) %>%\n",
    "    ggplot(aes(x = sum, fill = factor(Sample))) +\n",
    "    geom_density(color = NA, alpha = 0.5) + facet_wrap(~ Sample) +\n",
    "    geom_vline(aes(xintercept = thresholds), colour = \"red\", linetype = \"longdash\") +\n",
    "    geom_text(aes(x = thresholds, label = round(thresholds, 2)), y = Inf, vjust = 2, hjust = 1.2, size = 5) +\n",
    "    theme_classic(base_size = 20, base_family = \"mono\") + scale_fill_manual(values = c_sample_col) +\n",
    "    scale_x_log10(breaks = log10_breaks, labels = log10_labels) +\n",
    "    theme(legend.position = \"none\") +\n",
    "    labs(x = \"Library Size\", title = \"Total count\", fill = \"Sample\", \n",
    "         subtitle = paste(sum(highcount.drop), \"cell(s) to the right of cutoff have too high UMI count\"))\n",
    "\n",
    "as.data.frame(colData(cdScFilt)) %>% cbind(., highcount.drop) %>%\n",
    "    rename(HighCount = highcount.drop) %>%\n",
    "    ggplot(aes(x = factor(Sample), y = sum)) + geom_violin(size = 1) +\n",
    "    geom_jitter(aes(color = HighCount, size = HighCount, alpha = HighCount), \n",
    "                position = position_jitter(height = 0, width = 0.15, seed = 123)) +\n",
    "    scale_alpha_discrete(range = c(0.5, 1)) + scale_size_discrete(range = c(1, 2)) +\n",
    "    theme_classic(base_size = 20) + scale_color_manual(values = c(\"black\", \"red\")) +\n",
    "    scale_y_continuous(labels = unit_format(unit = \"K\", scale = 1e-3)) +\n",
    "    guides(color = guide_legend(override.aes = list(size = 4, alpha = 1))) +\n",
    "    labs(x = \"Sample\", y = \"Library Size\", title = \"Total count\", fill = \"Sample\",\n",
    "         subtitle = paste(sum(highcount.drop), \"cell(s) coloured in red have extremely high UMIs\"))"
   ]
  },
  {
   "cell_type": "markdown",
   "metadata": {},
   "source": [
    "Show the number of cells defined as extremely high counts (`HighCount = TRUE`)."
   ]
  },
  {
   "cell_type": "code",
   "execution_count": null,
   "metadata": {},
   "outputs": [],
   "source": [
    "table(Sample = cdScFilt$Sample, HighCount = highcount.drop)"
   ]
  },
  {
   "cell_type": "markdown",
   "metadata": {},
   "source": [
    "## Filter cells with high counts\n",
    "\n",
    "This changes `cdsFilt` permanently. Make a temporary object if unsure, or re-create `cdsFilt` from `cdSc` from previous steps. We also re-calculatingthe PerFeatureQC as the number of cells have changed.\n",
    "\n",
    "<div class=\"alert alert-warning\">\n",
    "  <strong>Warning!</strong> For aggregate results, additional filtering may be required on a per-sample basis.\n",
    "</div>"
   ]
  },
  {
   "cell_type": "code",
   "execution_count": null,
   "metadata": {},
   "outputs": [],
   "source": [
    "cdScFilt <- cdScFilt[, !highcount.drop]"
   ]
  },
  {
   "cell_type": "code",
   "execution_count": null,
   "metadata": {},
   "outputs": [],
   "source": [
    "as.data.frame(colData(cdScFilt)) %>% \n",
    "    ggplot(aes(x = factor(Sample), y = sum, color = Sample)) + geom_violin(size = 1) +\n",
    "    geom_jitter(alpha = 0.5, size = 1, position = position_jitter(height = 0, width = 0.15, seed = 123)) +\n",
    "    theme_classic(base_size = 20) + scale_color_manual(values = c_sample_col) +\n",
    "    guides(color = guide_legend(override.aes = list(size = 4, alpha = 1))) +\n",
    "    theme(legend.position = \"none\") + labs(x = \"Sample\", y = \"Library Size\", title = \"Total count\")"
   ]
  },
  {
   "cell_type": "code",
   "execution_count": null,
   "metadata": {},
   "outputs": [],
   "source": [
    "# Remove cells from specific samples?\n",
    "#cdScFilt <- cdScFilt[,!((cdScFilt$Sample %in% '12_W') & (cdScFilt$sum > 50000))]\n",
    "#cdScFilt <- cdScFilt[,!((cdScFilt$Sample %in% '8_W') & (cdScFilt$sum > 40000))]"
   ]
  },
  {
   "cell_type": "markdown",
   "metadata": {},
   "source": [
    "## Update PerFeatureQC due to cell filtering"
   ]
  },
  {
   "cell_type": "code",
   "execution_count": null,
   "metadata": {},
   "outputs": [],
   "source": [
    "rowData(cdScFilt) = rowData(cdScFilt)[,c(\"ID\",\"Symbol\",\"Type\",\"SEQNAME\",\"is_mito\",\"is_ambient\")]\n",
    "cdScFilt <- addPerFeatureQC(cdScFilt, detection_limit = 0, BPPARAM = bpp)\n",
    "rowData(cdScFilt)$n_cells_by_counts <- rowData(cdScFilt)$detected/100 * ncol(cdScFilt)\n",
    "rowData(cdScFilt)$pct_dropout <- 100 - rowData(cdScFilt)$detected\n",
    "\n",
    "# This normalises after QC filtering.\n",
    "# Use default size.factors for now, we will calculate later\n",
    "logcounts(cdScFilt) <- log2(calculateCPM(cdScFilt) + 1)\n",
    "\n",
    "cdScFilt"
   ]
  },
  {
   "cell_type": "code",
   "execution_count": null,
   "metadata": {},
   "outputs": [],
   "source": [
    "print(paste0(\"Total cells remaining after filtering high read-depth cells = \", ncol(cdScFilt)))\n",
    "print(paste0('Total cells remaining after filtering for each sample:'))\n",
    "table(colData(cdScFilt)$Sample)"
   ]
  },
  {
   "cell_type": "markdown",
   "metadata": {},
   "source": [
    "## Save image"
   ]
  },
  {
   "cell_type": "code",
   "execution_count": null,
   "metadata": {},
   "outputs": [],
   "source": [
    "save.image(\"data.RData\")"
   ]
  },
  {
   "cell_type": "markdown",
   "metadata": {},
   "source": [
    "# 4. Classification of cell cycle phase<a name='section4' />\n",
    "\n",
    "The prediction method used here is described by [Scialdone et al. (2015)](http://www.sciencedirect.com/science/article/pii/S1046202315300098) to classify cells into cell cycle phases based on the gene expression data. Using a training dataset, the sign of the difference in expression between two genes was computed for each pair of genes. Pairs with changes in the sign across cell cycle phases were chosen as markers. Cells in a test dataset can then be classified into the appropriate phase, based on whether the observed sign for each marker pair is consistent with one phase or another. We do the cell cycle classification before gene filtering as this provides more precise cell cycle phase classifications. This approach is implemented in the Cyclone function using a pre-trained set of marker pairs for human data. Some additional work is necessary to match the gene symbols in the data to the Ensembl annotation in the pre-trained marker set.\n",
    "\n"
   ]
  },
  {
   "cell_type": "markdown",
   "metadata": {},
   "source": [
    "Previously, the workflow uses `org.XX.eg.db` to map SYMBOL from `rowData` to Ensembl ID. However the `rowData` now contains Ensembl ID, therefore the mapping step is not necessary."
   ]
  },
  {
   "cell_type": "markdown",
   "metadata": {},
   "source": [
    "<div class=\"alert alert-warning\">\n",
    "  <strong>Warning!</strong> Edits required to choose human or mouse cycle markers.\n",
    "</div>"
   ]
  },
  {
   "cell_type": "code",
   "execution_count": null,
   "metadata": {},
   "outputs": [],
   "source": [
    "# Human\n",
    "sample.pairs <- readRDS(system.file(\"exdata\", \"human_cycle_markers.rds\", package = \"scran\"))\n",
    "\n",
    "# Mouse\n",
    "#sample.pairs <- readRDS(system.file(\"exdata\", \"mouse_cycle_markers.rds\", package = \"scran\"))\n",
    "\n",
    "set.seed(12345)\n",
    "system.time({ \n",
    "    assignments <- cyclone(cdScFilt, sample.pairs, gene.names = rowData(cdScFilt)$ID, verbose = TRUE, \n",
    "                           BPPARAM = bpp) \n",
    "})"
   ]
  },
  {
   "cell_type": "code",
   "execution_count": null,
   "metadata": {},
   "outputs": [],
   "source": [
    "fig(width = 12, height = 10)\n",
    "data.frame(x = assignments$score$G1, y = assignments$score$G2M,\n",
    "           Phases = assignments$phases, Sample = colData(cdScFilt)$Sample) %>%\n",
    "    ggplot(aes(x = x,y = y, shape = Phases, color = Sample)) +\n",
    "    geom_point(size = 2, alpha = 0.5) + theme_classic(base_size = 20) + \n",
    "    facet_wrap(~ Sample) +\n",
    "    scale_x_continuous(\"G1 score\", limits = c(0, 1)) +\n",
    "    scale_y_continuous(\"G2/M score\", limits = c(0, 1)) +\n",
    "    scale_color_manual(values = c_sample_col) +\n",
    "    scale_shape_manual(values = c(\"G1\" = 15, \"G2M\" = 17, \"S\" = 19)) +\n",
    "    guides(color = guide_legend(override.aes = list(size = 4, alpha = 1)), \n",
    "           shape = guide_legend(override.aes = list(size = 4))) +\n",
    "    geom_segment(aes(x = 1/2, y = 0, xend = 1/2, yend = 1/2), colour = \"black\") +\n",
    "    geom_segment(aes(x = 0, y = 1/2, xend = 1/2, yend = 1/2), colour = \"black\") +\n",
    "    geom_segment(aes(x = 1/2, y = 1/2, xend = 1, yend = 1), colour = \"black\") +\n",
    "    annotate(\"label\", x = 0.25, y = 0.05, size = 8, fill = \"white\", alpha = 0.5, label = \"S\") +\n",
    "    annotate(\"label\", x = 0.90, y = 0.40, size = 8, fill = \"white\", alpha = 0.5, label = \"G1\") +\n",
    "    annotate(\"label\", x = 0.50, y = 0.98, size = 8, fill = \"white\", alpha = 0.5, label = \"G2/M\") +\n",
    "    ggtitle(\"Cell cycle phase scores\")\n",
    "reset.fig()"
   ]
  },
  {
   "cell_type": "code",
   "execution_count": null,
   "metadata": {},
   "outputs": [],
   "source": [
    "fig(width = 8, height = 8)\n",
    "smoothScatter(assignments$score$G1, assignments$score$G2M, xlab = \"G1 score\", ylab = \"G2/M score\", \n",
    "              pch = 19, cex = 0.6, nbin = 1920)\n",
    "reset.fig()"
   ]
  },
  {
   "cell_type": "markdown",
   "metadata": {},
   "source": [
    "__Background about Cell Cycle Analysis__\n",
    "\n",
    "- Cells are classified as being in G1 phase (not in cell division aka cell cycle) if their G1 score is above 0.5 and greater than the G2/M score.\n",
    "- Cells are classified as being in S phase (synthesis of DNA, replication) if neither score is above 0.5.\n",
    "- Cells are classified as being in G2/M phase (gap between DNA synthesis and mitosis) if their G2/M score is above 0.5 and greater than the G1 score.\n",
    " \n",
    "The cell-cycle status of cells can be a significant confounding factor in some datasets i.e. clusters forming on the basis of cell cycle status instead of other biological factors of interest. The goal at this stage is only to assess the cell cycle status of cells not to try normalise it away.\n",
    "\n",
    "This method would be less accurate for data that are substantially different from those used in the training set, e.g., due to the use of a different protocol. This dataset uses UMI counts, which has an entirely different set of biases, e.g., 3’-end coverage only, no length bias, no amplification noise. These new biases (and the absence of expected biases) may interfere with accurate classification of some cells. So there is some uncertainty with this analysis. \n",
    "\n",
    "Nevertheless we need to keep in mind that there could be quite high cell-cycle effect which might confound the dataset. To avoid problems from misclassification, no processing of this dataset by cell cycle phase will be done here."
   ]
  },
  {
   "cell_type": "code",
   "execution_count": null,
   "metadata": {},
   "outputs": [],
   "source": [
    "print(\"Predicted phase:\")\n",
    "table(Sample = colData(cdScFilt)$Sample, Phases = assignments$phases)"
   ]
  },
  {
   "cell_type": "markdown",
   "metadata": {},
   "source": [
    "Generally if they are on G1 stage, then they are not in cell-cycle stage and if on G2/M then they are cell-cycle stages. If they are in S, which is the synthesis phase indicating DNA is being replicated.\n",
    "\n",
    "<div class=\"alert alert-info\">\n",
    "  <strong>About this dataset: </strong> (edits required)\n",
    "  <ul>\n",
    "    <li>It looks like majority of the cells have a high G2/M score.</li>\n",
    "    <li>This indicates that the cells are going through cell-cycle stages.</li>\n",
    "  </ul>\n",
    "</div>"
   ]
  },
  {
   "cell_type": "code",
   "execution_count": null,
   "metadata": {},
   "outputs": [],
   "source": [
    "## Assigning cell-cycle stages to the scater object\n",
    "colData(cdScFilt)$CellCycle <- factor(assignments$phases)\n",
    "cdScFilt"
   ]
  },
  {
   "cell_type": "code",
   "execution_count": null,
   "metadata": {},
   "outputs": [],
   "source": [
    "save.image(\"data.RData\")"
   ]
  },
  {
   "cell_type": "markdown",
   "metadata": {},
   "source": [
    "# 5. Marking low-abundance genes<a name='section5' />\n",
    "\n",
    "The goal is to mark genes that will be good features to discriminate the cells. \n",
    "\n",
    "Low-abundance genes are problematic as zero or near-zero counts do not contain enough information for reliable statistical inference ([Bourgon et al., 2010](http://www.pnas.org/content/107/21/9546)). In addition, the discreteness of the counts may interfere with downstream statistical procedures, e.g., by compromising the accuracy of continuous approximations. \n",
    "\n",
    "The more low frequency, low expression genes the more noise. \n",
    "\n",
    "These genes are likely to be dominated by drop-out events ([Brennecke et al., 2013](https://www.nature.com/articles/nmeth.2645)), which limits their usefulness in later analyses. Removal of these genes improves discreteness and reduces the amount of computational work without major loss of information.\n",
    "\n",
    "Generally in scRNA-seq low-abundance genes are defined as those with an average count below a filter threshold of 1. But 10X Chromium is based on UMI counts, which are lower but better quality counts, so setting the threshold to 1 would filter a large number of cells unfairly. \n",
    "\n",
    "In the analysis below we go through an iterative process using the figure below, starting with 0.01 to 0.06 to assess what cutoff to use. To check whether the chosen threshold is suitable, we examine the distribution of log-means across all genes (Figure below). Generally for higher number of cells there is a peak on the right hand side that represents the bulk of moderately expressed genes while in the middle there is a rectangular component that corresponds to lowly expressed genes. The filter threshold should cut the distribution at some point along the rectangular component to remove the majority of low-abundance genes. As the blue line repsresents in the figure below, it cuts the counts at the rectangular component. Generally 9,000 - 16,000 genes is good (mouse) and 7,500-16,000 for human.\n",
    "\n",
    "## Evaluate expression distribution"
   ]
  },
  {
   "cell_type": "code",
   "execution_count": null,
   "metadata": {},
   "outputs": [],
   "source": [
    "# Identify genes that are not expressed in any cell\n",
    "not.expressed = rowData(cdScFilt)$n_cells_by_counts == 0\n",
    "table(not.expressed)\n",
    "\n",
    "# Identify low-abundance genes\n",
    "n = 6\n",
    "cutoff_labels <- LETTERS[1:n]\n",
    "cutoff_values <- c(0.005, seq(0.01, 0.01*(n-1), by = 0.01))\n",
    "\n",
    "# Exclude genes that are not expressed at all\n",
    "# Prevents `ggplot2` warnings about *non-finite values* when transformed to log scale, without affect the calculation.\n",
    "ave.counts <- data.frame(Mean = rowData(cdScFilt)$mean[!not.expressed])\n",
    "rownames(ave.counts) = rownames(rowData(cdScFilt))[!not.expressed]\n",
    "\n",
    "for(i in 1:n) {\n",
    "        ave.counts[, ncol(ave.counts) + 1] <- ave.counts$Mean >= cutoff_values[i]\n",
    "        ave.counts.lab <- paste0(cutoff_labels[i], \" (>=\", cutoff_values[i], \"; \", sum(ave.counts$Mean >= cutoff_values[i]),\" genes)\")\n",
    "        names(ave.counts)[ncol(ave.counts)] <- ave.counts.lab\n",
    "\n",
    "        print(paste(\"Mean count >=\", cutoff_values[i], \"leaves\", sum(ave.counts$Mean >= cutoff_values[i]), \"genes\"))\n",
    "}"
   ]
  },
  {
   "cell_type": "markdown",
   "metadata": {},
   "source": [
    "The threshold should be closer to the start or middle of the rectangular component."
   ]
  },
  {
   "cell_type": "code",
   "execution_count": null,
   "metadata": {},
   "outputs": [],
   "source": [
    "fig(width = 16, height = 10)\n",
    "# Plot 1\n",
    "ave.counts %>% gather(Cutoff, Pass, -Mean) %>%\n",
    "        ggplot(aes(x = Mean, fill = Pass)) +\n",
    "        geom_histogram(color = \"white\", size = 0.3, bins = 100) +\n",
    "        scale_fill_manual(values = c(\"red\", \"blue\")) +\n",
    "        scale_x_log10(breaks = log10_breaks, labels = log10_labels) +\n",
    "        facet_wrap(~ Cutoff, ncol = 2) + theme_classic(base_size = 20) +\n",
    "        theme(legend.position = \"top\")\n",
    "reset.fig()\n",
    "\n",
    "cutoff <- data.frame(labels = colnames(ave.counts)[2:ncol(ave.counts)], values = cutoff_values)\n",
    "\n",
    "fig(width = 16, height = 7)\n",
    "# Plot 2\n",
    "ave.counts %>% ggplot(aes(x = Mean)) +\n",
    "        geom_histogram(color = \"white\", fill = \"black\", size = 0.3, bins = 100) +\n",
    "        scale_x_log10(breaks = log10_breaks, labels = log10_labels) +\n",
    "        theme_classic(base_size = 20) +\n",
    "        geom_vline(mapping = aes(xintercept = values, colour = labels), size = 1,\n",
    "                   data = cutoff) +\n",
    "        guides(color = guide_legend(nrow = 3)) +\n",
    "        theme(legend.position = \"top\")\n",
    "reset.fig()"
   ]
  },
  {
   "cell_type": "markdown",
   "metadata": {},
   "source": [
    "## Show top most-expressed genes\n",
    "\n",
    "__Check identities of the most highly expressed genes__. This should generally be dominated by constitutively expressed transcripts, such as those for ribosomal or mitochondrial proteins. The presence of other classes of features may be cause for concern if they are not consistent with expected biology. For example, the absence of ribosomal proteins and/or the presence of their pseudogenes are indicative of suboptimal alignment."
   ]
  },
  {
   "cell_type": "code",
   "execution_count": null,
   "metadata": {},
   "outputs": [],
   "source": [
    "# Number of genes to show\n",
    "topexp = 50\n",
    "\n",
    "# Print gene symbols\n",
    "head(rownames(ave.counts[order(ave.counts$Mean, decreasing = TRUE),]), topexp)"
   ]
  },
  {
   "cell_type": "markdown",
   "metadata": {},
   "source": [
    "Plot below shows percentage of total counts (per cell) assigned to the top 50 most highly-abundant genes in the dataset.\n",
    "\n",
    "Each row in the plot below corresponds to a gene; each bar corresponds to the expression of a gene in a single cell; and the circle indicates the median expression of each gene, with which genes are sorted. Bars are coloured by the total number of expressed genes in each cell."
   ]
  },
  {
   "cell_type": "code",
   "execution_count": null,
   "metadata": {},
   "outputs": [],
   "source": [
    "fig(width = 14, height = 12)\n",
    "plotHighestExprs(cdScFilt, n = topexp, exprs_values = \"counts\", colour_cells_by = \"detected\") +\n",
    "    guides(color = guide_colourbar(title = \"Detected genes\")) + theme_bw(base_size = 20)\n",
    "reset.fig()"
   ]
  },
  {
   "cell_type": "markdown",
   "metadata": {},
   "source": [
    "<div class=\"alert alert-warning\">\n",
    "  <strong>Warning!</strong> Do the top N most genes appear to agree with the biology?\n",
    "</div>\n",
    "\n",
    "This mean-based filter tends to be less aggressive. A gene will be retained as long as it has sufficient expression in any subset of cells. Genes expressed in fewer cells require higher levels of expression in those cells to be retained, but this is not undesirable as it avoids selecting uninformative genes (with low expression in few cells) that contribute little to downstream analyses, e.g., HVG detection or clustering. In contrast, the “at least n” filter depends heavily on the choice of n. With n = 10, a gene expressed in a subset of 9 cells would be filtered out, regardless of the level of expression in those cells. This may result in the failure to detect rare subpopulations that are present at frequencies below n. While the mean-based filter will retain more outlier-driven genes, this can be handled by choosing methods that are robust to outliers in the downstream analyses.\n",
    "Thus, we apply the mean-based filter to the data by subsetting the SCESet object as shown below. "
   ]
  },
  {
   "cell_type": "markdown",
   "metadata": {},
   "source": [
    "## Mark low-abundance genes\n",
    "\n",
    "Instead of remove the low abundance genes from the `sce` object, we will mark these genes with \"`is_pass = FALSE`\".\n",
    "\n",
    "<div class=\"alert alert-info\">\n",
    "    <strong>Info!</strong> Decide cutoff and create a new object <code>cdScFiltAnnot</code>.\n",
    "</div>"
   ]
  },
  {
   "cell_type": "code",
   "execution_count": null,
   "metadata": {},
   "outputs": [],
   "source": [
    "# Decide cutoff\n",
    "is.pass <- rowData(cdScFilt)$mean >= 0.02\n",
    "\n",
    "# Mark genes that are not low abundance\n",
    "cdScFiltAnnot <- cdScFilt\n",
    "rowData(cdScFiltAnnot)$is_pass <- is.pass\n",
    "table(rowData(cdScFiltAnnot)$is_pass)"
   ]
  },
  {
   "cell_type": "markdown",
   "metadata": {},
   "source": [
    "### Frequency of expression (i.e., number of cells with non-zero expression) against the mean\n",
    "\n",
    "These two metrics should be positively correlated with each other for most genes. This plot can be useful to assess the effects of technical dropout in the dataset. We fit a smoothing curve (selected by `ggplot2`)<sup>*</sup> for the relationship between expression frequency and mean expression. We use this curve to define the number of genes above high technical dropout and the numbers of genes that are expressed in at least 50% and at least 25% of cells.\n",
    "\n",
    "Previously we would use the `plotExprsFreqVsMean` function to generate this plot, however it is now deprecated and does not support the current QC metric.\n",
    "\n",
    "<sup>*</sup> The smoothing method is chosen based on the size of the largest group. `stats::loess()` is used for less than 1,000 observations; otherwise `mgcv::gam()` is used."
   ]
  },
  {
   "cell_type": "code",
   "execution_count": null,
   "metadata": {},
   "outputs": [],
   "source": [
    "# Calculate log2 mean.\n",
    "log2means <- log2(rowData(cdScFiltAnnot)$mean + 1)\n",
    "\n",
    "# data frame with expression mean and frequency.\n",
    "mn_vs_fq <- data.frame(mn = log2means, fq = rowData(cdScFiltAnnot)$detected / 100)\n",
    "text_x_loc <- min(mn_vs_fq$mn) + 0.7 * diff(range(mn_vs_fq$mn))\n",
    "\n",
    "p <- plotRowData(cdScFiltAnnot, x = data.frame(X = log2means, check.names = FALSE), \n",
    "                 y = data.frame(Y = rowData(cdScFiltAnnot)$detected, check.names = FALSE), \n",
    "                 colour_by = \"pct_dropout\", theme_size = 20) + \n",
    "    geom_smooth(aes_string(x = \"mn\", y = \"100*fq\"), data = mn_vs_fq, colour = \"firebrick\", size = 1, se = TRUE) + \n",
    "    geom_hline(yintercept = 50, linetype = 2) + # 50% dropout \n",
    "    guides(color = guide_colourbar(title = \"Dropouts (%)\")) + \n",
    "    scale_y_continuous(limits = c(0, 110), breaks = c(seq(0, 100, by = 25))) +\n",
    "    geom_text_repel(aes(label = ifelse(X > quantile(log2means, 0.999) & \n",
    "                                       Y > quantile(rowData(cdScFiltAnnot)$detected, 0.999), \n",
    "                                       names(cdScFiltAnnot), \"\")), color = \"black\", seed = 123,\n",
    "                    min.segment.length = unit(0, \"lines\"), box.padding = 0.5, size = 4.5, max.overlaps = Inf) +\n",
    "    labs(x = \"log2 Mean expression\", y = \"Percentage of expressing cells\") +\n",
    "    annotate(\"text\", x = text_x_loc, y = 40, size = 6, \n",
    "             label = paste0(sum(mn_vs_fq$fq >= 0.5), \" genes are expressed\\nin at least 50% of cells\")) + \n",
    "    annotate(\"text\", x = text_x_loc, y = 20, size = 6, \n",
    "             label = paste0(sum(mn_vs_fq$fq >= 0.25), \" genes are expressed\\nin at least 25% of cells\"))\n",
    "\n",
    "fig(width = 16, height = 8)\n",
    "oldScaterPlotFix(p)\n",
    "reset.fig()"
   ]
  },
  {
   "cell_type": "markdown",
   "metadata": {},
   "source": [
    "<div class=\"alert alert-info\">\n",
    "  <strong>Info!</strong> Preferably at least 1000 genes will be expressed in 50% of the cells. These uniformly expressed genes are not helpful in disciminating cells, but if the number of genes expressed in >50% is low, that means the dataset quality is not great because there are too many dropouts.\n",
    "</div>"
   ]
  },
  {
   "cell_type": "markdown",
   "metadata": {},
   "source": [
    "### Extreme highly expressed genes\n",
    "\n",
    "Usually this is ***MALAT1***. Such genes can caused a skew in the smoothing trend line, and can also affect the mean-variance trend fitting by `modelGeneVar` during feature selection, i.e. highly variable genes (HVG) selection.\n",
    "\n",
    "Below, we use a the mean-variance plot to observe the locations of the extreme highly expressed genes (99.99th quantile)."
   ]
  },
  {
   "cell_type": "code",
   "execution_count": null,
   "metadata": {},
   "outputs": [],
   "source": [
    "logcpm.mean <- rowMeans(logcounts(cdScFiltAnnot))\n",
    "logcpm.var <- rowVars(logcounts(cdScFiltAnnot))\n",
    "\n",
    "p <- plotRowData(cdScFiltAnnot, x = data.frame(X = logcpm.mean, check.names = FALSE), \n",
    "                 y = data.frame(Y = logcpm.var, check.names = FALSE), \n",
    "                 colour_by = \"pct_dropout\", theme_size = 20) + \n",
    "    guides(color = guide_colourbar(title = \"Dropouts (%)\")) + \n",
    "    geom_text_repel(aes(label = ifelse(X > quantile(logcpm.mean, 0.9999) & \n",
    "                                       Y < 5, names(cdScFiltAnnot), \"\")), color = \"black\", seed = 123,\n",
    "                    min.segment.length = unit(0, \"lines\"), box.padding = 0.5, size = 4.5) +\n",
    "    labs(x = \"log2 Mean expression\", y = \"Variance of log-counts\")\n",
    "\n",
    "fig(width = 16, height = 8)\n",
    "oldScaterPlotFix(p)\n",
    "reset.fig()"
   ]
  },
  {
   "cell_type": "code",
   "execution_count": null,
   "metadata": {},
   "outputs": [],
   "source": [
    "# Show top 10 expressed genes\n",
    "data.frame(Symbol = rowData(cdScFiltAnnot)$Symbol, log2means = log2means, \n",
    "           Detected = rowData(cdScFiltAnnot)$detected,\n",
    "           log2CPM.mean = logcpm.mean, log2CPM.var = logcpm.var, \n",
    "           stringsAsFactors = FALSE) %>% arrange(desc(log2CPM.mean)) %>% head(10)"
   ]
  },
  {
   "cell_type": "markdown",
   "metadata": {},
   "source": [
    "<div class=\"alert alert-warning\">\n",
    "  <strong>Warning!</strong> Are there any genes that have extremely high average expression, expressed in majority of the cells and low in variance?\n",
    "</div>\n",
    "\n",
    "#### Mark additional genes that are highly expressed, expressed in every cells and low in variance?"
   ]
  },
  {
   "cell_type": "code",
   "execution_count": null,
   "metadata": {},
   "outputs": [],
   "source": [
    "highexp.genes <- c(\"MALAT1\")\n",
    "rowData(cdScFiltAnnot)[rowData(cdScFiltAnnot)$Symbol %in% highexp.genes,]$is_pass <- FALSE\n",
    "\n",
    "# How many genes are marked is_pass\n",
    "table(rowData(cdScFiltAnnot)$is_pass)\n",
    "\n",
    "cdScFiltAnnot"
   ]
  },
  {
   "cell_type": "markdown",
   "metadata": {},
   "source": [
    "Re-calculatingthe PerCellQC to add another subset to calculate only the `is_pass` genes."
   ]
  },
  {
   "cell_type": "code",
   "execution_count": null,
   "metadata": {},
   "outputs": [],
   "source": [
    "is.mito2 <- rowData(cdScFiltAnnot)$SEQNAME == \"MT\"\n",
    "is.pass2 <- rowData(cdScFiltAnnot)$is_pass\n",
    "\n",
    "colData(cdScFiltAnnot) = colData(cdScFiltAnnot)[,c(\"Sample\",\"Barcode\",\"CellCycle\")]\n",
    "if(packageVersion(\"scater\") == \"1.16.2\") {\n",
    "    cdScFiltAnnot <- addPerCellQC(cdScFiltAnnot, \n",
    "                                  subsets = list(Mt = is.mito2, Pass = is.pass2), # Add \"Pass\" subset\n",
    "                                  BPPARAM = bpp)\n",
    "} else {\n",
    "    cdScFiltAnnot <- addPerCellQC(cdScFiltAnnot, percent.top = c(50, 100, 200, 500), \n",
    "                                  subsets = list(Mt = is.mito2, Pass = is.pass2), # Add \"Pass\" subset\n",
    "                                  BPPARAM = bpp)\n",
    "}\n",
    "\n",
    "colData(cdScFiltAnnot)$log10Sum <- log10(colData(cdScFiltAnnot)$sum+1)\n",
    "colData(cdScFiltAnnot)$subsets_Pass_log10GenesPerUMI <- log10(colData(cdScFiltAnnot)$subsets_Pass_detected+1) / \n",
    "                                                        log10(colData(cdScFiltAnnot)$subsets_Pass_sum+1)\n",
    "head(colData(cdScFiltAnnot), 5)"
   ]
  },
  {
   "cell_type": "code",
   "execution_count": null,
   "metadata": {},
   "outputs": [],
   "source": [
    "p <- plotRowData(cdScFiltAnnot, x = \"mean\", y = \"detected\", colour_by = \"is_pass\", theme_size = 20) +\n",
    "    scale_x_log10(breaks = log10_breaks, labels = log10_labels) +\n",
    "    scale_color_manual(values = c(\"cyan\",\"red\")) +\n",
    "    guides(color = guide_legend(title = \"Passed Gene\", override.aes = list(size = 4, alpha = 1))) +\n",
    "    labs(x = \"Mean counts across all cells\", y = \"Proportion of expressing cell (%)\")\n",
    "\n",
    "oldScaterPlotFix(p)"
   ]
  },
  {
   "cell_type": "code",
   "execution_count": null,
   "metadata": {},
   "outputs": [],
   "source": [
    "limma::vennDiagram(data.frame(Is_Mito = rowData(cdScFiltAnnot)$is_mito, \n",
    "                              Is_Ambient = rowData(cdScFiltAnnot)$is_ambient, \n",
    "                              Is_Pass = rowData(cdScFiltAnnot)$is_pass))"
   ]
  },
  {
   "cell_type": "code",
   "execution_count": null,
   "metadata": {},
   "outputs": [],
   "source": [
    "save.image(\"data.RData\")"
   ]
  },
  {
   "cell_type": "markdown",
   "metadata": {},
   "source": [
    "# 6. Normalisation of read counts<a name='section6' />\n",
    "Single cell RNA-seq data requires different normalisation to bulk data methods (e.g. DESeq2) because scRNA-seq is very sparse. Here the deconvolution based method will be used.\n",
    "\n",
    "__Further detail on the deconvolution method to deal with zero counts:__ \n",
    "Read counts are subject to differences in capture efficiency and sequencing depth between cells ([Stegle et al., 2015](https://www.nature.com/articles/nrg3833)). Normalisation is required to eliminate these cell-specific biases prior to downstream quantitative analyses. In bulk data this is often done by assuming that most genes are not differentially expressed (DE) between cells. Any systematic difference in count size across the non-DE majority of genes between two cells is assumed to represent bias and is removed by scaling. More specifically, “size factors” are calculated that represent the extent to which counts should be scaled in each library. Single-cell data can be problematic due to the dominance of low and zero counts. To overcome this, counts from many cells are pooled to increase the count size for accurate size factor estimation ([Lun et al., 2016](https://genomebiology.biomedcentral.com/articles/10.1186/s13059-016-0947-7)). Pool-based size factors are then “deconvolved” into cell-based factors for cell-specific normalisation."
   ]
  },
  {
   "cell_type": "markdown",
   "metadata": {},
   "source": [
    "Syed's old message about __pool size__ and __negative size-factors__: \n",
    "\n",
    "If pool size is too big then in some datasets an error will be called (\"estimated negative size factor\"). In that case go down to smaller pool sizes (e.g. 100, 150, 200, 250, 300). If still not low enough keep going reducing the size (50,100,150,200,300,400). But this can also give \"estimated negative size factor\". Adjustments to these step sizes can be tried if the tSNE plots indicate that library size is dominating cluster selection.\n",
    "\n",
    "As there are some negative size-factors for this dataset, obviously it indicates there are low quality cells with few expressed genes, such that most genes still have zero counts even after pooling. They may also occur if insufficient filtering of low-abundance genes was performed.\n",
    "\n",
    "To avoid negative size factors, the best solution is to increase the stringency of the filtering.\n",
    "\n",
    "- If only a few negative size factors are present, they are likely to correspond to a few low-quality cells with few expressed genes. Such cells are difficult to normalise reliably under any approach, and can be removed by increasing the stringency of the quality control.\n",
    "\n",
    "- If many negative size factors are present, it is probably due to insufficient filtering of low-abundance genes. This results in many zero counts and pooled size factors of zero, and can be fixed by filtering out more genes with a higher min.mean - see “Gene selection” in vignette.\n",
    "\n",
    "Another approach is to increase in the number of sizes to improve the precision of the estimates. This reduces the chance of obtaining negative size factors due to estimation error, for cells where the true size factors are very small.\n",
    "\n",
    "As there are quite a lof of negative size factors, prorablby due to insuffient filtewring of low-abundance genes. So I will set the `min.mean` value to higher values to calculate the size factor.\n",
    "\n",
    "Since it is still producing negative size factors, probably there are cells with high ambient RNAs. "
   ]
  },
  {
   "cell_type": "markdown",
   "metadata": {},
   "source": [
    "## Compute deconvolution size factors\n",
    "\n",
    "In general, it is more appropriate to pool more similar cells to avoid violating the assumption of a non-DE majority of genes. This can be done by specifying the `clusters` argument where cells in each cluster have similar expression profiles. Deconvolution is subsequently applied on the cells within each cluster, where there should be fewer DE genes between cells. A convenience function `quickCluster` is provided for this purpose, though any reasonable clustering can be used. Only a rough clustering is required here, as `computeSumFactors` is robust to a moderate level of DE within each cluster.\n",
    "\n",
    "After performing `computeSumFactors`, size factors are stored in a new column called `sizeFactor`. The values can be retrieved by using the `sizeFactors` function."
   ]
  },
  {
   "cell_type": "code",
   "execution_count": null,
   "metadata": {},
   "outputs": [],
   "source": [
    "# Using pre-clustering\n",
    "# We want at least 100 cells per cluster, i.e. min.size = 100\n",
    "set.seed(12345)\n",
    "qclust <- quickCluster(cdScFiltAnnot, min.size = 100)\n",
    "table(qclust)\n",
    "\n",
    "cdScFiltAnnot <- computeSumFactors(cdScFiltAnnot, cluster = qclust)\n",
    "summary(sizeFactors(cdScFiltAnnot))"
   ]
  },
  {
   "cell_type": "code",
   "execution_count": null,
   "metadata": {},
   "outputs": [],
   "source": [
    "# New \"sizeFactor\" column \n",
    "head(colData(cdScFiltAnnot), 5)"
   ]
  },
  {
   "cell_type": "code",
   "execution_count": null,
   "metadata": {
    "scrolled": true
   },
   "outputs": [],
   "source": [
    "DF <- data.frame(VAR1 = cdScFiltAnnot$sum, VAR2 = cdScFiltAnnot$sizeFactor)\n",
    "model <- lm(VAR2 ~ VAR1, DF)\n",
    "summary(model)"
   ]
  },
  {
   "cell_type": "markdown",
   "metadata": {},
   "source": [
    "### Size factor versus library size\n",
    "\n",
    "If the size factors are tightly correlated with the library sizes for all cells this would suggests that the systematic differences between cells are primarily driven by differences in capture efficiency or sequencing depth. Any DE between cells would yield a non-linear trend between the total counts and size factor, and/or increased scatter around the trend."
   ]
  },
  {
   "cell_type": "code",
   "execution_count": null,
   "metadata": {},
   "outputs": [],
   "source": [
    "fig(width = 7, height = 7)\n",
    "ggplot(DF, aes(x = VAR1, y = VAR2)) + geom_point(size = 1, alpha = 0.5) +\n",
    "    scale_x_continuous(labels = unit_format(unit = \"K\", scale = 1e-3)) +    \n",
    "    stat_smooth(method = lm) + theme_classic(base_size = 20) +\n",
    "    annotate(\"text\", x = ceiling(max(DF$VAR1))*0.25, y = quantile(DF$VAR2, 0.999), \n",
    "             label = paste0(\"italic(R)^2 ==\", round(summary(model)$r.squared,4)), size = 7, parse = TRUE) +\n",
    "    labs(x = \"Library size\", y = \"Size factor\")\n",
    "reset.fig()"
   ]
  },
  {
   "cell_type": "markdown",
   "metadata": {},
   "source": [
    "<div class=\"alert alert-info\">\n",
    "  <strong>About this dataset: </strong> (edits required)\n",
    "  <ul>\n",
    "    <li>Has high R-squared value.</li>\n",
    "    <li>The size factors are very tightly correlated with the library size.</li>\n",
    "  </ul>\n",
    "</div>"
   ]
  },
  {
   "cell_type": "markdown",
   "metadata": {},
   "source": [
    "## Compute normalised expression values using newly calculated size factors\n",
    "\n",
    "The count data are used to compute normalised log-expression values for use in downstream analyses. Each value is defined as the log-ratio of each count to the size factor for the corresponding cell, after adding a prior count of 1 to avoid undefined values at zero counts. Division by the size factor ensures that any cell-specific biases are removed. If spike-in-specific size factors are present in sce, they will be automatically applied to normalise the spike-in transcripts separately from the endogenous genes.\n",
    "\n",
    "The log-transformation provides some measure of variance stabilization ([Law et al., 2014](https://www.ncbi.nlm.nih.gov/pmc/articles/PMC4053721/)), so that high-abundance genes with large variances do not dominate downstream analyses. The computed values are stored as an expression matrix in addition to the other assay elements.\n",
    "\n",
    "__Re-calculate the CPM normalisation using size factors__\n",
    "\n",
    "We need to re-calculate the `counts-per-million` because large number of genes have been identified as no/low abundance and this would have impacted the library size and therefore how the CPM was calculated. Now, as the number of genes have been reduced, so is the library size. \n",
    "\n",
    "When `sizeFactor` is present in `colData()`, the normalised expression computation will use this by default when `size.factors = NULL`"
   ]
  },
  {
   "cell_type": "code",
   "execution_count": null,
   "metadata": {},
   "outputs": [],
   "source": [
    "logcounts(cdScFiltAnnot) <- log2(calculateCPM(cdScFiltAnnot) + 1)\n",
    "cdScFiltAnnot"
   ]
  },
  {
   "cell_type": "code",
   "execution_count": null,
   "metadata": {},
   "outputs": [],
   "source": [
    "# Average logcounts distribution\n",
    "summary(rowMeans(logcounts(cdScFiltAnnot)))"
   ]
  },
  {
   "cell_type": "code",
   "execution_count": null,
   "metadata": {},
   "outputs": [],
   "source": [
    "save.image(\"data.RData\")"
   ]
  },
  {
   "cell_type": "markdown",
   "metadata": {},
   "source": [
    "## Checking for important technical factors\n",
    "\n",
    "Check whether there are technical factors that contribute substantially to the heterogeneity of gene expression. If so, the factor may need to be regressed out to ensure that it does not inflate the variances or introduce spurious correlations. For a dataset with a simple experimental design there are no plate or batch effects to examine. However, there could be other technical factors like the cell-cycle effect or dropouts. The plots below show before and after normalisation.\n",
    "\n",
    "*The default `exprs_values` in `plotExplanatoryVariables` is to use logcounts rather than raw counts.*"
   ]
  },
  {
   "cell_type": "markdown",
   "metadata": {},
   "source": [
    "### Limit to `is_pass` genes"
   ]
  },
  {
   "cell_type": "code",
   "execution_count": null,
   "metadata": {},
   "outputs": [],
   "source": [
    "# Raw counts (is_pass genes)\n",
    "# Sample removed from variable list for single-sample dataset\n",
    "plotExplanatoryVariables(cdScFiltAnnot[rowData(cdScFiltAnnot)$is_pass,], \n",
    "                         exprs_values = \"counts\", theme_size = 20,\n",
    "                         variables = c(\"subsets_Pass_sum\", \"subsets_Pass_detected\", \n",
    "                                       \"subsets_Mt_percent\", \"CellCycle\"))"
   ]
  },
  {
   "cell_type": "code",
   "execution_count": null,
   "metadata": {},
   "outputs": [],
   "source": [
    "# log2 CPM (is_pass genes)\n",
    "# Sample removed from variable list for single-sample dataset\n",
    "plotExplanatoryVariables(cdScFiltAnnot[rowData(cdScFiltAnnot)$is_pass,], \n",
    "                         exprs_values = \"logcounts\", theme_size = 20,\n",
    "                         variables = c(\"subsets_Pass_sum\", \"subsets_Pass_detected\", \n",
    "                                       \"subsets_Mt_percent\", \"CellCycle\"))"
   ]
  },
  {
   "cell_type": "markdown",
   "metadata": {},
   "source": [
    "### Include `Sample` variable in the plot\n",
    "\n",
    "<div class=\"alert alert-danger\">\n",
    "  <strong>Danger!</strong> Only works for 2 or more samples.\n",
    "</div>"
   ]
  },
  {
   "cell_type": "code",
   "execution_count": null,
   "metadata": {},
   "outputs": [],
   "source": [
    "# Raw counts (is_pass genes)\n",
    "plotExplanatoryVariables(cdScFiltAnnot[rowData(cdScFiltAnnot)$is_pass,], \n",
    "                         exprs_values = \"counts\", theme_size = 20,\n",
    "                         variables = c(\"subsets_Pass_sum\", \"subsets_Pass_detected\", \n",
    "                                       \"subsets_Mt_percent\", \"CellCycle\", \"Sample\"))"
   ]
  },
  {
   "cell_type": "code",
   "execution_count": null,
   "metadata": {},
   "outputs": [],
   "source": [
    "# log2 CPM (is_pass genes)\n",
    "plotExplanatoryVariables(cdScFiltAnnot[rowData(cdScFiltAnnot)$is_pass,], \n",
    "                         exprs_values = \"logcounts\", theme_size = 20,\n",
    "                         variables = c(\"subsets_Pass_sum\", \"subsets_Pass_detected\", \n",
    "                                       \"subsets_Mt_percent\", \"CellCycle\", \"Sample\"))"
   ]
  },
  {
   "cell_type": "markdown",
   "metadata": {},
   "source": [
    "__Assessing this plot.__ Typically the number of total number of UMIs (sum) and number of detectable genes (detected) explain the major variability in scRNA-seq datasets. This indicates that cells vary significantly based on number of genes that they are expressing. \n",
    "\n",
    "Number of detectable genes explaining majority of the variability is a common issue in single-cell RNA-seq. This could be due to the sparsity of the data. The PCA plot might be separating cells just because they have very different number of expressed genes in total.\n",
    "\n",
    "However, this would not confound the t-SNE plot which would take the non-linear relationship between the variables. As long as the peaks for `sum` and `detected` are below 10 this is normal.\n",
    "\n",
    "In the cell-cycle plot shown earlier and this plot help establish the importance of the cell-cycle effect."
   ]
  },
  {
   "cell_type": "markdown",
   "metadata": {},
   "source": [
    "# 7. Identifying genes for feature selection (HVG)<a name='section7' />\n",
    "\n",
    "The goal is to identify genes that will be good features to discriminate the cells. In this step, the dataset is filtered to keep only genes that are “informative” of the variability in the data. Highly Variable Genes (HVG) are the ones driving heterogeneity across the population of cells. \n",
    "\n",
    "__Detail__ HVG identification requires estimation of the variance in expression for each gene, followed by decomposition of the variance into biological and technical components. HVGs are then identified as those genes with the largest biological components. This avoids prioritizing genes that are highly variable due to technical factors, such as sampling noise during RNA capture and library preparation.\n",
    "\n",
    "In the recent implementation of `seurat`, Rahul Satija took a slightly different approach for HVG calculation. They calculate the variance and mean for each gene in the dataset (storing this in `object@hvg.info`), and sorts genes by their variance/mean ratio (VMR). They have observed that for large-cell datasets with unique molecular identifiers, selecting highly variable genes (HVG) simply based on VMR is an efficient and robust strategy. \n",
    "\n",
    "But in the implementation used here a trend is fitted to the variance estimates of the endogenous genes, using the `use.spikes=FALSE` setting as shown below. This assumes that the majority of genes are not variably expressed, such that the technical component dominates the total variance for those genes. The fitted value of the trend is then used as an estimate of the technical component. \n",
    "\n",
    "__span:__ Low-abundance genes with mean log-expression below `min.mean` are not used in trend fitting, to preserve the sensitivity of span-based smoothers at moderate-to-high abundances. It also protects against discreteness, which can interfere with estimation of the variability of the variance estimates and accurate scaling of the trend. The default threshold is chosen based on the point at which discreteness is observed in variance estimates from Poisson-distributed counts. For heterogeneous droplet data, a lower threshold of 0.001-0.01 should be used.\n",
    "\n",
    "#### About the returned DataFrame:\n",
    "\n",
    "- mean: Mean normalised log-expression per gene.\n",
    "- total: Variance of the normalised log-expression per gene.\n",
    "- bio: Biological component of the variance.\n",
    "- tech: Technical component of the variance.\n",
    "- p.value, FDR: Raw and adjusted p-values for the test against the null hypothesis that bio<=0.\n",
    "\n",
    "<div class=\"alert alert-info\">\n",
    "    <strong>Info!</strong> Create a new object <code>cdScFiltSub</code> that retain genes that are marked as <code>is_pass</code> and not <code>is_ambient</code>. Modelling is only performed on this subset of genes.\n",
    "</div>"
   ]
  },
  {
   "cell_type": "code",
   "execution_count": null,
   "metadata": {},
   "outputs": [],
   "source": [
    "cdScFiltSub <- cdScFiltAnnot[rowData(cdScFiltAnnot)$is_pass & !rowData(cdScFiltAnnot)$is_ambient,]\n",
    "cdScFiltSub"
   ]
  },
  {
   "cell_type": "markdown",
   "metadata": {},
   "source": [
    "## Model the variance of the log-expression profiles for each gene\n",
    "\n",
    "<div class=\"alert alert-warning\">\n",
    "  <strong>Warning!</strong> We block on the donor of origin to mitigate batch effects during HVG selection.\n",
    "</div>"
   ]
  },
  {
   "cell_type": "code",
   "execution_count": null,
   "metadata": {},
   "outputs": [],
   "source": [
    "# Default assay.type is logcounts\n",
    "set.seed(12345)\n",
    "var.out <- modelGeneVar(cdScFiltSub, assay.type = \"logcounts\", block = cdScFiltSub$Sample, BPPARAM = bpp)\n",
    "var.out[order(var.out$bio, decreasing = TRUE),]"
   ]
  },
  {
   "cell_type": "markdown",
   "metadata": {},
   "source": [
    "## Model the per-gene count variance with Poisson noise\n",
    "\n",
    "For each gene, the function computes the variance and mean of the log-expression values. A trend is fitted to the variance against the mean for simulated Poisson counts. The assumption is that the technical component is Poisson-distributed, or at least negative binomial-distributed with a known constant dispersion. This is useful for UMI count data sets that do not have spike-ins and are too heterogeneous to assume that most genes exhibit negligible biological variability.\n",
    "\n",
    "<div class=\"alert alert-warning\">\n",
    "  <strong>Warning!</strong> We block on the donor of origin to mitigate batch effects during HVG selection.\n",
    "</div>\n",
    "\n",
    "*The normalised log-expression used to calculate the per-gene mean here are identical to that calculated by `logNormCounts`, and are different from that by log2 cpm method.*"
   ]
  },
  {
   "cell_type": "code",
   "execution_count": null,
   "metadata": {},
   "outputs": [],
   "source": [
    "# Default assay.type is counts\n",
    "set.seed(12345)\n",
    "var.out2 <- modelGeneVarByPoisson(cdScFiltSub, assay.type = \"counts\", block = cdScFiltSub$Sample, BPPARAM = bpp)\n",
    "var.out2[order(var.out2$bio, decreasing = TRUE),]"
   ]
  },
  {
   "cell_type": "markdown",
   "metadata": {},
   "source": [
    "## Assess the fit\n",
    "\n",
    "We assess the suitability of the trend fitted to the endogenous variances by examining whether it is consistent with the variances. The trend passes through or close to most of the endogenous gene variances, indicating that our assumption (that most genes have low levels of biological variability) is valid. This strategy exploits the large number of endogenous genes to obtain a stable trend. "
   ]
  },
  {
   "cell_type": "code",
   "execution_count": null,
   "metadata": {},
   "outputs": [],
   "source": [
    "# Function to create mean-vairance scatter plot \n",
    "VariableFeaturePlot <- function(sce = cdScFiltAnnot, var = var.out, hvg = NULL, title = NULL) {\n",
    "    is_fail <- rownames(subset(rowData(sce), is_pass == FALSE))\n",
    "    is_ambient <- rownames(subset(rowData(sce), is_ambient == TRUE))\n",
    "    \n",
    "    if(is.null(hvg)) {\n",
    "        data <- as.data.frame(var) %>% rownames_to_column()\n",
    "    } else {\n",
    "        data <- as.data.frame(var) %>% rownames_to_column() %>% add_column(HVG = FALSE) %>%\n",
    "        mutate(HVG = replace(HVG, rowname %in% hvg, TRUE))\n",
    "    }\n",
    "\n",
    "    data$status <- \"Passed\"\n",
    "    if(sum(data$rowname %in% is_fail) > 0) {\n",
    "        data[which(data$rowname %in% is_fail),]$status <- \"Failed\"\n",
    "    }\n",
    "    if(sum(data$rowname %in% is_ambient) > 0) {\n",
    "        data[which(data$rowname %in% is_ambient),]$status <- \"Ambient Contamination\"\n",
    "    }\n",
    "    data$status = as.factor(data$status)\n",
    "    \n",
    "    plot <- ggplot(data, aes(x = mean, y = total, shape = status, alpha = status)) + \n",
    "    theme_classic(base_size = 18) + \n",
    "    scale_shape_manual(values = setNames(c(4, 1, 16), c(\"Failed\", \"Ambient Contamination\", \"Passed\") )) +\n",
    "    scale_alpha_manual(values = setNames(c(1, 1, 0.4), c(\"Failed\", \"Ambient Contamination\", \"Passed\") )) +\n",
    "    guides(shape = guide_legend(override.aes = list(size = 4, alpha = 1))) +\n",
    "    labs(x = \"Mean of log-expression\", y = \"Variance of log-expression\", \n",
    "         shape = \"Gene status\", alpha = \"Gene status\")\n",
    "                  \n",
    "    if(is.null(hvg)) {\n",
    "        plot <- plot + geom_point(size = 3) +\n",
    "                # Label mean outliers (99.99th)\n",
    "                geom_text_repel(aes(label = ifelse(mean > quantile(mean, 0.9999), rowname, \"\")), \n",
    "                                color = \"black\", alpha = 1, seed = 123, \n",
    "                                box.padding = 0.5, size = 4.5, max.overlaps = Inf)\n",
    "    } else {\n",
    "        plot <- plot + geom_point(aes(color = HVG), size = 3) + \n",
    "                scale_color_manual(labels = paste0(c('Non-HVG', 'HVG'), ':', table(data$HVG)), \n",
    "                                   values = c(\"black\", \"red\")) +\n",
    "                guides(color = guide_legend(override.aes = list(size = 4, alpha = 1))) +\n",
    "                # Label top 10 HVGs\n",
    "                geom_text_repel(aes(label = ifelse(rowname %in% head(hvg, 10), rowname, \"\")), \n",
    "                                color = \"black\", alpha = 1, seed = 123, \n",
    "                                box.padding = 0.5, size = 4.5, max.overlaps = Inf)\n",
    "    }\n",
    "    \n",
    "    # Add trend line\n",
    "    plot <- plot + stat_function(fun = function(x) metadata(var)$trend(x), \n",
    "                                 geom = \"line\", color = \"gold\", alpha = 1, size = 1.5)\n",
    "    \n",
    "    if(!is.null(title)) {\n",
    "        plot <- plot + ggtitle(title)\n",
    "    }\n",
    "    \n",
    "    plot\n",
    "}"
   ]
  },
  {
   "cell_type": "markdown",
   "metadata": {},
   "source": [
    "### Visualizing the fit"
   ]
  },
  {
   "cell_type": "code",
   "execution_count": null,
   "metadata": {},
   "outputs": [],
   "source": [
    "# modelGeneVar\n",
    "if(\"per.block\" %in% colnames(var.out)) {\n",
    "    blocked.stats <- var.out$per.block\n",
    "    n <- length(names(blocked.stats))\n",
    "    p <-  vector(\"list\", n)\n",
    "\n",
    "    for(i in 1:n) {\n",
    "        p[[i]] <- VariableFeaturePlot(var = blocked.stats[[i]], \n",
    "                                      title = paste(\"modelGeneVar:\", names(blocked.stats)[i])) +\n",
    "            theme(legend.position = \"top\", legend.justification = \"left\")\n",
    "    }\n",
    "} else {\n",
    "    p <-  vector(\"list\", 1)\n",
    "    p[[1]] <- VariableFeaturePlot(var = var.out, title = \"modelGeneVar\")\n",
    "}\n",
    "\n",
    "fig(width = 16, height = 9)\n",
    "plot_grid(plotlist = p)\n",
    "reset.fig()"
   ]
  },
  {
   "cell_type": "markdown",
   "metadata": {},
   "source": [
    "Ideally the plot above would look like the mountain, where it would have rise in the middle but then drop off at the end (low variance for highly expressed genes). The trend line would follow it as well."
   ]
  },
  {
   "cell_type": "code",
   "execution_count": null,
   "metadata": {},
   "outputs": [],
   "source": [
    "# modelGeneVarByPoisson\n",
    "if(\"per.block\" %in% colnames(var.out2)) {\n",
    "    blocked.stats <- var.out2$per.block\n",
    "    n <- length(names(blocked.stats))\n",
    "    p <-  vector(\"list\", n)\n",
    "\n",
    "    for(i in 1:n) {\n",
    "        p[[i]] <- VariableFeaturePlot(var = blocked.stats[[i]], \n",
    "                                      title = paste(\"modelGeneVarByPoisson:\", names(blocked.stats)[i])) +\n",
    "            theme(legend.position = \"top\", legend.justification = \"left\")\n",
    "    }\n",
    "} else {\n",
    "    p <-  vector(\"list\", 1)\n",
    "    p[[1]] <- VariableFeaturePlot(var = var.out2, title = \"modelGeneVarByPoisson\")\n",
    "}\n",
    "\n",
    "fig(width = 16, height = 9)\n",
    "plot_grid(plotlist = p)\n",
    "reset.fig()"
   ]
  },
  {
   "cell_type": "markdown",
   "metadata": {},
   "source": [
    "## Select an appropriate set of highly variable genes\n",
    "\n",
    "Once the per-gene variations are quantified, the next step is to select the HVGs to be used in downstream analyses. Selecting a larger number of HVGs will allow use to retain more potentially relevant genes but at the same time increasing noise from irrelevant genes that obscure interesting biological signal. There are several common methods used to guide HVG selection, which you can read more [here](http://bioconductor.org/books/release/OSCA/feature-selection.html#hvg-selection).\n",
    "\n",
    "*Syed's old message about **Define HVGs**:\n",
    "HVG are defined as genes with biological components that are significantly greater than zero at a false discovery rate (FDR) of 5%. These genes are interesting as they drive differences in the expression profiles between cells, and should be prioritized for further investigation. Here a gene is considered to be a HVG if it has a biological component greater than or equal to 0.5. For transformed expression values on the log2 scale, this means that the average difference in true expression between any two cells will be at least 2-fold. (This reasoning assumes that the true log-expression values are Normally distributed with variance of 0.5. The root-mean-square of the difference between two values is treated as the average log2-fold change between cells and is equal to unity.) The results are ranked by the biological component to focus on genes with larger biological variability. HVG can number anywhere between 200-5000 depending on the complexity of the dataset and depth of sequencing. [Ref: Current best practices in single‐cell RNA‐seq analysis: a tutorial](https://www.embopress.org/doi/10.15252/msb.20188746)*\n",
    "\n",
    "### Select based on significance and biological components"
   ]
  },
  {
   "cell_type": "code",
   "execution_count": null,
   "metadata": {},
   "outputs": [],
   "source": [
    "# \"modelGeneVar\" method\n",
    "hvg.out <- as.data.frame(var.out) %>% dplyr::filter(FDR <= 0.05 & bio >= 0.5) %>%\n",
    "        arrange(desc(bio)) %>% rownames\n",
    "print(paste(\"Number of HVGs using FDR and Bio (modelGeneVar)\", length(hvg.out)))\n",
    "head(hvg.out, 20)\n",
    "\n",
    "# \"modelGeneVarByPoisson\" method\n",
    "hvg.out2 <- as.data.frame(var.out2) %>% dplyr::filter(FDR <= 0.05 & bio >= 0.5) %>%\n",
    "        arrange(desc(bio)) %>% rownames\n",
    "print(paste(\"Number of HVGs using FDR and Bio (modelGeneVarByPoisson)\", length(hvg.out2)))\n",
    "head(hvg.out2, 20)"
   ]
  },
  {
   "cell_type": "markdown",
   "metadata": {},
   "source": [
    "### Select the top N% of genes with the highest biological components\n",
    "\n",
    "**We select a larger number of HVGs to capture any batch-specific variation that might be present.**"
   ]
  },
  {
   "cell_type": "code",
   "execution_count": null,
   "metadata": {},
   "outputs": [],
   "source": [
    "# \"modelGeneVar\" method\n",
    "hvg.out <- getTopHVGs(var.out, prop = 0.30, var.field = \"bio\", var.threshold = 0)\n",
    "print(paste(\"Number of HVGs using top 30% Bio (modelGeneVar)\", length(hvg.out)))\n",
    "head(hvg.out, 20)\n",
    "\n",
    "# \"modelGeneVarByPoisson\" method\n",
    "hvg.out2 <- getTopHVGs(var.out2, prop = 0.15, var.field = \"bio\", var.threshold = 0)\n",
    "print(paste(\"Number of HVGs using top 15% Bio (modelGeneVarByPoisson)\", length(hvg.out2)))\n",
    "head(hvg.out2, 20)"
   ]
  },
  {
   "cell_type": "markdown",
   "metadata": {},
   "source": [
    "### Visualise HVG selections\n",
    "\n",
    "Below we mark the top N% HVG from both models in red."
   ]
  },
  {
   "cell_type": "code",
   "execution_count": null,
   "metadata": {},
   "outputs": [],
   "source": [
    "# modelGeneVar\n",
    "if(\"per.block\" %in% colnames(var.out)) {\n",
    "    blocked.stats <- var.out$per.block\n",
    "    n <- length(names(blocked.stats))\n",
    "    p <-  vector(\"list\", n)\n",
    "\n",
    "    for(i in 1:n) {\n",
    "        p[[i]] <- VariableFeaturePlot(var = blocked.stats[[i]], hvg = hvg.out,\n",
    "                                      title = paste(\"modelGeneVar:\", names(blocked.stats)[i])) +\n",
    "            theme(legend.position = \"none\")\n",
    "    }\n",
    "\n",
    "    legend <- get_legend(p[[1]] + theme(legend.position = \"top\", legend.justification = \"left\"))\n",
    "    p <- plot_grid(legend, plot_grid(plotlist = p), ncol = 1, rel_heights = c(0.1, 0.9))\n",
    "} else {\n",
    "    p <-  vector(\"list\", 1)\n",
    "    p[[1]] <- VariableFeaturePlot(var = var.out, hvg = hvg.out, title = \"modelGeneVar\")\n",
    "    p <- plot_grid(plotlist = p)\n",
    "}\n",
    "\n",
    "fig(width = 16, height = 10)\n",
    "p\n",
    "reset.fig()"
   ]
  },
  {
   "cell_type": "code",
   "execution_count": null,
   "metadata": {},
   "outputs": [],
   "source": [
    "# modelGeneVarByPoisson\n",
    "if(\"per.block\" %in% colnames(var.out2)) {\n",
    "    blocked.stats <- var.out2$per.block\n",
    "    n <- length(names(blocked.stats))\n",
    "    p <-  vector(\"list\", n)\n",
    "\n",
    "    for(i in 1:n) {\n",
    "        p[[i]] <- VariableFeaturePlot(var = blocked.stats[[i]], hvg = hvg.out2,\n",
    "                                      title = paste(\"modelGeneVarByPoisson:\", names(blocked.stats)[i])) +\n",
    "            theme(legend.position = \"none\")\n",
    "    }\n",
    "    legend <- get_legend(p[[1]] + theme(legend.position = \"top\", legend.justification = \"left\"))\n",
    "    p <- plot_grid(legend, plot_grid(plotlist = p), ncol = 1, rel_heights = c(0.1, 0.9))\n",
    "} else {\n",
    "    p <-  vector(\"list\", 1)\n",
    "    p[[1]] <- VariableFeaturePlot(var = var.out2, hvg = hvg.out2, title = \"modelGeneVarByPoisson\")\n",
    "    p <- plot_grid(plotlist = p)\n",
    "}\n",
    "\n",
    "fig(width = 16, height = 10)\n",
    "p\n",
    "reset.fig()"
   ]
  },
  {
   "cell_type": "markdown",
   "metadata": {},
   "source": [
    "Trends based purely on technical noise (i.e. `modelGeneVarByPoisson`) tend to yield large biological components for highly-expressed genes, including “house-keeping” genes coding for essential cellular components such as ribosomal proteins, which are considered uninteresting for characterizing cellular heterogeneity. These observations suggest that a more accurate noise model does not necessarily yield a better ranking of HVGs, though one should keep an open mind - house-keeping genes are regularly DE in a variety of conditions, and the fact that they have large biological components indicates that there is strong variation across cells that may not be completely irrelevant. [OSCA reference](http://bioconductor.org/books/release/OSCA/feature-selection.html#sec:spikeins)\n",
    "\n",
    "<div class=\"alert alert-info\">\n",
    "  <strong>About this dataset: </strong> (edits required)\n",
    "  <ul>\n",
    "    <li>We use the the <code>getTopHVGs</code> method to choose HVGs from the <code>modelGeneVarByPoisson</code> model.</li>\n",
    "    <li>We obtained a total of 1659 HVGs.</li>\n",
    "  </ul>\n",
    "</div>"
   ]
  },
  {
   "cell_type": "markdown",
   "metadata": {},
   "source": [
    "## *For test purposes*\n",
    "\n",
    "<div class=\"alert alert-warning\">\n",
    "  <strong>Warning!</strong> Here we are testing the proportion of ambient/failed genes selected as HVG if there is no pre-filtering performed on the input <code>sce</code>.\n",
    "</div>"
   ]
  },
  {
   "cell_type": "code",
   "execution_count": null,
   "metadata": {},
   "outputs": [],
   "source": [
    "# For test purposes - all genes (no subset)\n",
    "set.seed(12345)\n",
    "var.out3 <- modelGeneVarByPoisson(cdScFiltAnnot, assay.type = \"counts\", block = cdScFiltSub$Sample, BPPARAM = bpp)\n",
    "hvg.out3 <- getTopHVGs(var.out3, prop = 0.1, var.field = \"bio\", var.threshold = 0)\n",
    "\n",
    "df <- rowData(cdScFiltAnnot)[rownames(rowData(cdScFiltAnnot)) %in% hvg.out3,] %>% \n",
    "    as.data.frame() %>% arrange(Symbol)\n",
    "table(Is_Pass = df$is_pass, Is_Ambient = df$is_ambient)\n",
    "\n",
    "print(\"Failed genes identified as HVG:\")\n",
    "rownames(df[df$is_pass == FALSE,])\n",
    "\n",
    "print(\"Genes affected by ambient contamination and identified as HVG:\")\n",
    "rownames(df[df$is_ambient == TRUE,])"
   ]
  },
  {
   "cell_type": "code",
   "execution_count": null,
   "metadata": {},
   "outputs": [],
   "source": [
    "# Plot\n",
    "title <- ggdraw() + draw_label(\"All genes\", size = 22, fontface = \"bold\")\n",
    "blocked.stats <- var.out3$per.block\n",
    "n <- length(names(blocked.stats))\n",
    "\n",
    "p <-  vector(\"list\", n)\n",
    "for(i in 1:n) {\n",
    "    p[[i]] <- VariableFeaturePlot(var = blocked.stats[[i]], title = names(blocked.stats)[i]) + \n",
    "    theme(legend.position = \"none\")\n",
    "}\n",
    "\n",
    "legend <- get_legend(p[[1]] + theme(legend.position = \"top\", legend.justification = \"left\"))\n",
    "\n",
    "fig(width = 16, height = 9)\n",
    "plot_grid(title, legend, plot_grid(plotlist = p), ncol = 1, rel_heights = c(0.075, 0.075, 0.85))\n",
    "reset.fig()\n",
    "\n",
    "# Highlight HVGs\n",
    "p <-  vector(\"list\", n)\n",
    "for(i in 1:n) {\n",
    "    p[[i]] <- VariableFeaturePlot(var = blocked.stats[[i]], hvg = hvg.out3, title = names(blocked.stats)[i]) + \n",
    "    theme(legend.position = \"none\")\n",
    "}\n",
    "\n",
    "legend <- get_legend(p[[1]] + theme(legend.position = \"top\", legend.justification = \"left\"))\n",
    "\n",
    "fig(width = 16, height = 9)\n",
    "plot_grid(title, legend, plot_grid(plotlist = p), ncol = 1, rel_heights = c(0.075, 0.075, 0.85))\n",
    "reset.fig()"
   ]
  },
  {
   "cell_type": "code",
   "execution_count": null,
   "metadata": {},
   "outputs": [],
   "source": [
    "# For test purposes - All genes but exclude genes affected by ambient contamination\n",
    "set.seed(12345)\n",
    "var.out4 <- modelGeneVarByPoisson(cdScFiltAnnot[!rowData(cdScFiltAnnot)$is_ambient,], assay.type = \"counts\", \n",
    "                                  block = cdScFiltSub$Sample, BPPARAM = bpp)\n",
    "hvg.out4 <- getTopHVGs(var.out4, prop = 0.1, var.field = \"bio\", var.threshold = 0)\n",
    "\n",
    "df <- rowData(cdScFiltAnnot)[rownames(rowData(cdScFiltAnnot)) %in% hvg.out4,] %>% \n",
    "    as.data.frame() %>% arrange(Symbol)\n",
    "table(Is_Pass = df$is_pass)\n",
    "\n",
    "print(\"Failed genes identified as HVG:\")\n",
    "rownames(df[df$is_pass == FALSE,])"
   ]
  },
  {
   "cell_type": "code",
   "execution_count": null,
   "metadata": {},
   "outputs": [],
   "source": [
    "# Plot\n",
    "title <- ggdraw() + draw_label(\"All genes but exclude ambient contamination\", size = 22, fontface = \"bold\")\n",
    "blocked.stats <- var.out4$per.block\n",
    "n <- length(names(blocked.stats))\n",
    "\n",
    "p <-  vector(\"list\", n)\n",
    "for(i in 1:n) {\n",
    "    p[[i]] <- VariableFeaturePlot(var = blocked.stats[[i]], title = names(blocked.stats)[i]) + \n",
    "    theme(legend.position = \"none\")\n",
    "}\n",
    "\n",
    "legend <- get_legend(p[[1]] + theme(legend.position = \"top\", legend.justification = \"left\"))\n",
    "\n",
    "fig(width = 16, height = 9)\n",
    "plot_grid(title, legend, plot_grid(plotlist = p), ncol = 1, rel_heights = c(0.075, 0.075, 0.85))\n",
    "reset.fig()\n",
    "\n",
    "# Highlight HVGs\n",
    "p <-  vector(\"list\", n)\n",
    "for(i in 1:n) {\n",
    "    p[[i]] <- VariableFeaturePlot(var = blocked.stats[[i]], hvg = hvg.out4, title = names(blocked.stats)[i]) + \n",
    "    theme(legend.position = \"none\")\n",
    "}\n",
    "\n",
    "legend <- get_legend(p[[1]] + theme(legend.position = \"top\", legend.justification = \"left\"))\n",
    "\n",
    "fig(width = 16, height = 9)\n",
    "plot_grid(title, legend, plot_grid(plotlist = p), ncol = 1, rel_heights = c(0.075, 0.075, 0.85))\n",
    "reset.fig()"
   ]
  },
  {
   "cell_type": "code",
   "execution_count": null,
   "metadata": {},
   "outputs": [],
   "source": [
    "# For test purposes - All passed genes (include genes affected by ambient contamination)\n",
    "set.seed(12345)\n",
    "var.out5 <- modelGeneVarByPoisson(cdScFiltAnnot[rowData(cdScFiltAnnot)$is_pass,], assay.type = \"counts\", \n",
    "                                  block = cdScFiltSub$Sample, BPPARAM = bpp)\n",
    "hvg.out5 <- getTopHVGs(var.out5, prop = 0.1, var.field = \"bio\", var.threshold = 0)\n",
    "\n",
    "df <- rowData(cdScFiltAnnot)[rownames(rowData(cdScFiltAnnot)) %in% hvg.out5,] %>% \n",
    "    as.data.frame() %>% arrange(Symbol)\n",
    "table(Is_Ambient = df$is_ambient)\n",
    "\n",
    "print(\"Genes affected by ambient contamination and identified as HVG:\")\n",
    "rownames(df[df$is_ambient == TRUE,])"
   ]
  },
  {
   "cell_type": "code",
   "execution_count": null,
   "metadata": {},
   "outputs": [],
   "source": [
    "# Plot\n",
    "title <- ggdraw() + draw_label(\"Passed genes and include ambient contamination\", size = 22, fontface = \"bold\")\n",
    "blocked.stats <- var.out5$per.block\n",
    "n <- length(names(blocked.stats))\n",
    "\n",
    "p <-  vector(\"list\", n)\n",
    "for(i in 1:n) {\n",
    "    p[[i]] <- VariableFeaturePlot(var = blocked.stats[[i]], title = names(blocked.stats)[i]) + \n",
    "    theme(legend.position = \"none\")\n",
    "}\n",
    "\n",
    "legend <- get_legend(p[[1]] + theme(legend.position = \"top\", legend.justification = \"left\"))\n",
    "\n",
    "fig(width = 16, height = 9)\n",
    "plot_grid(title, legend, plot_grid(plotlist = p), ncol = 1, rel_heights = c(0.075, 0.075, 0.85))\n",
    "reset.fig()\n",
    "\n",
    "# Highlight HVGs\n",
    "p <-  vector(\"list\", n)\n",
    "for(i in 1:n) {\n",
    "    p[[i]] <- VariableFeaturePlot(var = blocked.stats[[i]], hvg = hvg.out5, title = names(blocked.stats)[i]) + \n",
    "    theme(legend.position = \"none\")\n",
    "}\n",
    "\n",
    "legend <- get_legend(p[[1]] + theme(legend.position = \"top\", legend.justification = \"left\"))\n",
    "\n",
    "fig(width = 16, height = 9)\n",
    "plot_grid(title, legend, plot_grid(plotlist = p), ncol = 1, rel_heights = c(0.075, 0.075, 0.85))\n",
    "reset.fig()"
   ]
  },
  {
   "cell_type": "markdown",
   "metadata": {},
   "source": [
    "## Decide which model and HVG to use"
   ]
  },
  {
   "cell_type": "code",
   "execution_count": null,
   "metadata": {},
   "outputs": [],
   "source": [
    "# Select which var.out and hvg.out to save\n",
    "hvg_model <- var.out2\n",
    "hvg_genes <- hvg.out2\n",
    "\n",
    "# Subset model DataFrame with HVGs\n",
    "hvg <- hvg_model[hvg_genes,]\n",
    "hvg"
   ]
  },
  {
   "cell_type": "code",
   "execution_count": null,
   "metadata": {},
   "outputs": [],
   "source": [
    "# Add HVG to rowData\n",
    "rowData(cdScFiltAnnot)$is_hvg <- FALSE\n",
    "rowData(cdScFiltAnnot)[rownames(cdScFiltAnnot) %in% hvg_genes,]$is_hvg <- TRUE\n",
    "table(rowData(cdScFiltAnnot)$is_hvg)"
   ]
  },
  {
   "cell_type": "code",
   "execution_count": null,
   "metadata": {},
   "outputs": [],
   "source": [
    "# Plotting the top 15 HVGs\n",
    "plotExpression(cdScFiltAnnot, head(hvg_genes, 15), point_size = 0.6, theme_size = 20)"
   ]
  },
  {
   "cell_type": "code",
   "execution_count": null,
   "metadata": {},
   "outputs": [],
   "source": [
    "# Save to file\n",
    "write.table(hvg, file = \"HVG.xls\", sep = \"\\t\", quote = FALSE, col.names = NA)"
   ]
  },
  {
   "cell_type": "markdown",
   "metadata": {},
   "source": [
    "## Skewed genes\n",
    "\n",
    "Identify genes that are expressed by a very high proportion of cells, i.e. skewed genes, and check if any HVGs are also skewed genes."
   ]
  },
  {
   "cell_type": "code",
   "execution_count": null,
   "metadata": {},
   "outputs": [],
   "source": [
    "is_pass_df <- rowData(cdScFiltAnnot)[rowData(cdScFiltAnnot)$is_pass,]\n",
    "skewedGenes <- isOutlier(is_pass_df$detected, \n",
    "                         nmads = 4, type = \"higher\", log = FALSE)\n",
    "is_pass_df$is_skewed <- skewedGenes\n",
    "cut_off_skewed <- attr(skewedGenes, \"thresholds\")[\"higher\"]\n",
    "\n",
    "# Plot\n",
    "ggplot(as.data.frame(is_pass_df), aes(x = detected)) + geom_density(fill = \"black\") +\n",
    "geom_vline(xintercept = cut_off_skewed, colour = \"red\", linetype = \"longdash\") +\n",
    "annotate(\"text\", x = cut_off_skewed, y = Inf, label = round(cut_off_skewed, 2), \n",
    "         vjust = 2, hjust = -0.2, size = 5) +\n",
    "theme_classic(base_size = 20) + scale_fill_manual(values = c_sample_col) +\n",
    "labs(x = \"Expressing cell proportion (%)\", title = \"Expressing cell proportion\", fill = \"Sample\", \n",
    "     subtitle = paste(sum(skewedGenes), \"genes(s) to the right of cutoff have too high expressing cell proportion\"))\n",
    "\n",
    "print(paste0(\"Skewed gene cutoff: \", round(cut_off_skewed, 2), \"%\"))\n",
    "print(paste0(\"Total number of skewed genes: \", sum(skewedGenes)))"
   ]
  },
  {
   "cell_type": "code",
   "execution_count": null,
   "metadata": {},
   "outputs": [],
   "source": [
    "print(paste(\"Total number of skewed genes:\", sum(is_pass_df$is_skewed)))\n",
    "print(paste(\"Total number of skewed HVGs:\", nrow(is_pass_df[is_pass_df$is_skewed & is_pass_df$is_hvg,])))"
   ]
  },
  {
   "cell_type": "code",
   "execution_count": null,
   "metadata": {},
   "outputs": [],
   "source": [
    "# Print skewed HVG names\n",
    "#rownames(is_pass_df[is_pass_df$is_skewed & is_pass_df$is_hvg,])"
   ]
  },
  {
   "cell_type": "code",
   "execution_count": null,
   "metadata": {},
   "outputs": [],
   "source": [
    "ggplot(as.data.frame(is_pass_df), aes(x = detected, fill = is_hvg)) +\n",
    "    geom_histogram(color = \"white\", size = 0.3, bins = 20) +\n",
    "    scale_fill_manual(\"HVG Genes\", values = c(\"red\", \"blue\")) +\n",
    "    geom_vline(xintercept = cut_off_skewed, colour = \"red\", linetype = \"longdash\") +\n",
    "    annotate(\"text\", x = cut_off_skewed, y = Inf, label = round(cut_off_skewed, 2), \n",
    "             vjust = 2, hjust = 1.25, size = 5) +\n",
    "    facet_wrap(~ is_skewed, ncol = 2, scales = \"free_y\", \n",
    "               labeller = as_labeller(function(x) paste(\"Is skewed:\", x))) + \n",
    "    theme_classic(base_size = 20) + theme(legend.position = \"top\") +\n",
    "    labs(x = \"Expressing cell proportion (%)\", y = \"Number of genes\")"
   ]
  },
  {
   "cell_type": "markdown",
   "metadata": {},
   "source": [
    "__Final Notes__ There are alternative approaches for determining the HVG, especially those based on Coefficient of Variance. The method used here, the variance of the log-expression values, avoids genes with strong expression in only one or two cells. This ensures that the set of top HVGs is not dominated by genes with (mostly uninteresting) outlier expression patterns.\n",
    "\n",
    "However, it has been mentioned that fitting the trendline to endogenous genes might not always be a good idea.\n"
   ]
  },
  {
   "cell_type": "code",
   "execution_count": null,
   "metadata": {},
   "outputs": [],
   "source": [
    "save.image(\"data.RData\")"
   ]
  },
  {
   "cell_type": "markdown",
   "metadata": {},
   "source": [
    "# 8. Data integration (donor effect correction)<a name='section8' />\n",
    "\n",
    "Before performing dimensionality reduction, we called `fastMNN()` to correct for batch effects in single-cell expression data using a fast version of the mutual nearest neighbors (MNN) method. In multi-sample datasets, we often observe a strong donor effect. This might be due to differences in cell type composition between donors, but the more likely explanation is that of a technical difference in sample preparation processing or uninteresting genotypic differences. \n",
    "\n",
    "We will be saving the *corrected* results in a separate `reducedDim` space, so that we can investigate later if we should defined clusters from corrected values to cells from all samples in the chimera dataset.\n",
    "\n",
    "**Note:** Gene-based analyses should use the uncorrected data with blocking where possible.\n",
    "\n",
    "<div class=\"alert alert-warning\">\n",
    "  <strong>Warning!</strong> Requires the <code>batchelor</code> package. Here we use multiple cores, randomized SVD and annoy algorithm for approximate nearest-neighbor detection to speed up this step.\n",
    "</div>"
   ]
  },
  {
   "cell_type": "code",
   "execution_count": null,
   "metadata": {},
   "outputs": [],
   "source": [
    "if ( requireNamespace(\"batchelor\", quietly = TRUE) ) {\n",
    "    set.seed(12345)\n",
    "    corrected <- batchelor::fastMNN(cdScFiltAnnot, subset.row = hvg_genes, batch = cdScFiltAnnot$Sample, \n",
    "                                    BSPARAM = BiocSingular::RandomParam(deferred = TRUE), \n",
    "                                    BNPARAM = BiocNeighbors::AnnoyParam(), BPPARAM = bpp)\n",
    "    corrected\n",
    "\n",
    "    # Print the percentage of variance lost as a diagnostic measure\n",
    "    metadata(corrected)$merge.info$lost.var\n",
    "\n",
    "    # Add to reducedDim\n",
    "    reducedDim(cdScFiltAnnot, \"MNN\") <- reducedDim(corrected, \"corrected\")\n",
    "} else {\n",
    "    stop(\"batchelor is not installed, unable to complete data integration\")\n",
    "}\n",
    "\n",
    "# Print reducedDim name\n",
    "reducedDimNames(cdScFiltAnnot)"
   ]
  },
  {
   "cell_type": "markdown",
   "metadata": {},
   "source": [
    "# 9. Dimensionality reduction using HVG<a name='section9' />\n",
    "\n",
    "1. Principal components analysis (PCA)\n",
    "2. t-stochastic neighbor embedding (t-SNE)\n",
    "3. Uniform manifold approximation and projection (UMAP)\n",
    "\n",
    "## Principal components analysis\n",
    "\n",
    "We perform the PCA on the log2CPM expression values using the `runPCA()` function. By default, `runPCA()` will compute the first 50 PCs and store them in the `reducedDims()` of the output `sce` object.\n",
    "\n",
    "Here, we restricting the PCA to a subset of HVGs selected previously (by using `subset_row`) to reduce both computational work and high-dimensional random noise. In particular, while PCA is robust to random noise, an excess of it may cause the earlier PCs to capture noise instead of biological structure.\n",
    "\n",
    "Usually, we sepcify `ntop = 500` to select 500 genes with the highest variances to use for dimensionality reduction, however the value of `ntop` is ignored if `subset_row`.\n",
    "\n",
    "**Note:** We did not use `denoisePCA` here because the \"variance decomposition results\" required as part of the input parameters (`technical`) has different number of genes. The `modelGeneVar`/`modelGeneVarByPoisson` was performed with only the `is_pass` and not `is_ambient` genes, but the `sce` object contains all the genes."
   ]
  },
  {
   "cell_type": "code",
   "execution_count": null,
   "metadata": {},
   "outputs": [],
   "source": [
    "# runPCA() stores the PCA attributes in the reducedDims\n",
    "set.seed(12345)\n",
    "cdScFiltAnnot <- runPCA(cdScFiltAnnot, ncomponents = 50, subset_row = hvg_genes, BPPARAM = bpp)"
   ]
  },
  {
   "cell_type": "code",
   "execution_count": null,
   "metadata": {},
   "outputs": [],
   "source": [
    "# Print reducedDim name\n",
    "reducedDimNames(cdScFiltAnnot)\n",
    "\n",
    "# Print the dimension of the PCA reducedDims\n",
    "dim(reducedDim(cdScFiltAnnot, \"PCA\"))\n",
    "\n",
    "# Print the PCA reducedDims structure\n",
    "str(reducedDim(cdScFiltAnnot, \"PCA\"))"
   ]
  },
  {
   "cell_type": "markdown",
   "metadata": {},
   "source": [
    "The attributes of the PC coordinate matrix contain the following elements:\n",
    "\n",
    "- varExplained - the actual variance explained by each PC. *Not available if using scater verion 1.16.2*\n",
    "- percentVar - the percentage of variance explained by each PC. This may not sum to 100 if not all PCs are reported.\n",
    "- rotation - the rotation matrix containing loadings for all genes used in the analysis and for each PC."
   ]
  },
  {
   "cell_type": "markdown",
   "metadata": {},
   "source": [
    "### Choosing the number of PCs\n",
    "\n",
    "How many of the top PCs should we retain for downstream analyses? The choice of the number of PCs `d` is a decision that is analogous to the choice of the number of HVGs to use. Using more PCs will retain more biological signal at the cost of including more noise that might mask said signal.\n",
    "\n",
    "Nonetheless, we will use some data-driven strategies to guide a suitable choice of `d`. These automated choices are best treated as guidelines as they make some strong assumptions about what variation is “interesting”."
   ]
  },
  {
   "cell_type": "code",
   "execution_count": null,
   "metadata": {},
   "outputs": [],
   "source": [
    "chosen.elbow <- NULL\n",
    "chosen.denoised <- NULL\n",
    "chosen.clustered <- NULL\n",
    "\n",
    "percent.var <- attr(reducedDim(cdScFiltAnnot, \"PCA\"), \"percentVar\")\n",
    "\n",
    "# 1. Using the elbow point (requires PCAtools)\n",
    "if ( requireNamespace(\"PCAtools\", quietly = TRUE) ) {\n",
    "    chosen.elbow <- PCAtools::findElbowPoint(percent.var)\n",
    "    print(paste(\"elbow method:\", chosen.elbow))\n",
    "} else {\n",
    "    print(\"PCAtools is not installed, skip findElbowPoint()\")\n",
    "}\n",
    "\n",
    "# 2. Using the technical noise\n",
    "# Input sce and modelGeneVar stats need to be the same length and order, therefore using cdScFiltSub \n",
    "set.seed(12345)\n",
    "denoised <- denoisePCA(cdScFiltSub, technical = hvg_model, subset.row = hvg_genes, BPPARAM = bpp)\n",
    "chosen.denoised <- ncol(reducedDim(denoised))\n",
    "print(paste(\"technical noise method:\", chosen.denoised))\n",
    "\n",
    "# 3. Based on population structure\n",
    "clusteredpcs <- getClusteredPCs(reducedDim(cdScFiltAnnot, \"PCA\"), BPPARAM = bpp)\n",
    "chosen.clustered <- metadata(clusteredpcs)$chosen\n",
    "print(paste(\"population structure method:\", chosen.clustered))"
   ]
  },
  {
   "cell_type": "code",
   "execution_count": null,
   "metadata": {},
   "outputs": [],
   "source": [
    "chosen.pc <- data.frame(labels = c(\"technical noise\", \"population structure\"),\n",
    "                        values = c(chosen.denoised, chosen.clustered))\n",
    "\n",
    "if(!is.null(chosen.elbow)) {\n",
    "        chosen.pc <- rbind(chosen.pc, data.frame(labels = \"elbow point\", values = chosen.elbow))\n",
    "}\n",
    "\n",
    "as.data.frame(percent.var) %>% rownames_to_column() %>%\n",
    "        mutate(rowname = as.numeric(rowname)) %>%\n",
    "        ggplot(aes(x = rowname, y = percent.var)) + geom_point(size = 3) +\n",
    "        geom_vline(mapping = aes(xintercept = values, colour = labels), size = 1, data = chosen.pc) +\n",
    "        scale_x_continuous(breaks = seq(0, 50, by = 5)) + theme_classic(base_size = 20) + \n",
    "        guides(color = guide_legend(title = \"Method\")) +\n",
    "        theme(legend.position = \"top\") + labs(x = \"PC\", y = \"Variance explained (%)\")"
   ]
  },
  {
   "cell_type": "markdown",
   "metadata": {},
   "source": [
    "<div class=\"alert alert-info\">\n",
    "  <strong>About this dataset: </strong> (edits required)\n",
    "  <ul>\n",
    "    <li>The top 15 PCs retain a lot of information, while other PCs contain pregressivelly less.</li>\n",
    "    <li>However, it is still advisable to use more PCs since they might contain information about rare cell types (in some datasets such as platelets and dendritic cells).</li>\n",
    "  </ul>\n",
    "</div>"
   ]
  },
  {
   "cell_type": "code",
   "execution_count": null,
   "metadata": {},
   "outputs": [],
   "source": [
    "round(percent.var[1:20], 2)"
   ]
  },
  {
   "cell_type": "markdown",
   "metadata": {},
   "source": [
    "## Visualising with PCA\n",
    "\n",
    "### Top 5 PCs"
   ]
  },
  {
   "cell_type": "code",
   "execution_count": null,
   "metadata": {},
   "outputs": [],
   "source": [
    "p <- plotReducedDim(cdScFiltAnnot, dimred = \"PCA\", ncomponents = 5, colour_by = \"Sample\", \n",
    "                    point_size = 0.5, point_alpha = 0.1, theme_size = 20) +\n",
    "    scale_color_manual(values = c_sample_col) +\n",
    "    guides(color = guide_legend(title = \"Sample\", override.aes = list(size = 4, alpha = 1)))\n",
    "\n",
    "fig(width = 12, height = 10)\n",
    "oldScaterPlotFix(p)\n",
    "reset.fig()"
   ]
  },
  {
   "cell_type": "markdown",
   "metadata": {},
   "source": [
    "### PC1 and PC2"
   ]
  },
  {
   "cell_type": "code",
   "execution_count": null,
   "metadata": {},
   "outputs": [],
   "source": [
    "p <- plotReducedDim(cdScFiltAnnot, dimred = \"PCA\", ncomponents = c(1,2), colour_by = \"Sample\", \n",
    "                    point_size = 2, point_alpha = 0.3, theme_size = 20) + \n",
    "    scale_color_manual(values = c_sample_col) +\n",
    "    guides(color = guide_legend(title = \"Sample\", override.aes = list(size = 4, alpha = 1)))\n",
    "\n",
    "oldScaterPlotFix(p)"
   ]
  },
  {
   "cell_type": "markdown",
   "metadata": {},
   "source": [
    "### PC3 and PC4"
   ]
  },
  {
   "cell_type": "code",
   "execution_count": null,
   "metadata": {},
   "outputs": [],
   "source": [
    "p <- plotReducedDim(cdScFiltAnnot, dimred = \"PCA\", ncomponents = c(3,4), colour_by = \"Sample\", \n",
    "                    point_size = 2, point_alpha = 0.3, theme_size = 20) +\n",
    "    scale_color_manual(values = c_sample_col) +\n",
    "    guides(color = guide_legend(title = \"Sample\", override.aes = list(size = 4, alpha = 1)))\n",
    "\n",
    "oldScaterPlotFix(p)"
   ]
  },
  {
   "cell_type": "markdown",
   "metadata": {},
   "source": [
    "## Visualising with t-SNE\n",
    "\n",
    "The t-stochastic neighbor embedding (t-SNE) method attempts to find a low-dimensional representation of the data that preserves the distances between each point and its neighbors in the high-dimensional space. Unlike PCA, it is not restricted to linear transformations, nor is it obliged to accurately represent distances between distant populations. This means that it has much more freedom in how it arranges cells in low-dimensional space, enabling it to separate many distinct clusters in a complex population. [OSCA reference](http://bioconductor.org/books/release/OSCA/dimensionality-reduction.html#t-stochastic-neighbor-embedding)\n",
    "\n",
    "#### n_dimred\n",
    "\n",
    "By default, all dimensions are used to compute the second set of reduced dimensions. If `n_dimred` is also specified, only the first `n_dimred` columns are used. Alternatively, `n_dimred` can be an integer vector specifying the column indices of the dimensions to use.\n",
    "\n",
    "#### perplexity\n",
    "\n",
    "The value of the `perplexity` parameter can have a large effect on the results. By default, the function will set a “reasonable” perplexity that scales with the number of cells in x. (Specifically, it is the number of cells divided by 5, capped at a maximum of 50.) However, it is often worthwhile to manually try multiple values to ensure that the conclusions are robust.\n",
    "\n",
    "<div class=\"alert alert-warning\">\n",
    "  <strong>Warning!</strong> When <code>dimred</code> is specified, the PCA step of the <code>Rtsne</code> function is automatically turned off by default, and existing dimensionality reduction results stored in the specified <code>reducedDimNames</code> is used.\n",
    "</div>\n",
    "\n",
    "### Use default perplexity"
   ]
  },
  {
   "cell_type": "code",
   "execution_count": null,
   "metadata": {},
   "outputs": [],
   "source": [
    "# Calculate default perplexity to show in plot title\n",
    "perplexity <- min(50, floor(ncol(cdScFiltAnnot) / 5))\n",
    "dim_name1 <- \"TSNE\" # default name\n",
    "dim_name2 <- \"MNN-TSNE\"\n",
    "\n",
    "# Use the scree plot above to select this value, default is 50, i.e. all dimensions\n",
    "n_dimred <- ncol(reducedDim(cdScFiltAnnot, \"PCA\"))\n",
    "\n",
    "# runTSNE() stores the t-SNE coordinates in the reducedDims\n",
    "set.seed(12345)\n",
    "cdScFiltAnnot <- runTSNE(cdScFiltAnnot, dimred = \"PCA\", n_dimred = n_dimred, perplexity = perplexity, \n",
    "                         name = dim_name1, n_threads = nthreads, BPPARAM = bpp)\n",
    "\n",
    "set.seed(12345)\n",
    "cdScFiltAnnot <- runTSNE(cdScFiltAnnot, dimred = \"MNN\", perplexity = perplexity, \n",
    "                         name = dim_name2, n_threads = nthreads, BPPARAM = bpp)"
   ]
  },
  {
   "cell_type": "code",
   "execution_count": null,
   "metadata": {},
   "outputs": [],
   "source": [
    "p1 <- plotReducedDim(cdScFiltAnnot, dim_name1, colour_by = \"Sample\", \n",
    "                     point_size = 1, point_alpha = 0.2, theme_size = 20) +\n",
    "    scale_color_manual(values = c_sample_col) + ggtitle(\"Without correction\")\n",
    "\n",
    "p2 <- plotReducedDim(cdScFiltAnnot, dim_name2, colour_by = \"Sample\", \n",
    "                     point_size = 1, point_alpha = 0.2, theme_size = 20) +\n",
    "    scale_color_manual(values = c_sample_col) + ggtitle(\"After MNN correction\")\n",
    "\n",
    "prow <- plot_grid(\n",
    "    oldScaterPlotFix(p1) + theme(legend.position = \"none\"),\n",
    "    oldScaterPlotFix(p2) + theme(legend.position = \"none\"),\n",
    "    align = 'vh', hjust = -1, nrow = 1\n",
    ")\n",
    "\n",
    "legend <- get_legend(p1 + \n",
    "                     guides(color = guide_legend(title = \"Sample\", override.aes = list(size = 4, alpha = 1))) +\n",
    "                     theme(legend.position = \"right\"))\n",
    "\n",
    "fig(width = 16, height = 7)\n",
    "plot_grid(prow, legend, nrow = 1, rel_widths = c(1, 0.15))\n",
    "reset.fig()"
   ]
  },
  {
   "cell_type": "markdown",
   "metadata": {},
   "source": [
    "### Try other perplexity values"
   ]
  },
  {
   "cell_type": "code",
   "execution_count": null,
   "metadata": {},
   "outputs": [],
   "source": [
    "# Low\n",
    "perplexity <- 20\n",
    "dim_name1 <- paste0(\"TSNE-\", perplexity)\n",
    "dim_name2 <- paste0(\"MNN-TSNE-\", perplexity)\n",
    "\n",
    "set.seed(12345)\n",
    "cdScFiltAnnot <- runTSNE(cdScFiltAnnot, dimred = \"PCA\", n_dimred = n_dimred, perplexity = perplexity, \n",
    "                         name = dim_name1, n_threads = nthreads, BPPARAM = bpp)\n",
    "\n",
    "set.seed(12345)\n",
    "cdScFiltAnnot <- runTSNE(cdScFiltAnnot, dimred = \"MNN\", perplexity = perplexity, \n",
    "                         name = dim_name2, n_threads = nthreads, BPPARAM = bpp)"
   ]
  },
  {
   "cell_type": "code",
   "execution_count": null,
   "metadata": {},
   "outputs": [],
   "source": [
    "p1 <- plotReducedDim(cdScFiltAnnot, dimred = dim_name1, colour_by = \"Sample\", \n",
    "                     point_size = 1, point_alpha = 0.2, theme_size = 20) +\n",
    "    scale_color_manual(values = c_sample_col) + ggtitle(\"Without correction\")\n",
    "\n",
    "p2 <- plotReducedDim(cdScFiltAnnot, dimred = dim_name2, colour_by = \"Sample\", \n",
    "                     point_size = 1, point_alpha = 0.2, theme_size = 20) +\n",
    "    scale_color_manual(values = c_sample_col) + ggtitle(\"After MNN correction\")\n",
    "\n",
    "prow <- plot_grid(\n",
    "    oldScaterPlotFix(p1) + theme(legend.position = \"none\"),\n",
    "    oldScaterPlotFix(p2) + theme(legend.position = \"none\"),\n",
    "    align = 'vh', hjust = -1, nrow = 1\n",
    ")\n",
    "\n",
    "legend <- get_legend(p1 + \n",
    "                     guides(color = guide_legend(title = \"Sample\", override.aes = list(size = 4, alpha = 1))) +\n",
    "                     theme(legend.position = \"right\"))\n",
    "\n",
    "fig(width = 16, height = 7)\n",
    "plot_grid(prow, legend, nrow = 1, rel_widths = c(1, 0.15))\n",
    "reset.fig()"
   ]
  },
  {
   "cell_type": "code",
   "execution_count": null,
   "metadata": {},
   "outputs": [],
   "source": [
    "# High\n",
    "perplexity <- 80\n",
    "dim_name1 <- paste0(\"TSNE-\", perplexity)\n",
    "dim_name2 <- paste0(\"MNN-TSNE-\", perplexity)\n",
    "\n",
    "set.seed(12345)\n",
    "cdScFiltAnnot <- runTSNE(cdScFiltAnnot, dimred = \"PCA\", n_dimred = n_dimred, perplexity = perplexity, \n",
    "                         name = dim_name1, n_threads = nthreads, BPPARAM = bpp)\n",
    "\n",
    "set.seed(12345)\n",
    "cdScFiltAnnot <- runTSNE(cdScFiltAnnot, dimred = \"MNN\", perplexity = perplexity, \n",
    "                         name = dim_name2, n_threads = nthreads, BPPARAM = bpp)"
   ]
  },
  {
   "cell_type": "code",
   "execution_count": null,
   "metadata": {},
   "outputs": [],
   "source": [
    "p1 <- plotReducedDim(cdScFiltAnnot, dimred = dim_name1, colour_by = \"Sample\", \n",
    "                     point_size = 1, point_alpha = 0.2, theme_size = 20) +\n",
    "    scale_color_manual(values = c_sample_col) + ggtitle(\"Without correction\")\n",
    "\n",
    "p2 <- plotReducedDim(cdScFiltAnnot, dimred = dim_name2, colour_by = \"Sample\", \n",
    "                     point_size = 1, point_alpha = 0.2, theme_size = 20) +\n",
    "    scale_color_manual(values = c_sample_col) + ggtitle(\"After MNN correction\")\n",
    "\n",
    "prow <- plot_grid(\n",
    "    oldScaterPlotFix(p1) + theme(legend.position = \"none\"),\n",
    "    oldScaterPlotFix(p2) + theme(legend.position = \"none\"),\n",
    "    align = 'vh', hjust = -1, nrow = 1\n",
    ")\n",
    "\n",
    "legend <- get_legend(p1 + \n",
    "                     guides(color = guide_legend(title = \"Sample\", override.aes = list(size = 4, alpha = 1))) +\n",
    "                     theme(legend.position = \"right\"))\n",
    "\n",
    "fig(width = 16, height = 7)\n",
    "plot_grid(prow, legend, nrow = 1, rel_widths = c(1, 0.15))\n",
    "reset.fig()"
   ]
  },
  {
   "cell_type": "markdown",
   "metadata": {},
   "source": [
    "## Visualising with UMAP (`uwot::umap`)\n",
    "\n",
    "The uniform manifold approximation and projection (UMAP) method is an alternative to t-SNE for non-linear dimensionality reduction. It is roughly similar to t-SNE in that it also tries to find a low-dimensional representation that preserves relationships between neighbors in high-dimensional space. However, the two methods are based on different theory, represented by differences in the various graph weighting equations. [OSCA reference](http://bioconductor.org/books/release/OSCA/dimensionality-reduction.html#t-stochastic-neighbor-embedding)\n",
    "\n",
    "Compared to t-SNE, the UMAP visualisation tends to have more compact visual clusters with more empty space between them. It also attempts to preserve more of the global structure than t-SNE.\n",
    "\n",
    "UMAP has its own suite of hyperparameters that affect the visualisation. Of these, the number of neighbors (`n_neighbors`) and the minimum distance between embedded points (`min_dist`) have the greatest effect on the granularity of the output. If these values are too low, random noise will be incorrectly treated as high-resolution structure, while values that are too high will discard fine structure altogether in favor of obtaining an accurate overview of the entire dataset. Again, it is a good idea to test a range of values for these parameters to ensure that they do not compromise any conclusions drawn from a UMAP plot.\n",
    "\n",
    "#### n_dimred\n",
    "\n",
    "By default, all dimensions are used to compute the second set of reduced dimensions. If `n_dimred` is also specified, only the first `n_dimred` columns are used. Alternatively, `n_dimred` can be an integer vector specifying the column indices of the dimensions to use.\n",
    "\n",
    "#### n_neighbors\n",
    "\n",
    "This sets the number of nearest neighbors to identify when constructing the initial graph. Larger values result in more global views of the manifold, while smaller values result in more local data being preserved. In general values should be in the range 2 to 100. The default value set by `uwot` is 15 (*seurat uses 30*).\n",
    "\n",
    "#### spread\n",
    "\n",
    "The effective scale of embedded points. In combination with `min_dist`, this determines how clustered/clumped the embedded points are. The default value set by `uwot` is 1 (*seurat also uses 1*).\n",
    "\n",
    "#### min_dist\n",
    "\n",
    "The effective minimum distance between embedded points. Smaller values will result in a more clustered/clumped embedding where nearby points on the manifold are drawn closer together, while larger values will result on a more even dispersal of points. The value should be set relative to the `spread` value, which determines the scale at which embedded points will be spread out. The default value set by `uwot` is 0.01 (*seurat also uses 0.3*).\n",
    "\n",
    "<div class=\"alert alert-warning\">\n",
    "  <strong>Warning!</strong> When <code>dimred</code> is specified, no additional feature selection or standardization is performed, and existing dimensionality reduction results stored in the specified <code>reducedDimNames</code> is used.\n",
    "</div>\n",
    "\n",
    "### Use default uwot settings (very compact)"
   ]
  },
  {
   "cell_type": "code",
   "execution_count": null,
   "metadata": {},
   "outputs": [],
   "source": [
    "# Use the scree plot above to select this value, default is 50, i.e. all dimensions\n",
    "n_dimred <- ncol(reducedDim(cdScFiltAnnot, \"PCA\"))\n",
    "dim_name1 <- \"UMAP\" # default name\n",
    "dim_name2 <- \"MNN-UMAP\"\n",
    "\n",
    "set.seed(12345)\n",
    "cdScFiltAnnot <- runUMAP(cdScFiltAnnot, dimred = \"PCA\", n_dimred = n_dimred, \n",
    "                         n_neighbors = 15, spread = 1, min_dist = 0.01, \n",
    "                         name = dim_name1, n_threads = nthreads, BPPARAM = bpp)\n",
    "\n",
    "set.seed(12345)\n",
    "cdScFiltAnnot <- runUMAP(cdScFiltAnnot, dimred = \"MNN\", \n",
    "                         n_neighbors = 15, spread = 1, min_dist = 0.01, \n",
    "                         name = dim_name2, n_threads = nthreads, BPPARAM = bpp)"
   ]
  },
  {
   "cell_type": "code",
   "execution_count": null,
   "metadata": {},
   "outputs": [],
   "source": [
    "p1 <- plotReducedDim(cdScFiltAnnot, dimred = dim_name1, colour_by = \"Sample\", \n",
    "                     point_size = 1, point_alpha = 0.2, theme_size = 20) +\n",
    "    scale_color_manual(values = c_sample_col) + ggtitle(\"Without correction\")\n",
    "\n",
    "p2 <- plotReducedDim(cdScFiltAnnot, dimred = dim_name2, colour_by = \"Sample\", \n",
    "                     point_size = 1, point_alpha = 0.2, theme_size = 20) +\n",
    "    scale_color_manual(values = c_sample_col) + ggtitle(\"After MNN correction\")\n",
    "\n",
    "prow <- plot_grid(\n",
    "    oldScaterPlotFix(p1) + theme(legend.position = \"none\"),\n",
    "    oldScaterPlotFix(p2) + theme(legend.position = \"none\"),\n",
    "    align = 'vh', hjust = -1, nrow = 1\n",
    ")\n",
    "\n",
    "legend <- get_legend(p1 + \n",
    "                     guides(color = guide_legend(title = \"Sample\", override.aes = list(size = 4, alpha = 1))) +\n",
    "                     theme(legend.position = \"right\"))\n",
    "\n",
    "fig(width = 16, height = 7)\n",
    "plot_grid(prow, legend, nrow = 1, rel_widths = c(1, 0.15))\n",
    "reset.fig()"
   ]
  },
  {
   "cell_type": "markdown",
   "metadata": {},
   "source": [
    "### Trying other settings"
   ]
  },
  {
   "cell_type": "code",
   "execution_count": null,
   "metadata": {},
   "outputs": [],
   "source": [
    "dim_name1 <- \"UMAP-Large\"\n",
    "dim_name2 <- \"MNN-UMAP-Large\"\n",
    "\n",
    "set.seed(12345)\n",
    "cdScFiltAnnot <- runUMAP(cdScFiltAnnot, dimred = \"PCA\", n_dimred = n_dimred, \n",
    "                         n_neighbors = 30, spread = 1, min_dist = 0.3, # Default settings in seurat\n",
    "                         name = dim_name1, n_threads = nthreads, BPPARAM = bpp)\n",
    "\n",
    "set.seed(12345)\n",
    "cdScFiltAnnot <- runUMAP(cdScFiltAnnot, dimred = \"MNN\",\n",
    "                         n_neighbors = 30, spread = 1, min_dist = 0.3, # Default settings in seurat\n",
    "                         name = dim_name2, n_threads = nthreads, BPPARAM = bpp)"
   ]
  },
  {
   "cell_type": "code",
   "execution_count": null,
   "metadata": {},
   "outputs": [],
   "source": [
    "p1 <- plotReducedDim(cdScFiltAnnot, dimred = dim_name1, colour_by = \"Sample\", \n",
    "                     point_size = 1, point_alpha = 0.2, theme_size = 20) +\n",
    "    scale_color_manual(values = c_sample_col) + ggtitle(\"Without correction\")\n",
    "\n",
    "p2 <- plotReducedDim(cdScFiltAnnot, dimred = dim_name2, colour_by = \"Sample\", \n",
    "                     point_size = 1, point_alpha = 0.2, theme_size = 20) +\n",
    "    scale_color_manual(values = c_sample_col) + ggtitle(\"After MNN correction\")\n",
    "\n",
    "prow <- plot_grid(\n",
    "    oldScaterPlotFix(p1) + theme(legend.position = \"none\"),\n",
    "    oldScaterPlotFix(p2) + theme(legend.position = \"none\"),\n",
    "    align = 'vh', hjust = -1, nrow = 1\n",
    ")\n",
    "\n",
    "legend <- get_legend(p1 + \n",
    "                     guides(color = guide_legend(title = \"Sample\", override.aes = list(size = 4, alpha = 1))) +\n",
    "                     theme(legend.position = \"right\"))\n",
    "\n",
    "fig(width = 16, height = 7)\n",
    "plot_grid(prow, legend, nrow = 1, rel_widths = c(1, 0.15))\n",
    "reset.fig()"
   ]
  },
  {
   "cell_type": "code",
   "execution_count": null,
   "metadata": {},
   "outputs": [],
   "source": [
    "dim_name1 <- \"UMAP-Larger\"\n",
    "dim_name2 <- \"MNN-UMAP-Larger\"\n",
    "\n",
    "set.seed(12345)\n",
    "cdScFiltAnnot <- runUMAP(cdScFiltAnnot, dimred = \"PCA\", n_dimred = n_dimred, \n",
    "                         n_neighbors = 50, spread = 1, min_dist = 0.5, # Ever larger n_neighbors & min_dist\n",
    "                         name = dim_name1, n_threads = nthreads, BPPARAM = bpp)\n",
    "\n",
    "set.seed(12345)\n",
    "cdScFiltAnnot <- runUMAP(cdScFiltAnnot, dimred = \"MNN\",\n",
    "                         n_neighbors = 50, spread = 1, min_dist = 0.5, # Ever larger n_neighbors & min_dist\n",
    "                         name = dim_name2, n_threads = nthreads, BPPARAM = bpp)"
   ]
  },
  {
   "cell_type": "code",
   "execution_count": null,
   "metadata": {},
   "outputs": [],
   "source": [
    "p1 <- plotReducedDim(cdScFiltAnnot, dimred = dim_name1, colour_by = \"Sample\", \n",
    "                     point_size = 1, point_alpha = 0.2, theme_size = 20) +\n",
    "    scale_color_manual(values = c_sample_col) + ggtitle(\"Without correction\")\n",
    "\n",
    "p2 <- plotReducedDim(cdScFiltAnnot, dimred = dim_name2, colour_by = \"Sample\", \n",
    "                     point_size = 1, point_alpha = 0.2, theme_size = 20) +\n",
    "    scale_color_manual(values = c_sample_col) + ggtitle(\"After MNN correction\")\n",
    "\n",
    "prow <- plot_grid(\n",
    "    oldScaterPlotFix(p1) + theme(legend.position = \"none\"),\n",
    "    oldScaterPlotFix(p2) + theme(legend.position = \"none\"),\n",
    "    align = 'vh', hjust = -1, nrow = 1\n",
    ")\n",
    "\n",
    "legend <- get_legend(p1 + \n",
    "                     guides(color = guide_legend(title = \"Sample\", override.aes = list(size = 4, alpha = 1))) +\n",
    "                     theme(legend.position = \"right\"))\n",
    "\n",
    "fig(width = 16, height = 7)\n",
    "plot_grid(prow, legend, nrow = 1, rel_widths = c(1, 0.15))\n",
    "reset.fig()"
   ]
  },
  {
   "cell_type": "markdown",
   "metadata": {},
   "source": [
    "## Diagnosing batch effects\n",
    "\n",
    "Examining the above dimensionality reduction plots, are there batch effect in this dataset? [Extended Reading](http://bioconductor.org/books/release/OSCA/integrating-datasets.html#using-corrected-values)\n",
    "\n",
    "<div class=\"alert alert-info\">\n",
    "  <strong>About this dataset: </strong> (edits required)\n",
    "  <ul>\n",
    "    <li>We see a some separation between cells from different samples in the uncorrected data.</li>\n",
    "  </ul>\n",
    "</div>"
   ]
  },
  {
   "cell_type": "code",
   "execution_count": null,
   "metadata": {},
   "outputs": [],
   "source": [
    "# Print reducedDim name\n",
    "reducedDimNames(cdScFiltAnnot)"
   ]
  },
  {
   "cell_type": "code",
   "execution_count": null,
   "metadata": {},
   "outputs": [],
   "source": [
    "save.image(\"data.RData\")"
   ]
  },
  {
   "cell_type": "markdown",
   "metadata": {},
   "source": [
    "# 10. Clustering of cells<a name='section10' />\n",
    "\n",
    "The goal is to split the cells in the dataset into clusters, such that:\n",
    "\n",
    "1. the cellular expression in the same cluster are as similar as possible,\n",
    "2. the cellular expression in different clusters are highly distinct\n",
    "\n",
    "There are numerous methods of clustering; hierarchical clustering (+`dynamicTreeCut`), k-means, k-medoids, GMM, GP-LVM and so on. Here the dynamic-cut-tree will be used.\n",
    "\n",
    "<div class=\"alert alert-danger\">\n",
    "  <strong>Danger!</strong> Hierarchical clustering is not a scalable approach with respect to the number of cells.\n",
    "</div>\n",
    "\n",
    "## Use hierarchical clustering\n",
    "\n",
    "Hierarchical clustering is an ancient technique that aims to generate a dendrogram containing a hierarchy of samples. This is most commonly done by greedily agglomerating samples into clusters, then agglomerating those clusters into larger clusters, and so on until all samples belong to a single cluster.\n",
    "\n",
    "### About Dynamic Tree Cut\n",
    "\n",
    "Hierarchical clustering is a widely used method for detecting clusters in genomic data. Clusters are defined by cutting branches off the dendrogram. A common but inflexible method uses a constant height cutoff value; this method exhibits suboptimal performance on complicated dendrograms. The **Dynamic Tree Cut** R library implements novel dynamic branch cutting methods for detecting clusters in a dendrogram depending on their shape. Compared to the constant height cutoff method, these techniques offer the following advantages: \n",
    "\n",
    "1. they are capable of identifying nested clusters\n",
    "2. they are flexible --- cluster shape parameters can be tuned to suit the application at hand\n",
    "3. they are suitable for automation\n",
    "4. they can optionally combine the advantages of hierarchical clustering and partitioning around medoids, giving better detection of outliers.\n",
    "\n",
    "### Clustering cells into putative subpopulations\n",
    "\n",
    "Hierarchical clustering is performed on the Euclidean distances between cells, using Ward’s criterion to minimize the total variance within each cluster. This yields a dendrogram that groups together cells with similar expression patterns across the chosen genes. \n",
    "\n",
    "Clusters are explicitly defined by applying a dynamic tree cut [Langfelder et al., 2008](https://academic.oup.com/bioinformatics/article/24/5/719/200751) to the dendrogram. This exploits the shape of the branches in the dendrogram to refine the cluster definitions, and is more appropriate than cutree for complex dendrograms. Greater control of the empirical clusters can be obtained by manually specifying cutHeight in `cutreeDynamic`.\n",
    "\n",
    "An alternative approach is to cluster on a matrix of distances derived from correlations (e.g., as in `quickCluster`). This is more robust to noise and normalisation errors, but is also less sensitive to subtle changes in the expression profiles."
   ]
  },
  {
   "cell_type": "markdown",
   "metadata": {},
   "source": [
    "<div class=\"alert alert-warning\">\n",
    "    <strong>Warning!</strong> Clustering using <code>logcounts</code> is now removed as the silhouette width is always much lower, which suggest weak classification.\n",
    "</div>"
   ]
  },
  {
   "cell_type": "code",
   "execution_count": null,
   "metadata": {},
   "outputs": [],
   "source": [
    "# Stores hclust + cut.dynamic labels\n",
    "hclust.clusters <- vector(mode = \"list\")\n",
    "my.dist <- vector(mode = \"list\")\n",
    "\n",
    "my.dist[[\"PCA\"]] <- dist(reducedDim(cdScFiltAnnot, \"PCA\"), method = \"euclidean\")\n",
    "my.dist[[\"MNN\"]] <- dist(reducedDim(cdScFiltAnnot, \"MNN\"), method = \"euclidean\")\n",
    "\n",
    "if ( requireNamespace(\"bluster\", quietly = TRUE) ) {\n",
    "    hclust.clusters[[\"PCA\"]] <- bluster::clusterRows(reducedDim(cdScFiltAnnot, \"PCA\"), \n",
    "                                        bluster::HclustParam(method = \"ward.D2\", cut.dynamic = TRUE))\n",
    "    hclust.clusters[[\"MNN\"]] <- bluster::clusterRows(reducedDim(cdScFiltAnnot, \"MNN\"), \n",
    "                                        bluster::HclustParam(method = \"ward.D2\", cut.dynamic = TRUE))\n",
    "} else {\n",
    "    hclust.clusters[[\"PCA\"]] <- cutreeDynamic(hclust(my.dist[[\"PCA\"]], method = \"ward.D2\"), \n",
    "                                              distM = as.matrix(my.dist[[\"PCA\"]]))\n",
    "    hclust.clusters[[\"MNN\"]] <- cutreeDynamic(hclust(my.dist[[\"MNN\"]], method = \"ward.D2\"), \n",
    "                                              distM = as.matrix(my.dist[[\"MNN\"]]))\n",
    "}"
   ]
  },
  {
   "cell_type": "code",
   "execution_count": null,
   "metadata": {},
   "outputs": [],
   "source": [
    "print(\"Cluster assignments:\")\n",
    "for(i in 1:length(hclust.clusters)) {\n",
    "    tab <- table(colData(cdScFiltAnnot)$Sample, hclust.clusters[[i]])\n",
    "    names(dimnames(tab))[2] <- names(hclust.clusters)[i]\n",
    "    print(tab)\n",
    "}"
   ]
  },
  {
   "cell_type": "markdown",
   "metadata": {},
   "source": [
    "### Assessing cluster separation\n",
    "\n",
    "We check the separation of the clusters using the silhouette width. Each cluster would ideally contain large positive silhouette widths, indicating that it is well-separated from other clusters. \n",
    "\n",
    "#### Silhouette cluster validation plot\n",
    "\n",
    "The silhouette plot displays a measure of how close each point in one cluster is to points in the neighboring clusters.\n",
    "\n",
    "Silhouette width can be interpreted as follows:\n",
    "\n",
    "- Cells with a large Si (almost 1) are very well clustered.\n",
    "- A small Si (around 0) means that the observation lies between two clusters.\n",
    "- Cells with a negative Si are probably placed in the wrong cluster. (so cluster is less stable and trustworthy)\n",
    "\n",
    "\n",
    "#### Background to cluster validation\n",
    "\n",
    "#### Internal measures for cluster validation\n",
    "\n",
    "In this section, we describe the most widely used clustering validation indices. Recall that the goal of partitioning clustering algorithms (Part @ref(partitioning-clustering)) is to split the data set into clusters of objects, such that:\n",
    "\n",
    "- the objects in the same cluster are as similar as possible,\n",
    "- and the objects in different clusters are highly distinct\n",
    "- [Choosing the Best Clustering Algorithms](https://www.datanovia.com/en/lessons/choosing-the-best-clustering-algorithms/), [Cluster Validation Statistics: Must Know Methods](https://www.datanovia.com/en/lessons/cluster-validation-statistics-must-know-methods/)\n",
    "\n",
    "**We want the average distance within cluster to be as small as possible; and the average distance between clusters to be as large as possible.**\n",
    "\n",
    "Internal validation measures often reflect the compactness, the connectedness and the separation of the cluster partitions.\n",
    "\n",
    "1. Compactness or cluster cohesion: Measures how close are the objects within the same cluster. A lower within-cluster variation is an indicator of a good compactness (i.e., a good clustering). The different indices for evaluating the compactness of clusters are base on distance measures such as the cluster-wise within average/median distances between observations.\n",
    "2. Separation: Measures how well-separated a cluster is from other clusters. The indices used as separation measures include:\n",
    "    * distances between cluster centers\n",
    "    * the pairwise minimum distances between objects in different clusters\n",
    "3. Connectivity: corresponds to what extent items are placed in the same cluster as their nearest neighbors in the data space. The connectivity has a value between 0 and infinity and should be minimized.\n",
    "\n",
    "Generally most of the indices used for internal clustering validation combine compactness and separation measures as follow:\n",
    "\n",
    "$Index = \\frac{\\alpha * Seperation}{\\beta * Compactness}$\n",
    "where $\\alpha$ and $\\beta$ are weights.\n",
    "\n",
    "#### Silhouette coefficient\n",
    "\n",
    "The silhouette analysis measures how well an observation is clustered and it estimates the average distance between clusters. The silhouette plot displays a measure of how close each point in one cluster is to points in the neighboring clusters.\n",
    "\n",
    "For each observation $i$, the silhouette width $s_i$ is calculated as follows:\n",
    "\n",
    "1. For each observation $i$, calculate the average dissimalirty $\\alpha_i$ between $i$ and all other points of the cluster which $i$ belongs.\n",
    "2. For all other clusters $C$, to which $i$ does not belong, calculate the average dissimilarity $d(i,C)$ of $i$ to all observations of $C$. The smallest of these $d(i,C)$ is defined as $b_i = min_C d(i,C)$. The value of $b_i$ can be seen as the dissimilarity between i and its __neighbor__ cluster, i.e. the nearest one to which it does not belong.\n",
    "3. Finally the silhouette width of the observation $i$ is defined by the formula: $S_i = \\frac{(b_i - a_i)}{max(a_i,b_i)}$\n",
    "\n",
    "Silhouette width can be interpreted as follow:\n",
    "\n",
    "- Observations with a large Si (almost 1) are very well clustered.\n",
    "- A small Si (around 0) means that the observation lies between two clusters.\n",
    "- Observations with a negative Si are probably placed in the wrong cluster."
   ]
  },
  {
   "cell_type": "code",
   "execution_count": null,
   "metadata": {},
   "outputs": [],
   "source": [
    "# Use bluster::approxSilhouette\n",
    "plotSilhouette <- function(reducedDim, clusters, printDiff = TRUE, plot = TRUE) {\n",
    "    if ( requireNamespace(\"bluster\", quietly = TRUE) ) {\n",
    "        # Performing the calculations on the PC coordinates, like before.\n",
    "        sil.approx <- bluster::approxSilhouette(reducedDim, clusters = clusters)\n",
    "        sil.data <- as.data.frame(sil.approx)\n",
    "        sil.data$closest <- ifelse(sil.data$width > 0, clusters, sil.data$other)\n",
    "        sil.data$cluster <- factor(clusters)\n",
    "        sil.data$isSame <- sil.data$closest == sil.data$cluster\n",
    "        \n",
    "        print(\"Silhouette width summary:\")\n",
    "        print(summary(sil.data$width))\n",
    "        \n",
    "        if(printDiff) {\n",
    "            print(sil.data %>% group_by(cluster, isSame) %>% summarize(N = n()) %>% \n",
    "                  mutate(\"% Different\" = round(N / sum(N) * 100, 2)) %>% ungroup() %>% \n",
    "                  complete(cluster, isSame, fill = list(N = 0, \"% Different\" = 0)) %>%\n",
    "                  dplyr::filter(isSame == FALSE) %>% dplyr::select(-c(N, isSame)), n = 30)\n",
    "        }\n",
    "\n",
    "        if(plot) {\n",
    "            p <- ggplot(sil.data, aes(x = cluster, y = width, colour = factor(closest))) + \n",
    "                theme_classic(base_size = 20) + geom_quasirandom(size = 1, alpha = 0.8, method = \"smiley\") +\n",
    "                geom_hline(yintercept = mean(sil.data$width), size = 1, linetype = \"dashed\", color = \"red\" ) +\n",
    "                geom_hline(yintercept = 0, size = 0.5, color = \"black\" ) + ylab(\"Silhouette width Si\")\n",
    "        \n",
    "            ncol = ceiling(length(table(clusters))/25) # 25 in a column\n",
    "            p <- p + guides(color = guide_legend(title = \"Cluster\", ncol = ncol, \n",
    "                                                 override.aes = list(size = 4, alpha = 1)))\n",
    "        \n",
    "            if(length(table(clusters)) <= 30) {\n",
    "                p <- p + scale_color_manual(values = c_clust_col) # use c_clust_col \n",
    "            }\n",
    "            print(p)\n",
    "        }\n",
    "    } else {\n",
    "        print(\"bluster is not installed, skip visualising approximate silhouette width.\")\n",
    "    }\n",
    "}"
   ]
  },
  {
   "cell_type": "code",
   "execution_count": null,
   "metadata": {},
   "outputs": [],
   "source": [
    "fig(width = 16, height = 7)\n",
    "plotSilhouette(reducedDim(cdScFiltAnnot, \"PCA\"), hclust.clusters[[\"PCA\"]])\n",
    "reset.fig()"
   ]
  },
  {
   "cell_type": "code",
   "execution_count": null,
   "metadata": {},
   "outputs": [],
   "source": [
    "fig(width = 16, height = 7)\n",
    "plotSilhouette(reducedDim(cdScFiltAnnot, \"MNN\"), hclust.clusters[[\"MNN\"]])\n",
    "reset.fig()"
   ]
  },
  {
   "cell_type": "markdown",
   "metadata": {},
   "source": [
    "<div class=\"alert alert-info\">\n",
    "  <strong>About this dataset: </strong> (edits required)\n",
    "  <ul>\n",
    "    <li>It looks like the clusters are not very stable.</li>\n",
    "  </ul>\n",
    "</div>"
   ]
  },
  {
   "cell_type": "markdown",
   "metadata": {},
   "source": [
    "### Show assigned clusters\n",
    "\n",
    "We add the cluster assignments back into the `sce` object as a factor in the column metadata (`label`). This allows us to visualise the distribution of clusters in a t-SNE plot."
   ]
  },
  {
   "cell_type": "code",
   "execution_count": null,
   "metadata": {},
   "outputs": [],
   "source": [
    "# Plots colored by samples\n",
    "p1 <- vector('list', 2)\n",
    "\n",
    "p1[[1]] <- plotReducedDim(cdScFiltAnnot, \"TSNE\", colour_by = \"Sample\", \n",
    "                     point_size = 1, point_alpha = 0.2, theme_size = 20) +\n",
    "    scale_color_manual(values = c_sample_col) + theme(legend.position = \"none\") + \n",
    "    ggtitle(\"Without correction\", subtitle = \"Coloured by Sample\")\n",
    "p1[[1]] <- oldScaterPlotFix(p1[[1]])\n",
    "\n",
    "p1[[2]] <- plotReducedDim(cdScFiltAnnot, \"MNN-TSNE\", colour_by = \"Sample\", \n",
    "                     point_size = 1, point_alpha = 0.2, theme_size = 20) +\n",
    "    scale_color_manual(values = c_sample_col) + theme(legend.position = \"none\") + \n",
    "    ggtitle(\"After MNN correction\", subtitle = \"Coloured by Sample\")\n",
    "p1[[2]] <- oldScaterPlotFix(p1[[2]])\n",
    "\n",
    "# Plots colored by clusters\n",
    "p2 <- vector('list', length(hclust.clusters))\n",
    "\n",
    "is.max = 0\n",
    "for(i in 1:length(hclust.clusters)) {\n",
    "    colLabels(cdScFiltAnnot) <- factor(hclust.clusters[[i]])\n",
    "    \n",
    "    # Choose assignment with maximum number of clusters\n",
    "    if(length(levels(colLabels(cdScFiltAnnot))) > is.max) {\n",
    "        is.max <- length(levels(colLabels(cdScFiltAnnot)))\n",
    "        is.max <- setNames(is.max, i)\n",
    "    }\n",
    "\n",
    "    if(names(hclust.clusters)[i] == \"MNN\") {\n",
    "        p2[[i]] <- plotReducedDim(cdScFiltAnnot, \"MNN-TSNE\", colour_by = \"label\", text_by = \"label\", \n",
    "                     point_size = 1, point_alpha = 0.2, text_size = 10, text_colour = \"black\", theme_size = 20) + \n",
    "        scale_color_manual(values = c_clust_col) + theme(legend.position = \"none\") +\n",
    "        ggtitle(\"After MNN correction\", subtitle = \"MNN\")\n",
    "\n",
    "    } else {\n",
    "        p2[[i]] <- plotReducedDim(cdScFiltAnnot, \"TSNE\", colour_by = \"label\", text_by = \"label\", \n",
    "                     point_size = 1, point_alpha = 0.2, text_size = 10, text_colour = \"black\", theme_size = 20) +\n",
    "        scale_color_manual(values = c_clust_col) + theme(legend.position = \"none\") +\n",
    "        ggtitle(\"Without correction\", subtitle = names(hclust.clusters)[i])\n",
    "    }\n",
    "    p2[[i]] <- oldScaterPlotFix(p2[[i]])\n",
    "}"
   ]
  },
  {
   "cell_type": "code",
   "execution_count": null,
   "metadata": {},
   "outputs": [],
   "source": [
    "# Join plots\n",
    "prow1 <- plot_grid(plotlist = p1, align = 'vh', hjust = -1, nrow = 1)\n",
    "prow2 <- plot_grid(plotlist = p2, align = 'vh', hjust = -1, nrow = 1)\n",
    "\n",
    "legend1 <- get_legend(p1[[1]] + \n",
    "                      guides(color = guide_legend(title = \"Sample\", override.aes = list(size = 4, alpha = 1))) + \n",
    "                      theme(legend.position = \"right\"))\n",
    "\n",
    "# Show legend from plot with maximum number of clusters\n",
    "legend2 <- get_legend(p2[[as.numeric(names(is.max))]] + \n",
    "                      guides(color = guide_legend(title = \"Hierarchical\\nclustering\",\n",
    "                                                  ncol = 1, # ncol can be 1 is number of clusters is < 17\n",
    "                                                  override.aes = list(size = 4, alpha = 1))) +\n",
    "                      theme(legend.position = \"right\"))\n",
    "\n",
    "fig(width = 16, height = 12)\n",
    "plot_grid(\n",
    "    plot_grid(prow1, legend1, nrow = 1, rel_widths = c(0.8, 0.2)),\n",
    "    plot_grid(prow2, legend2, nrow = 1, rel_widths = c(0.8, 0.2)),\n",
    "    ncol = 1, rel_heights = c(0.5, 0.5)\n",
    ")\n",
    "reset.fig()"
   ]
  },
  {
   "cell_type": "markdown",
   "metadata": {},
   "source": [
    "<div class=\"alert alert-info\">\n",
    "  <strong>About this dataset: </strong> (edits required)\n",
    "  <ul>\n",
    "    <li>We see an unbalanced contributions of cells from different samples to each cluster in the uncorrected data.</li>\n",
    "  </ul>\n",
    "</div>"
   ]
  },
  {
   "cell_type": "markdown",
   "metadata": {},
   "source": [
    "## Use graph-based clustering\n",
    "\n",
    "Popularized by its use in Seurat, graph-based clustering is a flexible and scalable technique for clustering large scRNA-seq datasets. The major advantage of graph-based clustering lies in its scalability. It only requires a  \n",
    "k-nearest neighbor search that can be done in log-linear time on average. Graph construction avoids making strong assumptions about the shape of the clusters or the distribution of cells within each cluster.\n",
    "\n",
    "From a practical perspective, each cell is forcibly connected to a minimum number of neighboring cells, which reduces the risk of generating many uninformative clusters consisting of one or two outlier cells. The main drawback of graph-based methods is that, after graph construction, no information is retained about relationships beyond the neighboring cells. [OSCA reference](http://bioconductor.org/books/release/OSCA/clustering.html#clustering-graph)\n",
    "\n",
    "#### About `k`\n",
    "\n",
    "Set `k` to specify the number of nearest neighbors to consider during graph construction. The choice of `k` controls the connectivity of the graph and the resolution of community detection algorithms. Smaller values of `k` will generally yield smaller, finer clusters, while increasing `k` will increase the connectivity of the graph and make it more difficult to resolve different communities. The value of `k` can be roughly interpreted as the anticipated size of the smallest subpopulation. \n",
    "\n",
    "#### Different methods for finding communities in `igraph`\n",
    "\n",
    "In this notebook, we use the Walktrap algorithm (`cluster_walktrap`) to detect community structure. This is also the method demonstrated in [OSCA](http://bioconductor.org/books/release/OSCA/clustering.html#implementation). There are other methods in `igraph` ([doc](https://igraph.org/r/doc/communities.html)): \n",
    "\n",
    "- cluster_edge_betweenness\n",
    "- cluster_fast_greedy\n",
    "- cluster_label_prop\n",
    "- cluster_leading_eigen\n",
    "- cluster_louvain\n",
    "- cluster_optimal\n",
    "- cluster_spinglass\n",
    "- cluster_walktrap\n",
    "\n",
    "#### Specifying the number of clusters\n",
    "\n",
    "The `igraph`'s Walktrap community finding algorithm is a hierarchical algorithm. This implies that there is an underlying hierarchy in the communities object, and we can use the `cut_at` function to cut the merge tree at the desired place and returns a membership vector. The desired place can be expressed as the desired number of communities (e.g. `no=10`) or as the number of merge steps to make (e.g. `steps = 5`). The function gives an error message if called with a non-hierarchical method.\n",
    "\n",
    "```\n",
    "g <- buildSNNGraph(sce, k = 10, use.dimred = \"PCA\")\n",
    "clu <- igraph::cut_at(cluster_walktrap(g), no = 10) # returns 10 clusters\n",
    "```"
   ]
  },
  {
   "cell_type": "code",
   "execution_count": null,
   "metadata": {},
   "outputs": [],
   "source": [
    "# Stores graph-based walktrap labels\n",
    "# Use multiple cores and annoy algorithm for approximate nearest-neighbor detection to speed up this step\n",
    "graph.clusters <- vector(mode = \"list\")\n",
    "communities <- vector(mode = \"list\")\n",
    "\n",
    "k <- 50\n",
    "\n",
    "if ( requireNamespace(\"bluster\", quietly = TRUE) ) {\n",
    "    communities[[\"PCA\"]] <- bluster::clusterRows(reducedDim(cdScFiltAnnot, \"PCA\"), \n",
    "                                                 bluster::NNGraphParam(cluster.fun = \"walktrap\", k = k, \n",
    "                                                                       BNPARAM = BiocNeighbors::AnnoyParam(), \n",
    "                                                                       BPPARAM = bpp), full = TRUE)\n",
    "    graph.clusters[[\"PCA\"]] <- communities[[\"PCA\"]]$clusters\n",
    "    \n",
    "    communities[[\"MNN\"]] <- bluster::clusterRows(reducedDim(cdScFiltAnnot, \"MNN\"), \n",
    "                                                 bluster::NNGraphParam(cluster.fun = \"walktrap\", k = k, \n",
    "                                                                       BNPARAM = BiocNeighbors::AnnoyParam(), \n",
    "                                                                       BPPARAM = bpp), full = TRUE)\n",
    "    graph.clusters[[\"MNN\"]] <- communities[[\"MNN\"]]$cluster\n",
    "} else {\n",
    "    communities[[\"PCA\"]] <- cluster_walktrap(buildSNNGraph(cdScFiltAnnot, k = k, use.dimred = \"PCA\", \n",
    "                                                           BNPARAM = BiocNeighbors::AnnoyParam(), BPPARAM = bpp))\n",
    "    graph.clusters[[\"PCA\"]] <- communities[[\"PCA\"]]$membership\n",
    "    \n",
    "    communities[[\"MNN\"]] <- cluster_walktrap(buildSNNGraph(cdScFiltAnnot, k = k, use.dimred = \"MNN\", \n",
    "                                                           BNPARAM = BiocNeighbors::AnnoyParam(), BPPARAM = bpp))\n",
    "    graph.clusters[[\"MNN\"]] <- communities[[\"MNN\"]]$membership\n",
    "}"
   ]
  },
  {
   "cell_type": "code",
   "execution_count": null,
   "metadata": {},
   "outputs": [],
   "source": [
    "print(\"Cluster assignments:\")\n",
    "for(i in 1:length(graph.clusters)) {\n",
    "    tab <- table(colData(cdScFiltAnnot)$Sample, graph.clusters[[i]])\n",
    "    names(dimnames(tab))[2] <- names(graph.clusters)[i]\n",
    "    print(tab)\n",
    "    \n",
    "    plotSilhouette(reducedDim(cdScFiltAnnot, names(graph.clusters)[i]), graph.clusters[[i]], \n",
    "                   printDiff = FALSE, plot = FALSE)\n",
    "}"
   ]
  },
  {
   "cell_type": "markdown",
   "metadata": {},
   "source": [
    "### Manually tuning clustering resolution\n",
    "\n",
    "You can increase `k` to obtain less resolved clusters or descrease to obtain more resolved clusters. Here we are using `cut_at` to set the number of clusters."
   ]
  },
  {
   "cell_type": "code",
   "execution_count": null,
   "metadata": {},
   "outputs": [],
   "source": [
    "# Use cut_at to set cluster size\n",
    "n <- 18\n",
    "\n",
    "if ( requireNamespace(\"bluster\", quietly = TRUE) ) {\n",
    "    graph.clusters[[\"PCA\"]] <- cut_at(communities[[\"PCA\"]]$objects$communities, n = n)\n",
    "    graph.clusters[[\"MNN\"]] <- cut_at(communities[[\"MNN\"]]$objects$communities, n = n)\n",
    "} else {\n",
    "    graph.clusters[[\"PCA\"]] <- cut_at(communities[[\"PCA\"]], n = n)  \n",
    "    graph.clusters[[\"MNN\"]] <- cut_at(communities[[\"MNN\"]], n = n)\n",
    "}\n",
    "\n",
    "print(\"Cluster assignments:\")\n",
    "for(i in 1:length(graph.clusters)) {\n",
    "    tab <- table(colData(cdScFiltAnnot)$Sample, graph.clusters[[i]])\n",
    "    names(dimnames(tab))[2] <- names(graph.clusters)[i]\n",
    "    print(tab)\n",
    "    \n",
    "    plotSilhouette(reducedDim(cdScFiltAnnot, names(graph.clusters)[i]), graph.clusters[[i]], \n",
    "                   printDiff = FALSE, plot = FALSE)\n",
    "}"
   ]
  },
  {
   "cell_type": "code",
   "execution_count": null,
   "metadata": {},
   "outputs": [],
   "source": [
    "fig(width = 16, height = 7)\n",
    "plotSilhouette(reducedDim(cdScFiltAnnot, \"PCA\"), graph.clusters[[\"PCA\"]])\n",
    "reset.fig()"
   ]
  },
  {
   "cell_type": "code",
   "execution_count": null,
   "metadata": {},
   "outputs": [],
   "source": [
    "fig(width = 16, height = 7)\n",
    "plotSilhouette(reducedDim(cdScFiltAnnot, \"MNN\"), graph.clusters[[\"MNN\"]])\n",
    "reset.fig()"
   ]
  },
  {
   "cell_type": "markdown",
   "metadata": {},
   "source": [
    "<div class=\"alert alert-info\">\n",
    "  <strong>About this dataset: </strong> (edits required)\n",
    "  <ul>\n",
    "    <li><code>cut_at</code> with 18 clusters yields relatively higher silhouette width.</li>\n",
    "    <li>It looks like the clusters are stable with the exception of cluster 1, 3 and 7.</li>\n",
    "  </ul>\n",
    "</div>"
   ]
  },
  {
   "cell_type": "markdown",
   "metadata": {},
   "source": [
    "### Show assigned clusters\n",
    "\n",
    "We add the cluster assignments back into the `sce` object as a factor in the column metadata (`label`). This allows us to visualise the distribution of clusters in a t-SNE plot."
   ]
  },
  {
   "cell_type": "code",
   "execution_count": null,
   "metadata": {},
   "outputs": [],
   "source": [
    "# Plots colored by samples\n",
    "p1 <- vector('list', 2)\n",
    "\n",
    "p1[[1]] <- plotReducedDim(cdScFiltAnnot, \"TSNE\", colour_by = \"Sample\", \n",
    "                     point_size = 1, point_alpha = 0.2, theme_size = 20) +\n",
    "    scale_color_manual(values = c_sample_col) + theme(legend.position = \"none\") + \n",
    "ggtitle(\"Without correction\", subtitle = \"Coloured by Sample\")\n",
    "p1[[1]] <- oldScaterPlotFix(p1[[1]])\n",
    "\n",
    "p1[[2]] <- plotReducedDim(cdScFiltAnnot, \"MNN-TSNE\", colour_by = \"Sample\", \n",
    "                     point_size = 1, point_alpha = 0.2, theme_size = 20) +\n",
    "    scale_color_manual(values = c_sample_col) + theme(legend.position = \"none\") + \n",
    "ggtitle(\"After MNN correction\", subtitle = \"Coloured by Sample\")\n",
    "p1[[2]] <- oldScaterPlotFix(p1[[2]])\n",
    "\n",
    "# Plots colored by clusters\n",
    "p2 <- vector('list', length(graph.clusters))\n",
    "\n",
    "is.max = 0\n",
    "for(i in 1:length(graph.clusters)) {\n",
    "    colLabels(cdScFiltAnnot) <- factor(graph.clusters[[i]])\n",
    "    \n",
    "    # Choose assignment with maximum number of clusters\n",
    "    if(length(levels(colLabels(cdScFiltAnnot))) > is.max) {\n",
    "        is.max <- length(levels(colLabels(cdScFiltAnnot)))\n",
    "        is.max <- setNames(is.max, i)\n",
    "    }\n",
    "\n",
    "    if(names(graph.clusters)[i] == \"MNN\") {\n",
    "        p2[[i]] <- plotReducedDim(cdScFiltAnnot, \"MNN-TSNE\", colour_by = \"label\", text_by = \"label\", \n",
    "                     point_size = 1, point_alpha = 0.2, text_size = 10, text_colour = \"black\", theme_size = 20) + \n",
    "        scale_color_manual(values = c_clust_col) + theme(legend.position = \"none\") +\n",
    "        ggtitle(\"After MNN correction\", subtitle = \"MNN\")\n",
    "    } else {\n",
    "        p2[[i]] <- plotReducedDim(cdScFiltAnnot, \"TSNE\", colour_by = \"label\", text_by = \"label\", \n",
    "                     point_size = 1, point_alpha = 0.2, text_size = 10, text_colour = \"black\", theme_size = 20) +\n",
    "        scale_color_manual(values = c_clust_col) + theme(legend.position = \"none\") +\n",
    "        ggtitle(\"Without correction\", subtitle = names(graph.clusters)[i])\n",
    "    }\n",
    "    p2[[i]] <- oldScaterPlotFix(p2[[i]])\n",
    "}"
   ]
  },
  {
   "cell_type": "code",
   "execution_count": null,
   "metadata": {},
   "outputs": [],
   "source": [
    "# Join plots\n",
    "prow1 <- plot_grid(plotlist = p1, align = 'vh', hjust = -1, nrow = 1)\n",
    "prow2 <- plot_grid(plotlist = p2, align = 'vh', hjust = -1, nrow = 1)\n",
    "\n",
    "legend1 <- get_legend(p1[[1]] + \n",
    "                      guides(color = guide_legend(title = \"Sample\", override.aes = list(size = 4, alpha = 1))) + \n",
    "                      theme(legend.position = \"right\"))\n",
    "\n",
    "# Show legend from plot with maximum number of clusters\n",
    "legend2 <- get_legend(p2[[as.numeric(names(is.max))]] + \n",
    "                      guides(color = guide_legend(title = \"Graph-based\\nclustering\",\n",
    "                                                  ncol = 2, # ncol can be 1 is number of clusters is < 17\n",
    "                                                  override.aes = list(size = 4, alpha = 1))) +\n",
    "                      theme(legend.position = \"right\"))\n",
    "\n",
    "fig(width = 16, height = 12)\n",
    "plot_grid(\n",
    "    plot_grid(prow1, legend1, nrow = 1, rel_widths = c(0.8, 0.2)),\n",
    "    plot_grid(prow2, legend2, nrow = 1, rel_widths = c(0.8, 0.2)),\n",
    "    ncol = 1, rel_heights = c(0.5, 0.5)\n",
    ")\n",
    "reset.fig()"
   ]
  },
  {
   "cell_type": "markdown",
   "metadata": {},
   "source": [
    "<div class=\"alert alert-info\">\n",
    "  <strong>About this dataset: </strong> (edits required)\n",
    "  <ul>\n",
    "    <li>The contributions of cells from different samples to each cluster is quite balanced in both uncorrected and corrected data.</li>\n",
    "  </ul>\n",
    "</div>"
   ]
  },
  {
   "cell_type": "markdown",
   "metadata": {},
   "source": [
    "## Add assigned clusters to `sce` objects\n",
    "\n",
    "Here we assigned the graph-based clusters to the default \"label\" column using the `colLabels` function. We also add 2 additional labels (`hclustClusters` and `graphClusters`) so that the BCF R Shiny app can find the assignments by the graph-based and hclust+dynamicTreeCut methods.\n",
    "\n",
    "<div class=\"alert alert-warning\">\n",
    "  <strong>Warning!</strong> Based on the diagnostic checks by examing dimensionality reduction plots and clustering results, decide if cluster labels from using corrected values is preferred.\n",
    "</div>"
   ]
  },
  {
   "cell_type": "code",
   "execution_count": null,
   "metadata": {},
   "outputs": [],
   "source": [
    "# Here we assigned the graph-based clusters to the default \"label\" column\n",
    "colLabels(cdScFiltAnnot) <- factor(graph.clusters[[\"MNN\"]])\n",
    "colLabels(cdScFiltSub) <- factor(graph.clusters[[\"MNN\"]])\n",
    "\n",
    "# Also save to label for R Shiny app\n",
    "colData(cdScFiltAnnot)$hclustClusters <- factor(hclust.clusters[[\"MNN\"]])\n",
    "colData(cdScFiltSub)$hclustClusters <- factor(hclust.clusters[[\"MNN\"]])\n",
    "colData(cdScFiltAnnot)$graphClusters <- factor(graph.clusters[[\"MNN\"]])\n",
    "colData(cdScFiltSub)$graphClusters <- factor(graph.clusters[[\"MNN\"]])"
   ]
  },
  {
   "cell_type": "code",
   "execution_count": null,
   "metadata": {},
   "outputs": [],
   "source": [
    "table(hclust = colData(cdScFiltAnnot)$hclustClusters, graph = colData(cdScFiltSub)$graphClusters)"
   ]
  },
  {
   "cell_type": "markdown",
   "metadata": {},
   "source": [
    "## Heatmap of the expression of the HVGs\n",
    "\n",
    "### Using cluster assignment from hierarchical clustering"
   ]
  },
  {
   "cell_type": "code",
   "execution_count": null,
   "metadata": {},
   "outputs": [],
   "source": [
    "hvg.exprs <- logcounts(cdScFiltAnnot[rowData(cdScFiltAnnot)$is_hvg,])\n",
    "heat.vals <- hvg.exprs - rowMeans(hvg.exprs)\n",
    "heat.vals <- as.matrix(heat.vals)\n",
    "\n",
    "# Using ComplexHeatmap package\n",
    "ha <- HeatmapAnnotation(Cluster = colData(cdScFiltAnnot)$hclustClusters, \n",
    "                        col = list(Cluster = setNames(c_clust_col[levels(colData(cdScFiltAnnot)$hclustClusters)], \n",
    "                                                      levels(colData(cdScFiltAnnot)$hclustClusters))))\n",
    "\n",
    "ht <- Heatmap(heat.vals, name = \"HVG Expression\", border = TRUE, top_annotation = ha, \n",
    "              cluster_rows = TRUE, show_row_names = TRUE, \n",
    "              cluster_columns = TRUE, clustering_method_columns = \"ward.D2\", show_column_names = FALSE, \n",
    "              row_title = paste0(nrow(heat.vals),\" HVGs\"), row_title_rot = 90, \n",
    "              row_title_gp = gpar(fontsize = 14), row_names_gp = gpar(fontsize = 8),\n",
    "              column_dend_reorder = TRUE, row_dend_reorder = TRUE, \n",
    "              heatmap_legend_param = list(title = \"Expression\", labels_gp = gpar(font = 5), \n",
    "                                          title_position = \"lefttop-rot\"))\n",
    "\n",
    "fig(width = 14, height = 10)\n",
    "ht\n",
    "reset.fig()"
   ]
  },
  {
   "cell_type": "code",
   "execution_count": null,
   "metadata": {},
   "outputs": [],
   "source": [
    "pdf(\"heatmap_with_HVG_Design.pdf\", width = 20, height = 100)\n",
    "ht\n",
    "dev.off()"
   ]
  },
  {
   "cell_type": "code",
   "execution_count": null,
   "metadata": {},
   "outputs": [],
   "source": [
    "# Plot heatmap and cluster based on hierarchical clustering\n",
    "hclust_colors = list(hclustClusters = setNames(c_clust_col[levels(colData(cdScFiltAnnot)$hclustClusters)], \n",
    "                                               levels(colData(cdScFiltAnnot)$hclustClusters)))\n",
    "\n",
    "## Using scater's plotHeatmap function\n",
    "# The column_annotation_colors is not supported in the current scater version 1.16.2, \n",
    "# but will become available in 1.17.X, this will allow us to set cluster colours\n",
    "fig(width = 14, height = 10)\n",
    "if(packageVersion(\"scater\") == \"1.16.2\") {\n",
    "    plotHeatmap(cdScFiltAnnot, features = hvg_genes, \n",
    "                order_columns_by = \"hclustClusters\", clustering_method = \"ward.D2\", show_colnames = FALSE)\n",
    "} else {\n",
    "    plotHeatmap(cdScFiltAnnot, features = hvg_genes, \n",
    "                order_columns_by = \"hclustClusters\", clustering_method = \"ward.D2\", \n",
    "                column_annotation_colors = hclust_colors, show_colnames = FALSE)\n",
    "}\n",
    "reset.fig()"
   ]
  },
  {
   "cell_type": "markdown",
   "metadata": {},
   "source": [
    "### Using cluster assignment from graph-based clustering"
   ]
  },
  {
   "cell_type": "code",
   "execution_count": null,
   "metadata": {},
   "outputs": [],
   "source": [
    "graph_colors = list(graphClusters = setNames(c_clust_col[levels(cdScFiltAnnot$graphClusters)], \n",
    "                                     levels(cdScFiltAnnot$graphClusters)))\n",
    "\n",
    "fig(width = 14, height = 10)\n",
    "if(packageVersion(\"scater\") == \"1.16.2\") {\n",
    "    plotHeatmap(cdScFiltAnnot, features = hvg_genes, \n",
    "                order_columns_by = \"graphClusters\", clustering_method = \"ward.D2\", show_colnames = FALSE)\n",
    "} else {\n",
    "    plotHeatmap(cdScFiltAnnot, features = hvg_genes, \n",
    "                order_columns_by = \"graphClusters\", clustering_method = \"ward.D2\", \n",
    "                column_annotation_colors = graph_colors, show_colnames = FALSE)\n",
    "}\n",
    "reset.fig()"
   ]
  },
  {
   "cell_type": "markdown",
   "metadata": {},
   "source": [
    "## t-SNE and UMAP plots\n",
    "\n",
    "<div class=\"alert alert-warning\">\n",
    "    <strong>Warning!</strong> change the <code>dimred</code> name to view plot in the corresponding reduced dimension results.\n",
    "</div>"
   ]
  },
  {
   "cell_type": "code",
   "execution_count": null,
   "metadata": {},
   "outputs": [],
   "source": [
    "## t-SNE with cluster allocation\n",
    "p1 <- plotReducedDim(cdScFiltAnnot, dimred = \"MNN-TSNE\", colour_by = \"graphClusters\", text_by = \"graphClusters\", \n",
    "                     point_size = 1, text_size = 10, text_colour = \"black\", point_alpha = 0.5, theme_size = 20) +\n",
    "    scale_color_manual(values = c_clust_col) +\n",
    "    guides(color = guide_legend(title = \"Cluster\", override.aes = list(size = 4, alpha = 1))) +\n",
    "    ggtitle(\"t-SNE coloured by clusters (graph-based)\")\n",
    "\n",
    "p1 <- oldScaterPlotFix(p1)\n",
    "p1\n",
    "\n",
    "pdf(\"tSNE_with_cluster.pdf\")\n",
    "p1\n",
    "dev.off()"
   ]
  },
  {
   "cell_type": "code",
   "execution_count": null,
   "metadata": {},
   "outputs": [],
   "source": [
    "## t-SNE with cell-cycle\n",
    "p2 <- plotReducedDim(cdScFiltAnnot, dimred = \"MNN-TSNE\", colour_by = \"CellCycle\", \n",
    "                     point_size = 1, point_alpha = 0.5, theme_size = 20) +\n",
    "    scale_color_manual(values = c_phase_col) +\n",
    "    guides(color = guide_legend(title = \"CellCycle\", override.aes = list(size = 4, alpha = 1))) +\n",
    "    ggtitle(\"t-SNE coloured by cell-cycle\")\n",
    "\n",
    "p2 <- oldScaterPlotFix(p2)\n",
    "p2"
   ]
  },
  {
   "cell_type": "code",
   "execution_count": null,
   "metadata": {},
   "outputs": [],
   "source": [
    "## t-SNE with sample\n",
    "p3 <- plotReducedDim(cdScFiltAnnot, dimred = \"MNN-TSNE\", colour_by = \"Sample\", \n",
    "                     point_size = 1, point_alpha = 0.5, theme_size = 20) +\n",
    "    scale_color_manual(values = c_sample_col) +\n",
    "    guides(color = guide_legend(title = \"Sample\", override.aes = list(size = 4, alpha = 1))) +\n",
    "    ggtitle(\"t-SNE coloured by sample\")\n",
    "\n",
    "p3 <- oldScaterPlotFix(p3)\n",
    "p3\n",
    "\n",
    "pdf(\"tSNE_Sample.pdf\")\n",
    "p3\n",
    "dev.off()"
   ]
  },
  {
   "cell_type": "code",
   "execution_count": null,
   "metadata": {},
   "outputs": [],
   "source": [
    "# Creat breaks\n",
    "bk <- seq(min(cdScFiltAnnot$log10Sum), max(cdScFiltAnnot$log10Sum), max(cdScFiltAnnot$log10Sum)/20)\n",
    "bk <- round(bk, 2)\n",
    "\n",
    "## t-SNE with lib size\n",
    "p4 <- plotReducedDim(cdScFiltAnnot, dimred = \"MNN-TSNE\", colour_by = \"log10Sum\", text_by = \"graphClusters\", \n",
    "                     point_size = 1, text_size = 10, text_colour = \"black\", point_alpha = 0.5, theme_size = 20) +\n",
    "    scale_color_gradientn(colours = rev(rainbow(5)), breaks = bk) +\n",
    "    guides(color = guide_colorbar(title = \"Library size\", barheight = 15, \n",
    "                                  override.aes = list(size = 4, alpha = 1))) +\n",
    "    ggtitle(\"t-SNE coloured by library size\")\n",
    "\n",
    "p4 <- oldScaterPlotFix(p4)\n",
    "p4"
   ]
  },
  {
   "cell_type": "code",
   "execution_count": null,
   "metadata": {
    "scrolled": false
   },
   "outputs": [],
   "source": [
    "# Combine plots\n",
    "fig(width = 16, height = 12)\n",
    "plot_grid(p1, p2, p3, p4, ncol = 2, align = \"vh\")\n",
    "reset.fig()\n",
    "\n",
    "pdf(\"CellInfo_tsne.pdf\")\n",
    "plot_grid(p1, p2, p3, p4, ncol = 2, align = \"vh\")\n",
    "dev.off()"
   ]
  },
  {
   "cell_type": "markdown",
   "metadata": {},
   "source": [
    "<div class=\"alert alert-info\">\n",
    "  <strong>About this dataset: </strong> (edits required)\n",
    "  <ul>\n",
    "      <li><strike>Cluster 2 is dominated by high depth.</strike></li>\n",
    "    <li><strike>It could happen that these cells go into one cluster becaue they are of higher read depth, indicating technical error. Or this could potentially indicate a sub-population that are quiescent cells.</strike></li>\n",
    "  </ul>\n",
    "</div>"
   ]
  },
  {
   "cell_type": "code",
   "execution_count": null,
   "metadata": {},
   "outputs": [],
   "source": [
    "## UMAP with cluster allocation\n",
    "p1 <- plotReducedDim(cdScFiltAnnot, dimred = \"MNN-UMAP-Large\", colour_by = \"graphClusters\", text_by = \"graphClusters\", \n",
    "                     point_size = 1, text_size = 10, text_colour = \"black\", point_alpha = 0.5, theme_size = 20) +\n",
    "    scale_color_manual(values = c_clust_col) +\n",
    "    guides(color = guide_legend(title = \"Cluster\", override.aes = list(size = 4, alpha = 1))) +\n",
    "    ggtitle(\"UMAP coloured by clusters (graph-based)\")\n",
    "\n",
    "p1 <- oldScaterPlotFix(p1)\n",
    "p1\n",
    "\n",
    "pdf(\"UMAP_with_cluster.pdf\")\n",
    "p1\n",
    "dev.off()"
   ]
  },
  {
   "cell_type": "code",
   "execution_count": null,
   "metadata": {},
   "outputs": [],
   "source": [
    "## UMAP with Cell-cycle colouring\n",
    "p2 <- plotReducedDim(cdScFiltAnnot, dimred = \"MNN-UMAP-Large\", colour_by = \"CellCycle\", \n",
    "                     point_size = 1, point_alpha = 0.5, theme_size = 20) +\n",
    "    scale_color_manual(values = c_phase_col) +\n",
    "    guides(color = guide_legend(title = \"CellCycle\", override.aes = list(size = 4, alpha = 1))) +\n",
    "    ggtitle(\"UMAP coloured by cell-cycle\")\n",
    "\n",
    "p2 <- oldScaterPlotFix(p2)\n",
    "p2"
   ]
  },
  {
   "cell_type": "code",
   "execution_count": null,
   "metadata": {},
   "outputs": [],
   "source": [
    "## UMAP with sample colouring\n",
    "p3 <- plotReducedDim(cdScFiltAnnot, dimred = \"MNN-UMAP-Large\", colour_by = \"Sample\", \n",
    "                     point_size = 1, point_alpha = 0.5, theme_size = 20) +\n",
    "    scale_color_manual(values = c_sample_col) +\n",
    "    guides(color = guide_legend(title = \"Sample\", override.aes = list(size = 4, alpha = 1))) +\n",
    "    ggtitle(\"UMAP coloured by sample\")\n",
    "\n",
    "p3 <- oldScaterPlotFix(p3)\n",
    "p3\n",
    "\n",
    "pdf(\"UMAP_sample.pdf\")\n",
    "p3\n",
    "dev.off()"
   ]
  },
  {
   "cell_type": "code",
   "execution_count": null,
   "metadata": {},
   "outputs": [],
   "source": [
    "## UMAP with read-counts colouring\n",
    "p4 <- plotReducedDim(cdScFiltAnnot, dimred = \"MNN-UMAP-Large\", colour_by = \"log10Sum\", text_by = \"graphClusters\", \n",
    "                     point_size = 1, text_size = 10, text_colour = \"black\", point_alpha = 0.5, theme_size = 20) +\n",
    "    scale_color_gradientn(colours = rev(rainbow(5)), breaks = bk) +\n",
    "    guides(color = guide_colorbar(title = \"Library size\", barheight = 15, \n",
    "                                  override.aes = list(size = 4, alpha = 1))) +\n",
    "    ggtitle(\"UMAP coloured by library size\")\n",
    "\n",
    "p4 <- oldScaterPlotFix(p4)\n",
    "p4"
   ]
  },
  {
   "cell_type": "code",
   "execution_count": null,
   "metadata": {},
   "outputs": [],
   "source": [
    "# Combine plots\n",
    "fig(width = 16, height = 12)\n",
    "plot_grid(p1, p2, p3, p4, ncol = 2, align = \"vh\")\n",
    "reset.fig()\n",
    "\n",
    "pdf(\"CellInfo_UMAP.pdf\")\n",
    "plot_grid(p1, p2, p3, p4, ncol = 2, align = \"vh\")\n",
    "dev.off()"
   ]
  },
  {
   "cell_type": "markdown",
   "metadata": {},
   "source": [
    "__Note on interpreting plots__ Ideally clustering will determined by biology and not read count. Likewise the t-SNE and UMAP should not be dominated by the read depth. However, this is a known problem [Hafemeister et. al. 2019](https://doi.org/10.1101/576827)."
   ]
  },
  {
   "cell_type": "code",
   "execution_count": null,
   "metadata": {},
   "outputs": [],
   "source": [
    "# How many cells from each sample are in each cluster?\n",
    "table_samples_by_clusters <- table(Sample = cdScFiltAnnot$Sample, Cluster = cdScFiltAnnot$graphClusters)\n",
    "table_samples_by_clusters\n",
    "\n",
    "write.table(table_samples_by_clusters, file = \"ClusterPopulations.xls\", sep = \"\\t\", quote = FALSE, col.names = NA)"
   ]
  },
  {
   "cell_type": "code",
   "execution_count": null,
   "metadata": {},
   "outputs": [],
   "source": [
    "# No. of cells \n",
    "ggplot(data.frame(table_samples_by_clusters), aes(Sample, Freq, fill = Cluster)) + \n",
    "    geom_bar(position = \"stack\", stat = \"identity\") + \n",
    "    scale_fill_manual(values = c_clust_col) +\n",
    "    scale_y_continuous(\"Number of cells\", labels = comma) +\n",
    "    theme_classic(base_size = 20) + theme(axis.title.x = element_blank())"
   ]
  },
  {
   "cell_type": "code",
   "execution_count": null,
   "metadata": {},
   "outputs": [],
   "source": [
    "# Percenatge cells\n",
    "ggplot(data.frame(table_samples_by_clusters), aes(Sample, Freq, fill = Cluster)) +\n",
    "    geom_bar(position = \"fill\", stat = \"identity\") +\n",
    "    scale_fill_manual(values = c_clust_col) +\n",
    "    scale_y_continuous(\"Percentage [%]\", labels = percent_format()) +\n",
    "    theme_classic(base_size = 20) + theme(axis.title.x = element_blank())"
   ]
  },
  {
   "cell_type": "markdown",
   "metadata": {},
   "source": [
    "## Visualizing gene expressions in cells\n",
    "\n",
    "### Single gene expression\n",
    "\n",
    "In the following plots we visualise the expression of `XIST` and `HNF4A` in individual cells."
   ]
  },
  {
   "cell_type": "code",
   "execution_count": null,
   "metadata": {},
   "outputs": [],
   "source": [
    "geneName <- \"XIST\"\n",
    "\n",
    "p <- plotReducedDim(cdScFiltAnnot, \"MNN-TSNE\", colour_by = geneName, other_fields = \"Sample\",\n",
    "                    point_size = 1, point_alpha = 0.5, theme_size = 20) +\n",
    "    scale_color_viridis(option = \"plasma\", direction = -1) + facet_wrap(~ Sample) +\n",
    "    guides(color = guide_colourbar(geneName)) + ggtitle(paste(\"t-SNE coloured by\", geneName))\n",
    "\n",
    "fig(width = 12, height = 10)\n",
    "oldScaterPlotFix(p)\n",
    "reset.fig()"
   ]
  },
  {
   "cell_type": "code",
   "execution_count": null,
   "metadata": {},
   "outputs": [],
   "source": [
    "geneName <- \"HNF4A\"\n",
    "\n",
    "p <- plotReducedDim(cdScFiltAnnot, \"MNN-TSNE\", colour_by = geneName, other_fields = \"Sample\",\n",
    "                    point_size = 1, point_alpha = 0.5, theme_size = 20) +\n",
    "    scale_color_viridis(option = \"plasma\", direction = -1) + facet_wrap(~ Sample) +\n",
    "    guides(color = guide_colourbar(geneName)) + ggtitle(paste(\"t-SNE coloured by\", geneName))\n",
    "\n",
    "fig(width = 12, height = 10)\n",
    "oldScaterPlotFix(p)\n",
    "reset.fig()"
   ]
  },
  {
   "cell_type": "markdown",
   "metadata": {},
   "source": [
    "### Multiple gene expression\n",
    "\n",
    "In the following plots we visualise the expression of top 20 HVGs in individual cells using `ggplot`."
   ]
  },
  {
   "cell_type": "code",
   "execution_count": null,
   "metadata": {},
   "outputs": [],
   "source": [
    "geneNames <- head(hvg_genes, 20)\n",
    "\n",
    "fig(width = 16, height = 11)\n",
    "as.data.frame(reducedDim(cdScFiltAnnot, \"MNN-TSNE\")) %>% \n",
    "    bind_cols(as_tibble(t(logcounts(cdScFiltAnnot[geneNames,])))) %>%\n",
    "    gather(., key = \"Symbol\", value =\"Expression\", -c(V1, V2) ) %>% \n",
    "    mutate_at(vars(Symbol), factor) %>%\n",
    "    mutate(Symbol = factor(Symbol, levels = geneNames)) %>% # order by HVG gene list\n",
    "    ggplot(aes(x = V1, y = V2, color = Expression)) + \n",
    "    geom_point(size = 0.3, alpha = 0.6) + facet_wrap(~ Symbol, ncol = 5) + \n",
    "    scale_color_viridis(option = \"plasma\", direction = -1) +\n",
    "    theme_classic(base_size = 20) + theme(axis.title = element_blank())\n",
    "reset.fig()"
   ]
  },
  {
   "cell_type": "code",
   "execution_count": null,
   "metadata": {},
   "outputs": [],
   "source": [
    "fig(width = 12, height = 7)\n",
    "plotDots(cdScFiltAnnot, features = geneNames, group = \"graphClusters\") + \n",
    "    scale_size(range = c(0.1, 5)) + theme_classic(base_size = 20) +\n",
    "    scale_y_discrete(limits = geneNames) + # reorder genes\n",
    "    labs(x = \"Cluster\", y = paste0(\"Top \", length(geneNames),\" HVGs\"))\n",
    "reset.fig()"
   ]
  },
  {
   "cell_type": "markdown",
   "metadata": {},
   "source": [
    "Show expression profiles of manually selected genes."
   ]
  },
  {
   "cell_type": "code",
   "execution_count": null,
   "metadata": {},
   "outputs": [],
   "source": [
    "selected_genes = c('ACTA2', 'COL1A1', 'COL1A2', 'PDGFRB',  'NGFR', 'SPP1', 'CCBE1', 'ONECUT1', \n",
    "'FOXP1', 'STAB2', 'PTPRC', 'CSF1R', 'EPOR' ,'IKZF1')\n",
    "\n",
    "# Check if genes are in the sce object\n",
    "cbind(setNames(selected_genes %in% rownames(cdScFiltAnnot), selected_genes))\n",
    "\n",
    "# Subset to available marker genes\n",
    "selected_genes = selected_genes[selected_genes %in% rownames(cdScFiltAnnot)]"
   ]
  },
  {
   "cell_type": "code",
   "execution_count": null,
   "metadata": {},
   "outputs": [],
   "source": [
    "# Plot expression in t-SNE\n",
    "fig(width = 12, height = 10)\n",
    "as.data.frame(reducedDim(cdScFiltAnnot, \"MNN-TSNE\")) %>% \n",
    "    bind_cols(as_tibble(t(logcounts(cdScFiltAnnot[selected_genes,])))) %>%\n",
    "    gather(., key = \"Symbol\", value =\"Expression\", -c(V1, V2) ) %>% \n",
    "    ggplot(aes(x = V1, y = V2, color = Expression)) + \n",
    "    geom_point(size = 0.3, alpha = 0.6) + facet_wrap(~ Symbol) + \n",
    "    scale_color_viridis(option = \"plasma\", direction = -1) +\n",
    "    theme_classic(base_size = 20) + theme(axis.title = element_blank())\n",
    "reset.fig()"
   ]
  },
  {
   "cell_type": "code",
   "execution_count": null,
   "metadata": {},
   "outputs": [],
   "source": [
    "fig(width = 12, height = 5)\n",
    "plotDots(cdScFiltAnnot, features = selected_genes, group = \"graphClusters\") + \n",
    "    scale_size(range = c(0.1, 5)) + theme_classic(base_size = 20) +\n",
    "    labs(x = \"Cluster\", y = \"Genes\")\n",
    "reset.fig()"
   ]
  },
  {
   "cell_type": "markdown",
   "metadata": {},
   "source": [
    "#### Add percentage of expressing cells of a given cluster to `rowData` for all clusters."
   ]
  },
  {
   "cell_type": "code",
   "execution_count": null,
   "metadata": {},
   "outputs": [],
   "source": [
    "for(clustID in 1:max(as.numeric(cdScFiltAnnot$graphClusters))) {\n",
    "    # Set column name\n",
    "    dfColName <- paste0(\"PercentClust\", clustID)\n",
    "    # Number of expressing cells of a given cluster\n",
    "    n_cells_by_counts <- nexprs(cdScFiltAnnot[, cdScFiltAnnot$graphClusters == clustID], byrow = TRUE)\n",
    "    # Total cells of a given cluster\n",
    "    total_cells <- sum(cdScFiltAnnot$graphClusters == clustID)\n",
    "    # Add percentage of expressing cells of a given cluster\n",
    "    rowData(cdScFiltAnnot)[,dfColName] <- round(100*(n_cells_by_counts/total_cells), 2)\n",
    "}"
   ]
  },
  {
   "cell_type": "markdown",
   "metadata": {},
   "source": [
    "#### Add percentage of expressing cells of a given sample to `rowData` for all samples."
   ]
  },
  {
   "cell_type": "code",
   "execution_count": null,
   "metadata": {},
   "outputs": [],
   "source": [
    "for(sampleID in levels(factor(cdScFiltAnnot$Sample))) {\n",
    "    # Set column name\n",
    "    dfColName <- paste0(\"PercentSample\", sampleID)\n",
    "    # Number of expressing cells of a given sample\n",
    "    n_cells_by_counts <- nexprs(cdScFiltAnnot[, cdScFiltAnnot$Sample == sampleID], byrow = TRUE)\n",
    "    # Total cells of a given sample\n",
    "    total_cells <- sum(cdScFiltAnnot$Sample == sampleID)\n",
    "    # Add percentage of expressing cells of a given cluster\n",
    "    rowData(cdScFiltAnnot)[,dfColName] <- round(100*(n_cells_by_counts/total_cells), 2)\n",
    "}"
   ]
  },
  {
   "cell_type": "code",
   "execution_count": null,
   "metadata": {},
   "outputs": [],
   "source": [
    "save.image(\"data.RData\")"
   ]
  },
  {
   "cell_type": "markdown",
   "metadata": {},
   "source": [
    "# 11. Marker gene detection<a name='section11' />\n",
    "\n",
    "Potential marker genes are identified by taking the top set of DE genes from each pairwise comparison between clusters. The results are arranged into a single output table that allows a marker set to be easily defined for a user-specified size of the top set. For example, to construct a marker set from the top 10 genes of each comparison, one would filter `marker.set` to retain rows with Top less than or equal to 10.\n",
    "\n",
    "<div class=\"alert alert-warning\">\n",
    "  <strong>Warning!</strong> Take note of any poor clusters in the silhouette plot and consider how trustworthy the marker genes actually are.\n",
    "</div>"
   ]
  },
  {
   "cell_type": "markdown",
   "metadata": {},
   "source": [
    "Here we are going to use `findMarkers` from `scran` package as this is much faster. Setting `pval.type = \"all\"` gives genes that are significantly different against all other groups. \n",
    "\n",
    "## Find marker genes for clusters"
   ]
  },
  {
   "cell_type": "code",
   "execution_count": null,
   "metadata": {},
   "outputs": [],
   "source": [
    "# Set outfile ID\n",
    "file_id = \"RachelJennings_aggr\"\n",
    "file_id"
   ]
  },
  {
   "cell_type": "code",
   "execution_count": null,
   "metadata": {},
   "outputs": [],
   "source": [
    "# Only use is_pass and non-ambient genes\n",
    "marker.genes.cluster <- findMarkers(cdScFiltSub, groups = cdScFiltSub$graphClusters, pval.type = \"all\", \n",
    "                                    BPPARAM = bpp)\n",
    "marker.genes.cluster"
   ]
  },
  {
   "cell_type": "code",
   "execution_count": null,
   "metadata": {},
   "outputs": [],
   "source": [
    "for(clustID in names(marker.genes.cluster)) {\n",
    "    # Append Ensembl ID and Symbol from rowData\n",
    "    marker.genes.cluster[[clustID]] <- cbind(rowData(cdScFiltSub)[rownames(marker.genes.cluster[[clustID]]),][,1:2], \n",
    "                                             marker.genes.cluster[[clustID]])\n",
    "    write.table(marker.genes.cluster[[clustID]], \n",
    "                file = paste0(file_id, \"_Cluster\", clustID, \".tsv\"), \n",
    "                sep = \"\\t\", quote = FALSE, col.names = NA)\n",
    "}"
   ]
  },
  {
   "cell_type": "code",
   "execution_count": null,
   "metadata": {},
   "outputs": [],
   "source": [
    "# Up-regulated\n",
    "# Only use is_pass and non-ambient genes\n",
    "marker.genes.cluster.up <- findMarkers(cdScFiltSub, groups = cdScFiltSub$graphClusters, pval.type = \"all\", \n",
    "                                       lfc = 0.5, direction = \"up\", BPPARAM = bpp)\n",
    "marker.genes.cluster.up"
   ]
  },
  {
   "cell_type": "code",
   "execution_count": null,
   "metadata": {},
   "outputs": [],
   "source": [
    "for(clustID in names(marker.genes.cluster.up)) {\n",
    "    # Append Ensembl ID and Symbol from rowData\n",
    "    marker.genes.cluster.up[[clustID]] <- cbind(rowData(cdScFiltSub)[rownames(marker.genes.cluster.up[[clustID]]),][,1:2], \n",
    "                                                marker.genes.cluster.up[[clustID]])\n",
    "    write.table(marker.genes.cluster.up[[clustID]],\n",
    "                file = paste0(file_id, \"_Upregulated_LFC_0.5_Cluster\", clustID, \".tsv\"), \n",
    "                sep = \"\\t\", quote = FALSE, col.names = NA)\n",
    "}"
   ]
  },
  {
   "cell_type": "code",
   "execution_count": null,
   "metadata": {},
   "outputs": [],
   "source": [
    "metadata(cdScFiltAnnot)[['Cluster_markers']] <- list(marker.genes.cluster)"
   ]
  },
  {
   "cell_type": "code",
   "execution_count": null,
   "metadata": {},
   "outputs": [],
   "source": [
    "metadata(cdScFiltAnnot)[['Cluster_markers_up']] <- list(marker.genes.cluster.up)"
   ]
  },
  {
   "cell_type": "markdown",
   "metadata": {},
   "source": [
    "## Find marker genes for Samples\n",
    "\n",
    "<div class=\"alert alert-danger\">\n",
    "  <strong>Danger!</strong> Only works for 2 or more samples.\n",
    "</div>"
   ]
  },
  {
   "cell_type": "code",
   "execution_count": null,
   "metadata": {},
   "outputs": [],
   "source": [
    "# Only use is_pass and non-ambient genes\n",
    "marker.genes.sample <- findMarkers(cdScFiltSub, groups = cdScFiltSub$Sample, pval.type = \"all\", BPPARAM = bpp)\n",
    "marker.genes.sample"
   ]
  },
  {
   "cell_type": "code",
   "execution_count": null,
   "metadata": {},
   "outputs": [],
   "source": [
    "for(sampleID in names(marker.genes.sample)) {\n",
    "    # Append Ensembl ID and Symbol from rowData\n",
    "    marker.genes.sample[[sampleID]] <- cbind(rowData(cdScFiltSub)[rownames(marker.genes.sample[[sampleID]]),][,1:2], \n",
    "                                             marker.genes.sample[[sampleID]])\n",
    "    write.table(marker.genes.sample[[sampleID]], \n",
    "                file = paste0(file_id, \"_Sample_\", sampleID, \".tsv\"), \n",
    "                sep = \"\\t\", quote = FALSE, col.names = NA)\n",
    "}"
   ]
  },
  {
   "cell_type": "code",
   "execution_count": null,
   "metadata": {},
   "outputs": [],
   "source": [
    "# Up-regulated\n",
    "# Only use is_pass and non-ambient genes\n",
    "marker.genes.sample.up <- findMarkers(cdScFiltSub, groups = cdScFiltSub$Sample, pval.type = \"all\", \n",
    "                                      lfc = 0.5, direction = \"up\", BPPARAM = bpp)\n",
    "marker.genes.sample.up"
   ]
  },
  {
   "cell_type": "code",
   "execution_count": null,
   "metadata": {},
   "outputs": [],
   "source": [
    "for(sampleID in names(marker.genes.sample.up)){\n",
    "    # Append Ensembl ID and Symbol from rowData\n",
    "    marker.genes.sample.up[[sampleID]] <- cbind(rowData(cdScFiltSub)[rownames(marker.genes.sample.up[[sampleID]]),][,1:2], \n",
    "                                                marker.genes.sample.up[[sampleID]])\n",
    "    write.table(marker.genes.sample.up[[sampleID]],\n",
    "                file = paste0(file_id, \"_Upregulated_LFC_0.5_Sample_\", sampleID, \".tsv\"), \n",
    "                sep = \"\\t\", quote = FALSE, col.names = NA)\n",
    "}"
   ]
  },
  {
   "cell_type": "code",
   "execution_count": null,
   "metadata": {},
   "outputs": [],
   "source": [
    "metadata(cdScFiltAnnot)[['Sample_markers']] <- list(marker.genes.sample)"
   ]
  },
  {
   "cell_type": "code",
   "execution_count": null,
   "metadata": {},
   "outputs": [],
   "source": [
    "metadata(cdScFiltAnnot)[['Sample_markers_up']] <- list(marker.genes.sample.up)"
   ]
  },
  {
   "cell_type": "markdown",
   "metadata": {},
   "source": [
    "## Plotting top 3 upregulated Cluster marker genes\n",
    "\n",
    "The `plotDots` function create a dot plot of expression values for a grouping of cells, where the size and colour of each dot represents the proportion of detected expression values and the average expression, respectively, for each feature in each group of cells."
   ]
  },
  {
   "cell_type": "code",
   "execution_count": null,
   "metadata": {},
   "outputs": [],
   "source": [
    "noOfGenes <- 3 # total genes will be noOfGenes x number of clusters\n",
    "geneNames <- sapply(marker.genes.cluster.up, function(x) rownames(x[1:noOfGenes,]))\n",
    "\n",
    "print(paste(\"Number of genes to plot:\", length(geneNames)))\n",
    "geneNames # A matrix\n",
    "                    \n",
    "geneNames <- as.character(geneNames)"
   ]
  },
  {
   "cell_type": "code",
   "execution_count": null,
   "metadata": {},
   "outputs": [],
   "source": [
    "fig(width = 14, height = 12)\n",
    "plotDots(cdScFiltAnnot, features = geneNames, group = \"graphClusters\") +\n",
    "    scale_size(range = c(0.1, 5)) + theme_classic(base_size = 20) + \n",
    "    scale_y_discrete(limits = geneNames) + # reorder genes\n",
    "    labs(x = \"Cluster\", y = \"Genes\")\n",
    "reset.fig()"
   ]
  },
  {
   "cell_type": "markdown",
   "metadata": {},
   "source": [
    "### Heatmap for upregulated Cluster marker genes."
   ]
  },
  {
   "cell_type": "code",
   "execution_count": null,
   "metadata": {},
   "outputs": [],
   "source": [
    "fig(width = 16, height = 10)\n",
    "if(packageVersion(\"scater\") == \"1.16.2\") {\n",
    "    plotHeatmap(cdScFiltAnnot, features = geneNames, \n",
    "                order_columns_by = \"graphClusters\", clustering_method = \"ward.D2\", show_colnames = FALSE)\n",
    "} else {\n",
    "    plotHeatmap(cdScFiltAnnot, features = geneNames, \n",
    "                order_columns_by = \"graphClusters\", clustering_method = \"ward.D2\", \n",
    "                column_annotation_colors = graph_colors, show_colnames = FALSE)\n",
    "}\n",
    "reset.fig()"
   ]
  },
  {
   "cell_type": "markdown",
   "metadata": {},
   "source": [
    "### Stacked violin plot for upregulated Cluster marker genes."
   ]
  },
  {
   "cell_type": "code",
   "execution_count": null,
   "metadata": {},
   "outputs": [],
   "source": [
    "geneExprs <- assay(cdScFiltAnnot, \"logcounts\")[geneNames,]\n",
    "geneExprs <- as.data.frame(t(as.matrix(geneExprs)))\n",
    "\n",
    "geneExprs$Cell <- rownames(geneExprs)\n",
    "geneExprs$Cluster <- cdScFiltAnnot$graphClusters\n",
    "\n",
    "geneExprs <- reshape2::melt(geneExprs, id.vars = c(\"Cell\",\"Cluster\"), measure.vars = geneNames, \n",
    "                            variable.name = \"Feature\", value.name = \"Expression\") %>% \n",
    "    mutate(Cluster = fct_rev(Cluster)) # reverse order\n",
    "head(geneExprs)"
   ]
  },
  {
   "cell_type": "code",
   "execution_count": null,
   "metadata": {},
   "outputs": [],
   "source": [
    "# Plot\n",
    "fig(width = 16, height = 10)\n",
    "ggplot(geneExprs, aes(factor(Feature), Expression, fill = Feature)) +\n",
    "        geom_violin(scale = \"width\", adjust = 1, trim = TRUE) +\n",
    "        scale_y_continuous(expand = c(0, 0), position = \"right\", labels = function(x)\n",
    "                           c(rep(x = \"\", times = length(x)-2), x[length(x) - 1], \"\")) +\n",
    "        facet_grid(rows = vars(Cluster), scales = \"free\", switch = \"y\") +\n",
    "        theme_cowplot(font_size = 16) +\n",
    "        theme(legend.position = \"none\", panel.spacing = unit(0, \"lines\"),\n",
    "              panel.background = element_rect(fill = NA, color = \"black\"),\n",
    "              strip.background = element_blank(),\n",
    "              strip.text = element_text(face = \"bold\"),\n",
    "              strip.text.y.left = element_text(angle = 0),\n",
    "              axis.text.x = element_text(angle = 90, hjust = 1, vjust = 0.5)) +\n",
    "        xlab(\"Feature\") + ylab(\"Expression Level\")\n",
    "reset.fig()"
   ]
  },
  {
   "cell_type": "markdown",
   "metadata": {},
   "source": [
    "## Visualizing top upregulated Cluster marker genes in t-SNE"
   ]
  },
  {
   "cell_type": "code",
   "execution_count": null,
   "metadata": {},
   "outputs": [],
   "source": [
    "geneNames <- sapply(marker.genes.cluster.up, function(x) rownames(x[1,]))\n",
    "                    \n",
    "print(paste(\"Number of genes to plot:\", length(geneNames)))\n",
    "geneNames"
   ]
  },
  {
   "cell_type": "code",
   "execution_count": null,
   "metadata": {},
   "outputs": [],
   "source": [
    "fig(width = 14, height = 12)\n",
    "as.data.frame(reducedDim(cdScFiltAnnot, \"MNN-TSNE\")) %>% \n",
    "    bind_cols(as_tibble(t(logcounts(cdScFiltAnnot[geneNames,])))) %>%\n",
    "    gather(., key = \"Symbol\", value = \"Expression\", -c(V1, V2) ) %>% \n",
    "    mutate_at(vars(Symbol), factor) %>%\n",
    "    mutate(Symbol = factor(Symbol, levels = geneNames)) %>% # order by cluster id\n",
    "    ggplot(aes(x = V1, y = V2, color = Expression)) + \n",
    "    geom_point(size = 0.3, alpha = 0.3) + \n",
    "    facet_wrap(~ Symbol, labeller = as_labeller(function(x) paste0(names(geneNames),\": \", x))) + # add cluster id\n",
    "    scale_color_viridis(option = \"plasma\", direction = -1) +\n",
    "    theme_classic(base_size = 20) + theme(axis.title = element_blank())\n",
    "reset.fig()"
   ]
  },
  {
   "cell_type": "code",
   "execution_count": null,
   "metadata": {},
   "outputs": [],
   "source": [
    "fig(width = 12, height = 5)\n",
    "plotDots(cdScFiltAnnot, features = geneNames, group = \"graphClusters\") + \n",
    "    scale_size(range = c(0.1, 5)) + theme_classic(base_size = 20) + \n",
    "    scale_y_discrete(limits = geneNames) + # reorder genes\n",
    "    labs(x = \"Cluster\", y = \"Genes\")\n",
    "reset.fig()"
   ]
  },
  {
   "cell_type": "code",
   "execution_count": null,
   "metadata": {},
   "outputs": [],
   "source": [
    "save.image(\"data.RData\")"
   ]
  },
  {
   "cell_type": "markdown",
   "metadata": {},
   "source": [
    "## Enriched pathways\n",
    "\n",
    "We will use `enrichR` package to access enrichr website in order to find the enriched pathways associated with __upregulated marker genes__. The results will be showed in the app."
   ]
  },
  {
   "cell_type": "code",
   "execution_count": null,
   "metadata": {},
   "outputs": [],
   "source": [
    "# This function generates the whole list of database for the enrichR. \n",
    "dbs <- listEnrichrDbs()\n",
    "print(paste(\"Number of available databases from Enrichr:\", nrow(dbs)))\n",
    "head(dbs)"
   ]
  },
  {
   "cell_type": "markdown",
   "metadata": {},
   "source": [
    "I will select the following list of databases. User can change depending on the Biological question and organism. The whole list is stored in the `dbs` object."
   ]
  },
  {
   "cell_type": "code",
   "execution_count": null,
   "metadata": {},
   "outputs": [],
   "source": [
    "dbsSel <- c(\"GO_Molecular_Function_2018\", \n",
    "            \"GO_Cellular_Component_2018\", \n",
    "            \"GO_Biological_Process_2018\", \n",
    "            \"BioPlanet_2019\", \n",
    "            \"MSigDB_Hallmark_2020\", \n",
    "            \"KEGG_2019_Human\", \n",
    "            \"KEGG_2019_Mouse\", \n",
    "            \"Human_Gene_Atlas\",\n",
    "            \"Mouse_Gene_Atlas\")"
   ]
  },
  {
   "cell_type": "markdown",
   "metadata": {},
   "source": [
    "### Run analysis on cluster-specific marker genes"
   ]
  },
  {
   "cell_type": "code",
   "execution_count": null,
   "metadata": {},
   "outputs": [],
   "source": [
    "resEnrichClust <- list()\n",
    "for(clustID in names(marker.genes.cluster.up)) {\n",
    "    df <- marker.genes.cluster.up[[clustID]] # findMarkers result DataFrame\n",
    "    geneNames <- df[df$FDR <= 0.01,]$Symbol\n",
    "    \n",
    "    # Run enrichr if there are more than 1 genes satisfying the criteria\n",
    "    if(length(geneNames) > 1) {\n",
    "        print(paste(\"Running enrichr on cluster\", clustID, \"with\", length(geneNames), \"genes\"))\n",
    "        resEnrich <- enrichr(geneNames, databases = dbsSel)\n",
    "        resEnrichTemp <- lapply(resEnrich, FDRsubsetting <- function(x) { \n",
    "            x <- x[x$Adjusted.P.value < 0.1, c(1:4)] \n",
    "            return(x)\n",
    "        })\n",
    "        resEnrichClust[[clustID]] <- resEnrichTemp\n",
    "    }\n",
    "}\n",
    "\n",
    "metadata(cdScFiltAnnot)[['enrichCluster']] <- list(resEnrichClust)"
   ]
  },
  {
   "cell_type": "markdown",
   "metadata": {},
   "source": [
    "### Run analysis on sample-specific marker genes\n",
    "\n",
    "<div class=\"alert alert-danger\">\n",
    "  <strong>Danger!</strong> Only works for 2 or more samples.\n",
    "</div>"
   ]
  },
  {
   "cell_type": "code",
   "execution_count": null,
   "metadata": {},
   "outputs": [],
   "source": [
    "resEnrichSample <- list()\n",
    "for(sampleID in names(marker.genes.sample.up)){\n",
    "    df <- marker.genes.sample.up[[sampleID]] # findMarkers result DataFrame\n",
    "    geneNames <- df[df$FDR <= 0.01,]$Symbol\n",
    "    \n",
    "    # Run enrichr if there are more than 1 genes satisfying the criteria\n",
    "    if(length(geneNames) > 1) {\n",
    "        print(paste(\"Running enrichr on sample\", sampleID, \"with\", length(geneNames), \"genes\"))\n",
    "        resEnrich <- enrichr(geneNames, databases = dbsSel)\n",
    "        resEnrichTemp <- lapply(resEnrich, FDRsubsetting <- function(x){ \n",
    "            x <- x[x$Adjusted.P.value < 0.1, c(1:4)]\n",
    "            return(x)\n",
    "        })\n",
    "        resEnrichSample[[sampleID]] <- resEnrichTemp\n",
    "    }\n",
    "}\n",
    "\n",
    "metadata(cdScFiltAnnot)[['enrichSample']] <- list(resEnrichSample)"
   ]
  },
  {
   "cell_type": "code",
   "execution_count": null,
   "metadata": {},
   "outputs": [],
   "source": [
    "save.image(\"data.RData\")"
   ]
  },
  {
   "cell_type": "markdown",
   "metadata": {},
   "source": [
    "## IPA\n",
    "\n",
    "### Each cluster against other cells pooled for IPA\n",
    "\n",
    "Here we generate the file that can be directly imported into IPA for donwstream analysis."
   ]
  },
  {
   "cell_type": "code",
   "execution_count": null,
   "metadata": {},
   "outputs": [],
   "source": [
    "resIPA <- marker.genes.cluster.up[[1]][,1:2]\n",
    "resIPA <- resIPA[order(rownames(resIPA)),]\n",
    "\n",
    "for(clustID in names(marker.genes.cluster.up)) {\n",
    "    resTmp <- marker.genes.cluster.up[[clustID]][,3:5]\n",
    "    resTmp <- resTmp[order(rownames(resTmp)),]\n",
    "    colnames(resTmp) <- paste0(\"Cl_\",clustID,\"_\",colnames(resTmp))\n",
    "    resIPA <- cbind(resIPA, resTmp)\n",
    "}\n",
    "\n",
    "head(resIPA[,1:8])\n",
    "write.table(resIPA, file = \"IPA_each_cluster_v_other_cells.xls\", sep = \"\\t\", quote = FALSE, col.names = NA)"
   ]
  },
  {
   "cell_type": "markdown",
   "metadata": {},
   "source": [
    "### Average expression (log2 CPM) across clusters\n",
    "\n",
    "Here we are generating the mean value for genes (limits to `is_pass` genes) across clusters."
   ]
  },
  {
   "cell_type": "code",
   "execution_count": null,
   "metadata": {},
   "outputs": [],
   "source": [
    "system.time({\n",
    "    table_count_by_cluster <- as_tibble(t(logcounts(cdScFiltAnnot[rowData(cdScFiltAnnot)$is_pass,]))) %>% \n",
    "    add_column(Cluster = cdScFiltAnnot[rowData(cdScFiltAnnot)$is_pass,]$graphClusters) %>% \n",
    "    group_by(Cluster) %>% summarise_all(mean, na.rm = TRUE) %>% t()\n",
    "})\n",
    "\n",
    "# nrows = genes; ncols = number of clusters\n",
    "dim(table_count_by_cluster)"
   ]
  },
  {
   "cell_type": "code",
   "execution_count": null,
   "metadata": {},
   "outputs": [],
   "source": [
    "write.table(table_count_by_cluster, file = \"Cluster_mean_logcounts.xls\", \n",
    "            sep = \"\\t\", quote = FALSE, col.names = NA)"
   ]
  },
  {
   "cell_type": "markdown",
   "metadata": {},
   "source": [
    "### Average expression (log2 CPM)  across Samples\n",
    "\n",
    "Here we are generating the mean value for genes (limits to `is_pass` genes) across samples."
   ]
  },
  {
   "cell_type": "code",
   "execution_count": null,
   "metadata": {},
   "outputs": [],
   "source": [
    "system.time({\n",
    "    table_count_by_sample <- as_tibble(t(logcounts(cdScFiltAnnot[rowData(cdScFiltAnnot)$is_pass,]))) %>%\n",
    "    mutate(Sample_clust = paste0(as.character(cdScFiltAnnot[rowData(cdScFiltAnnot)$is_pass,]$Sample), \"_\", \n",
    "                                 as.character(cdScFiltAnnot[rowData(cdScFiltAnnot)$is_pass,]$graphClusters))) %>%\n",
    "    group_by(Sample_clust) %>% summarise_all(mean, na.rm = TRUE) %>% t()\n",
    "})\n",
    "\n",
    "# nrows = genes; ncols = number of samples x number of clusters\n",
    "dim(table_count_by_sample)"
   ]
  },
  {
   "cell_type": "code",
   "execution_count": null,
   "metadata": {},
   "outputs": [],
   "source": [
    "write.table(table_count_by_sample, file = \"Sample_Cluster_mean_logcounts.xls\", \n",
    "            sep = \"\\t\", quote = FALSE, col.names = NA)"
   ]
  },
  {
   "cell_type": "code",
   "execution_count": null,
   "metadata": {},
   "outputs": [],
   "source": [
    "save.image(\"data.RData\")"
   ]
  },
  {
   "cell_type": "markdown",
   "metadata": {},
   "source": [
    "# 12. Cell type annotation<a name='section12' />\n",
    "\n",
    "In this section, we will use of the `SingleR` method for cell type annotation. This method assigns labels to cells based on the reference samples with the highest Spearman rank correlations, using only the marker genes between pairs of labels to focus on the relevant differences between cell types. \n",
    "\n",
    "The `celldex` package contains a number of curated reference datasets (listed below), mostly assembled from bulk RNA-seq or microarray data of sorted cell types. \n",
    "\n",
    "<div class=\"alert alert-info\">\n",
    "    <strong>Info!</strong> In newer version of <code>SingleR</code>, the datasets are made available in the <code>celldex</code> package.\n",
    "</div>\n",
    "\n",
    "\n",
    "### Human\n",
    "\n",
    "Following human reference datasets are available: \n",
    "\n",
    "- **BlueprintEncodeData** - Blueprint Epigenomics contains 144 RNA-seq pure immune samples annotated to 28 cell types. ENCODE contains 115 RNA-seq pure stroma and immune samples annotated to 17 cell types. All together, this reference contains 259 samples with 43 cell types (\"`label.fine`\"), manually aggregated into 24 broad classes (\"`label.main`\"). \n",
    "\n",
    "- **DatabaseImmuneCellExpressionData** - The dataset contains 1561 human RNA-seq samples annotated to 5 main cell types (\"`label.main`\"). Samples were additionally annotated to 15 fine cell types (\"`label.fine`\").\n",
    "\n",
    "- **HumanPrimaryCellAtlasData** - The dataset contains 713 microarray samples from the Human Primary Cell Atlas (HPCA) (Mabbott et al., 2013). Each sample has been assigned to one of 37 main cell types (\"`label.main`\") and 157 subtypes (\"`label.fine`\"). \n",
    "\n",
    "- **MonacoImmuneData** - The dataset contains 114 human RNA-seq samples annotated to 10 main cell types (\"`label.main`\"). Samples were additionally annotated to 29 fine cell types (\"`label.fine`\").\n",
    "\n",
    "- **NovershternHematopoieticData** - The dataset contains 211 human microarray samples annotated to 16 main cell types (\"`label.main`\"). Samples were additionally annotated to 38 fine cell types (\"`label.fine`\").\n",
    "\n",
    "For specific applications, smaller datasets can be applicable. *SingleR* is flexible to be used with any reference dataset.\n",
    "\n",
    "### Mouse:\n",
    "\n",
    "Following mouse reference datasets are available: \n",
    "\n",
    "- **ImmGenData** - The dataset contains 830 microarray samples generated by ImmGen from pure populations of murine immune cells (<http://www.immgen.org/>). This dataset consists of 20 broad cell types (\"`label.main`\") and 253 finely resolved cell subtypes (\"`label.fine`\").\n",
    "\n",
    "- **MouseRNAseqData** - The dataset contains 358 mouse RNA-seq samples annotated to 18 main cell types (\"`label.main`\"). These are split further into 28 subtypes (\"`label.fine\"`).\n",
    "\n",
    "<div class=\"alert alert-warning\">\n",
    "  <strong>Warning!</strong> Edits required to choose human or mouse datasets.\n",
    "</div>"
   ]
  },
  {
   "cell_type": "code",
   "execution_count": null,
   "metadata": {},
   "outputs": [],
   "source": [
    "# Use celldex if installed, else falls back to SingleR\n",
    "if ( requireNamespace(\"celldex\", quietly = TRUE) ) {\n",
    "    # For Human\n",
    "    bpen <- celldex::BlueprintEncodeData()\n",
    "#   dice <- celldex::DatabaseImmuneCellExpressionData()\n",
    "    hpca <- celldex::HumanPrimaryCellAtlasData()\n",
    "#   mona <- celldex::MonacoImmuneData()\n",
    "#   dmap <- celldex::NovershternHematopoieticData()\n",
    "\n",
    "    # For mouse\n",
    "#   immg <- celldex::ImmGenData()\n",
    "#   mmrna <- celldex::MouseRNAseqData()\n",
    "} else {\n",
    "    # For Human\n",
    "    bpen <- SingleR::BlueprintEncodeData()\n",
    "#   dice <- SingleR::DatabaseImmuneCellExpressionData()\n",
    "    hpca <- SingleR::HumanPrimaryCellAtlasData()\n",
    "#   mona <- SingleR::MonacoImmuneData()\n",
    "#   dmap <- SingleR::NovershternHematopoieticData()\n",
    "\n",
    "    # For mouse\n",
    "#   immg <- SingleR::ImmGenData()\n",
    "#   mmrna <- SingleR::MouseRNAseqData()    \n",
    "}"
   ]
  },
  {
   "cell_type": "markdown",
   "metadata": {},
   "source": [
    "We will use the Wilcoxon ranked sum test (`de.method`) to identify the top markers for each pairwise comparison between labels.\n",
    "\n",
    "<div class=\"alert alert-warning\">\n",
    "  <strong>Warning!</strong> Please adapt the following codes and change the reference datasets to suit your dataset.\n",
    "</div>"
   ]
  },
  {
   "cell_type": "code",
   "execution_count": null,
   "metadata": {},
   "outputs": [],
   "source": [
    "# For human\n",
    "pred.singler.bp <- SingleR(\n",
    "    test = cdScFiltSub, # only use is_pass and non-ambient genes\n",
    "#    clusters = colLabels(cdScFiltSub), # To obtain per-cluster profiles\n",
    "    assay.type.test = \"logcounts\",\n",
    "    de.method = \"wilcox\",\n",
    "    ref = list(BP = bpen), \n",
    "    labels = list(bpen$label.main)\n",
    ")\n",
    "\n",
    "pred.singler.hpca <- SingleR(\n",
    "    test = cdScFiltSub,\n",
    "#    clusters = colLabels(cdScFiltSub),\n",
    "    assay.type.test = \"logcounts\",\n",
    "    de.method = \"wilcox\",\n",
    "    ref = list(HPCA = hpca), \n",
    "    labels = list(hpca$label.main)\n",
    ")\n",
    "\n",
    "pred.singler <- SingleR(\n",
    "    test = cdScFiltSub,\n",
    "#    clusters = colLabels(cdScFiltSub),\n",
    "    assay.type.test = \"logcounts\",\n",
    "    de.method = \"wilcox\",\n",
    "    ref = list(BP = bpen, HPCA = hpca), \n",
    "    labels = list(bpen$label.main, hpca$label.main)\n",
    ")\n",
    "\n",
    "# For mouse\n",
    "#pred.singler <- SingleR(\n",
    "#    test = cdScFiltSub,\n",
    "#    clusters = colLabels(cdScFiltSub),\n",
    "#    assay.type.test = \"logcounts\",\n",
    "#    de.method = \"wilcox\",\n",
    "#    ref = list(MouseRNA = mmrna), \n",
    "#    labels = list(mmrna$label.fine),\n",
    "#)"
   ]
  },
  {
   "cell_type": "markdown",
   "metadata": {},
   "source": [
    "## Inspect predicted labels\n",
    "\n",
    "### Print cell type frequency"
   ]
  },
  {
   "cell_type": "code",
   "execution_count": null,
   "metadata": {},
   "outputs": [],
   "source": [
    "table(BP = pred.singler.bp$labels)\n",
    "table(HPCA = pred.singler.hpca$labels)\n",
    "table(Combined = pred.singler$labels)"
   ]
  },
  {
   "cell_type": "markdown",
   "metadata": {},
   "source": [
    "### Rename combined prediction labels"
   ]
  },
  {
   "cell_type": "code",
   "execution_count": null,
   "metadata": {},
   "outputs": [],
   "source": [
    "# Re-label for consistency\n",
    "HPCA_to_BP_labels <- function(pred = pred.singler) {\n",
    "    HPCA <- c(\"Astrocyte\",\"B_cell\",\"T_cells\",\"Endothelial_cells\",\"Epithelial_cells\",\n",
    "              \"Macrophage\",\"Monocyte\",\"NK_cell\",\"Smooth_muscle_cells\")\n",
    "    BP <- c(\"Astrocytes\",\"B-cells\",\"T-cells\",\"Endothelial cells\",\"Epithelial cells\",\n",
    "            \"Macrophages\",\"Monocytes\",\"NK cells\",\"Smooth muscle\")\n",
    "    \n",
    "    for(i in 1:length(HPCA)) {\n",
    "        if(sum(pred$labels == HPCA[i]) > 0) {\n",
    "            pred[pred$labels == HPCA[i],]$labels = BP[i]\n",
    "        }\n",
    "    }\n",
    "    \n",
    "    return(pred)\n",
    "}\n",
    "\n",
    "pred.singler <- HPCA_to_BP_labels(pred.singler)"
   ]
  },
  {
   "cell_type": "markdown",
   "metadata": {},
   "source": [
    "### Show prediction scores\n",
    "\n",
    "We use `plotScoreHeatmap()` to display the scores for all cells across all reference labels, which allows us to inspect the confidence of the predicted labels across the dataset. \n",
    "\n",
    "Ideally, each cell (i.e., column of the heatmap) should have one score that is obviously larger than the rest, indicating that it is unambiguously assigned to a single label. A spread of similar scores for a given cell indicates that the assignment is uncertain, though this may be acceptable if the uncertainty is distributed across similar cell types that cannot be easily resolved."
   ]
  },
  {
   "cell_type": "code",
   "execution_count": null,
   "metadata": {},
   "outputs": [],
   "source": [
    "fig(width = 16, height = 6)\n",
    "plotScoreHeatmap(pred.singler.bp, grid.vars = list(ncol = 2))\n",
    "reset.fig()"
   ]
  },
  {
   "cell_type": "code",
   "execution_count": null,
   "metadata": {},
   "outputs": [],
   "source": [
    "fig(width = 16, height = 9)\n",
    "plotScoreHeatmap(pred.singler.hpca, grid.vars = list(ncol = 2))\n",
    "reset.fig()"
   ]
  },
  {
   "cell_type": "code",
   "execution_count": null,
   "metadata": {},
   "outputs": [],
   "source": [
    "fig(width = 16, height = 11)\n",
    "# Save to obj to retrieve cell type colours later\n",
    "p <- plotScoreHeatmap(pred.singler, scores.use = 0, # Show combine scores\n",
    "                     fontsize = 11, fontsize_row = 12)\n",
    "reset.fig()"
   ]
  },
  {
   "cell_type": "code",
   "execution_count": null,
   "metadata": {},
   "outputs": [],
   "source": [
    "# Assign cell type\n",
    "#colData(cdScFiltAnnot)$CellType <- factor(pred.singler.bp)\n",
    "#colData(cdScFiltAnnot)$CellType <- factor(pred.singler.hpca)\n",
    "colData(cdScFiltAnnot)$CellType <- factor(pred.singler$labels) # Use BP + HPCA combined prediction\n",
    "table(colData(cdScFiltAnnot)$CellType)"
   ]
  },
  {
   "cell_type": "code",
   "execution_count": null,
   "metadata": {},
   "outputs": [],
   "source": [
    "# Use the same cell type colour from plotScoreHeatmap and store in c_celltype_col\n",
    "celltype.df <- data.frame(Cell = colData(cdScFiltAnnot)$Barcode, \n",
    "                          CellType = colData(cdScFiltAnnot)$CellType) %>% arrange(Cell)\n",
    "\n",
    "celltype.df$color <- data.frame(Cell = rownames(p$gtable$grobs[[5]]$gp[[1]]), \n",
    "                                color = p$gtable$grobs[[5]]$gp[[1]][,1]) %>% arrange(Cell) %>% pull(color) \n",
    "\n",
    "c_celltype_col <- distinct(celltype.df[,c(\"CellType\",\"color\")], CellType, .keep_all = TRUE)\n",
    "c_celltype_col <- setNames(c_celltype_col$color, c_celltype_col$CellType)\n",
    "c_celltype_col"
   ]
  },
  {
   "cell_type": "code",
   "execution_count": null,
   "metadata": {},
   "outputs": [],
   "source": [
    "## t-SNE with Cell type\n",
    "p <- plotReducedDim(cdScFiltAnnot, \"MNN-TSNE\", colour_by = \"CellType\", text_by = \"graphClusters\",\n",
    "                    point_size = 1, text_size = 6, text_colour = \"black\", point_alpha = 0.5, theme_size = 20) +\n",
    "    scale_color_manual(values = c_celltype_col) +\n",
    "    guides(color = guide_legend(title = \"CellType\", ncol = 2, override.aes = list(size = 4, alpha = 1))) +\n",
    "    ggtitle(\"t-SNE coloured by cell type\")\n",
    "\n",
    "fig(width = 16, height = 9)\n",
    "oldScaterPlotFix(p)\n",
    "reset.fig()"
   ]
  },
  {
   "cell_type": "markdown",
   "metadata": {},
   "source": [
    "## Parallel sets visualisation"
   ]
  },
  {
   "cell_type": "code",
   "execution_count": null,
   "metadata": {},
   "outputs": [],
   "source": [
    "# Use previously assigned colours\n",
    "color_assignments <- c(c_sample_col, c_clust_col, c_phase_col, c_celltype_col)\n",
    "color_assignments"
   ]
  },
  {
   "cell_type": "markdown",
   "metadata": {},
   "source": [
    "#### Cell Cycle vs. Cell Type"
   ]
  },
  {
   "cell_type": "code",
   "execution_count": null,
   "metadata": {},
   "outputs": [],
   "source": [
    "data <- as_tibble(colData(cdScFiltAnnot)[,c(\"CellCycle\",\"CellType\")]) %>% \n",
    "    group_by(CellCycle, CellType) %>% tally() %>% ungroup() %>% gather_set_data(1:2) %>% \n",
    "    mutate(x = factor(x, levels = c(\"CellCycle\",\"CellType\"))) # Cluster on the left and Cell type on the right\n",
    "\n",
    "data_labels <- tibble(group = c(rep(\"CellCycle\", length(levels(cdScFiltAnnot$CellCycle))), \n",
    "                                rep(\"CellType\", length(levels(cdScFiltAnnot$CellType))))) %>%\n",
    "    mutate(hjust = ifelse(group == \"CellType\", 0, 1), # CellType: left-justified, otherwise right-justified\n",
    "           nudge_x = ifelse(group == \"CellType\", 0.1, -0.1)) # Horizontal nudge text labels"
   ]
  },
  {
   "cell_type": "code",
   "execution_count": null,
   "metadata": {},
   "outputs": [],
   "source": [
    "p1 <- ggplot(data, aes(x, id = id, split = y, value = n)) + \n",
    "    geom_parallel_sets(aes(fill = CellCycle), alpha = 0.6, axis.width = 0.15) + \n",
    "    geom_parallel_sets_axes(aes(fill = y), color = \"black\", size = 0.3, axis.width = 0.1) + \n",
    "    geom_text(aes(y = n, split = y), stat = \"parallel_sets_axes\", hjust = data_labels$hjust, \n",
    "              nudge_x = data_labels$nudge_x, fontface = \"bold\", size = 5) + \n",
    "    scale_x_discrete(labels = c(\"Cell cycle phase\", \"Cell type\")) + # Change x-axis labels\n",
    "    scale_fill_manual(values = color_assignments) +\n",
    "    theme_void(base_size = 20) + \n",
    "    theme(legend.position = \"none\", plot.margin = unit(c(1, 1, 1, 1), \"lines\"),\n",
    "          axis.text.x = element_text(face = \"bold\", color = \"black\"))\n",
    "\n",
    "fig(width = 14, height = 16)\n",
    "p1\n",
    "reset.fig()"
   ]
  },
  {
   "cell_type": "code",
   "execution_count": null,
   "metadata": {},
   "outputs": [],
   "source": [
    "pdf(\"Parallel_sets_diagram_CellType_CellCycle.pdf\")\n",
    "p1\n",
    "dev.off()"
   ]
  },
  {
   "cell_type": "markdown",
   "metadata": {},
   "source": [
    "#### Hierarchical Cluster vs. Cell Type"
   ]
  },
  {
   "cell_type": "code",
   "execution_count": null,
   "metadata": {},
   "outputs": [],
   "source": [
    "data <- as_tibble(colData(cdScFiltAnnot)[,c(\"hclustClusters\",\"CellType\")]) %>% \n",
    "    group_by(hclustClusters, CellType) %>% tally() %>% ungroup() %>% gather_set_data(1:2) %>% \n",
    "    mutate(x = factor(x, levels = c(\"hclustClusters\",\"CellType\"))) # Cluster on the left and Cell type on the right\n",
    "\n",
    "data_labels <- tibble(group = c(rep(\"hclustClusters\", length(levels(cdScFiltAnnot$hclustClusters))), \n",
    "                                rep(\"CellType\", length(levels(cdScFiltAnnot$CellType))))) %>%\n",
    "    mutate(hjust = ifelse(group == \"hclustClusters\", 1, 0), # label: right-justified, CellType: left-justified\n",
    "           nudge_x = ifelse(group == \"hclustClusters\", -0.1, 0.1)) # Horizontal nudge labels"
   ]
  },
  {
   "cell_type": "code",
   "execution_count": null,
   "metadata": {},
   "outputs": [],
   "source": [
    "p2 <- ggplot(data, aes(x, id = id, split = y, value = n)) + \n",
    "    geom_parallel_sets(aes(fill = hclustClusters), alpha = 0.6, axis.width = 0.15) + \n",
    "    geom_parallel_sets_axes(aes(fill = y), color = \"black\", size = 0.3, axis.width = 0.1) + \n",
    "    geom_text(aes(y = n, split = y), stat = \"parallel_sets_axes\", hjust = data_labels$hjust, \n",
    "              nudge_x = data_labels$nudge_x, fontface = \"bold\", size = 5) + \n",
    "    scale_x_discrete(labels = c(\"Cluster\", \"Cell type\")) + # Change x-axis labels\n",
    "    scale_fill_manual(values = color_assignments) +\n",
    "    theme_void(base_size = 20) + \n",
    "    theme(legend.position = \"none\", plot.margin = unit(c(1, 1, 1, 1), \"lines\"),\n",
    "          axis.text.x = element_text(face = \"bold\", color = \"black\"))\n",
    "\n",
    "fig(width = 14, height = 16)\n",
    "p2\n",
    "reset.fig()"
   ]
  },
  {
   "cell_type": "code",
   "execution_count": null,
   "metadata": {},
   "outputs": [],
   "source": [
    "pdf(\"Parallel_sets_diagram_CellType_hclustCluster.pdf\")\n",
    "p2\n",
    "dev.off()"
   ]
  },
  {
   "cell_type": "markdown",
   "metadata": {},
   "source": [
    "#### Graph-based Cluster vs. Cell Type"
   ]
  },
  {
   "cell_type": "code",
   "execution_count": null,
   "metadata": {},
   "outputs": [],
   "source": [
    "data <- as_tibble(colData(cdScFiltAnnot)[,c(\"graphClusters\",\"CellType\")]) %>% \n",
    "    group_by(graphClusters, CellType) %>% tally() %>% ungroup() %>% gather_set_data(1:2) %>% \n",
    "    mutate(x = factor(x, levels = c(\"graphClusters\",\"CellType\"))) # Cluster on the left and Cell type on the right\n",
    "\n",
    "data_labels <- tibble(group = c(rep(\"graphClusters\", length(levels(cdScFiltAnnot$graphClusters))), \n",
    "                                rep(\"CellType\", length(levels(cdScFiltAnnot$CellType))))) %>%\n",
    "    mutate(hjust = ifelse(group == \"graphClusters\", 1, 0), # label: right-justified, CellType: left-justified\n",
    "           nudge_x = ifelse(group == \"graphClusters\", -0.1, 0.1)) # Horizontal nudge labels"
   ]
  },
  {
   "cell_type": "code",
   "execution_count": null,
   "metadata": {},
   "outputs": [],
   "source": [
    "p3 <- ggplot(data, aes(x, id = id, split = y, value = n)) + \n",
    "    geom_parallel_sets(aes(fill = graphClusters), alpha = 0.6, axis.width = 0.15) + \n",
    "    geom_parallel_sets_axes(aes(fill = y), color = \"black\", size = 0.3, axis.width = 0.1) + \n",
    "    geom_text(aes(y = n, split = y), stat = \"parallel_sets_axes\", hjust = data_labels$hjust, \n",
    "              nudge_x = data_labels$nudge_x, fontface = \"bold\", size = 5) + \n",
    "    scale_x_discrete(labels = c(\"Cluster\", \"Cell type\")) + # Change x-axis labels\n",
    "    scale_fill_manual(values = color_assignments) +\n",
    "    theme_void(base_size = 20) + \n",
    "    theme(legend.position = \"none\", plot.margin = unit(c(1, 1, 1, 1), \"lines\"),\n",
    "          axis.text.x = element_text(face = \"bold\", color = \"black\"))\n",
    "\n",
    "fig(width = 14, height = 16)\n",
    "p3\n",
    "reset.fig()"
   ]
  },
  {
   "cell_type": "code",
   "execution_count": null,
   "metadata": {},
   "outputs": [],
   "source": [
    "pdf(\"Parallel_sets_diagram_CellType_graphCluster.pdf\")\n",
    "p3\n",
    "dev.off()"
   ]
  },
  {
   "cell_type": "markdown",
   "metadata": {},
   "source": [
    "#### Sample vs. Cell Type"
   ]
  },
  {
   "cell_type": "code",
   "execution_count": null,
   "metadata": {},
   "outputs": [],
   "source": [
    "data <- as_tibble(colData(cdScFiltAnnot)[,c(\"Sample\",\"CellType\")]) %>% \n",
    "    group_by(Sample, CellType) %>% tally() %>% ungroup() %>% gather_set_data(1:2) %>% \n",
    "    mutate(x = factor(x, levels = c(\"Sample\",\"CellType\"))) # Cluster on the left and Cell type on the right\n",
    "\n",
    "data_labels <- tibble(group = c(rep(\"Sample\", length(levels(cdScFiltAnnot$Sample))), \n",
    "                                rep(\"CellType\", length(levels(cdScFiltAnnot$CellType))))) %>%\n",
    "    mutate(hjust = ifelse(group == \"CellType\", 0, 1), # CellType: left-justified, otherwise right-justified\n",
    "           nudge_x = ifelse(group == \"CellType\", 0.1, -0.1)) # Horizontal nudge text labels"
   ]
  },
  {
   "cell_type": "code",
   "execution_count": null,
   "metadata": {},
   "outputs": [],
   "source": [
    "p4 <- ggplot(data, aes(x, id = id, split = y, value = n)) + \n",
    "    geom_parallel_sets(aes(fill = Sample), alpha = 0.6, axis.width = 0.15) + \n",
    "    geom_parallel_sets_axes(aes(fill = y), color = \"black\", size = 0.3, axis.width = 0.1) + \n",
    "    geom_text(aes(y = n, split = y), stat = \"parallel_sets_axes\", hjust = data_labels$hjust, \n",
    "              nudge_x = data_labels$nudge_x, fontface = \"bold\", size = 5) + \n",
    "    scale_x_discrete(labels = c(\"Sample\", \"Cell type\")) + # Change x-axis labels\n",
    "    scale_fill_manual(values = color_assignments) +\n",
    "    theme_void(base_size = 20) + \n",
    "    theme(legend.position = \"none\", plot.margin = unit(c(1, 1, 1, 1), \"lines\"),\n",
    "          axis.text.x = element_text(face = \"bold\", color = \"black\"))\n",
    "\n",
    "fig(width = 14, height = 16)\n",
    "p4\n",
    "reset.fig()"
   ]
  },
  {
   "cell_type": "code",
   "execution_count": null,
   "metadata": {},
   "outputs": [],
   "source": [
    "pdf(\"Parallel_sets_diagram_CellType_Sample.pdf\")\n",
    "p4\n",
    "dev.off()"
   ]
  },
  {
   "cell_type": "code",
   "execution_count": null,
   "metadata": {},
   "outputs": [],
   "source": [
    "saveHDF5SummarizedExperiment(cdScFiltAnnot, dir = \"cdScFiltAnnotHDF5\", prefix = \"\", replace = TRUE,\n",
    "                             chunkdim = NULL, level = NULL, verbose = FALSE)"
   ]
  },
  {
   "cell_type": "code",
   "execution_count": null,
   "metadata": {},
   "outputs": [],
   "source": [
    "save.image(\"data.RData\")"
   ]
  },
  {
   "cell_type": "markdown",
   "metadata": {},
   "source": [
    "# Session Info"
   ]
  },
  {
   "cell_type": "code",
   "execution_count": null,
   "metadata": {},
   "outputs": [],
   "source": [
    "writeLines(capture.output(sessionInfo()), \"sessionInfo.txt\")\n",
    "sessionInfo()"
   ]
  },
  {
   "cell_type": "markdown",
   "metadata": {},
   "source": [
    "# References\n",
    "\n",
    "1. Lun ATL, McCarthy DJ and Marioni JC. A step-by-step workflow for low-level analysis of single-cell RNA-seq data with Bioconductor. F1000Research (2016) 5:2122 (https://doi.org/10.12688/f1000research.9501.2)\n",
    "2. Luecke MD and Theis FJ, Current best practices in single‐cell RNA‐seq analysis: a tutorial, Mol Syst Biol (2019) 15:e8746 https://doi.org/10.15252/msb.20188746)\n",
    "3. Amezquita R, Lun ATL, Hicks S and Gottardo R. Orchestrating Single-Cell Analysis with Bioconductor. Version: 1.0.6; Compiled: 2020-12-08. (http://bioconductor.org/books/release/OSCA/)\n",
    "4. Lun ATL. Aaron's single-cell thoughts (https://ltla.github.io/SingleCellThoughts/)\n",
    "5. University of Cambridge Bioinformatics Training Unit. Analysis of single cell RNA-seq data. Compiled: 2019-07-01. (https://scrnaseq-course.cog.sanger.ac.uk/website/index.html)\n",
    "6. Harvard Chan Bioinformatics Core. Introduction to Single-cell RNA-seq. (https://hbctraining.github.io/scRNA-seq/schedule/)"
   ]
  }
 ],
 "metadata": {
  "kernelspec": {
   "display_name": "R",
   "language": "R",
   "name": "ir"
  },
  "language_info": {
   "codemirror_mode": "r",
   "file_extension": ".r",
   "mimetype": "text/x-r-source",
   "name": "R",
   "pygments_lexer": "r",
   "version": "4.1.1"
  }
 },
 "nbformat": 4,
 "nbformat_minor": 2
}
